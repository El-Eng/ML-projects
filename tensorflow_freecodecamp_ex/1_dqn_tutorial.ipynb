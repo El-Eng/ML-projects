{
 "cells": [
  {
   "cell_type": "markdown",
   "metadata": {
    "id": "klGNgWREsvQv"
   },
   "source": [
    "##### Copyright 2021 The TF-Agents Authors."
   ]
  },
  {
   "cell_type": "code",
   "execution_count": 1,
   "metadata": {
    "cellView": "form",
    "execution": {
     "iopub.execute_input": "2022-05-07T11:05:37.503022Z",
     "iopub.status.busy": "2022-05-07T11:05:37.502363Z",
     "iopub.status.idle": "2022-05-07T11:05:37.506724Z",
     "shell.execute_reply": "2022-05-07T11:05:37.506104Z"
    },
    "id": "nQnmcm0oI1Q-"
   },
   "outputs": [],
   "source": [
    "#@title Licensed under the Apache License, Version 2.0 (the \"License\");\n",
    "# you may not use this file except in compliance with the License.\n",
    "# You may obtain a copy of the License at\n",
    "#\n",
    "# https://www.apache.org/licenses/LICENSE-2.0\n",
    "#\n",
    "# Unless required by applicable law or agreed to in writing, software\n",
    "# distributed under the License is distributed on an \"AS IS\" BASIS,\n",
    "# WITHOUT WARRANTIES OR CONDITIONS OF ANY KIND, either express or implied.\n",
    "# See the License for the specific language governing permissions and\n",
    "# limitations under the License."
   ]
  },
  {
   "cell_type": "markdown",
   "metadata": {
    "id": "pmDI-h7cI0tI"
   },
   "source": [
    "# Train a Deep Q Network with TF-Agents\n",
    "\n",
    "<table class=\"tfo-notebook-buttons\" align=\"left\">\n",
    "  <td>\n",
    "    <a target=\"_blank\" href=\"https://www.tensorflow.org/agents/tutorials/1_dqn_tutorial\">\n",
    "    <img src=\"https://www.tensorflow.org/images/tf_logo_32px.png\" />\n",
    "    View on TensorFlow.org</a>\n",
    "  </td>\n",
    "  <td>\n",
    "    <a target=\"_blank\" href=\"https://colab.research.google.com/github/tensorflow/agents/blob/master/docs/tutorials/1_dqn_tutorial.ipynb\">\n",
    "    <img src=\"https://www.tensorflow.org/images/colab_logo_32px.png\" />\n",
    "    Run in Google Colab</a>\n",
    "  </td>\n",
    "  <td>\n",
    "    <a target=\"_blank\" href=\"https://github.com/tensorflow/agents/blob/master/docs/tutorials/1_dqn_tutorial.ipynb\">\n",
    "    <img src=\"https://www.tensorflow.org/images/GitHub-Mark-32px.png\" />\n",
    "    View source on GitHub</a>\n",
    "  </td>\n",
    "  <td>\n",
    "    <a href=\"https://storage.googleapis.com/tensorflow_docs/agents/docs/tutorials/1_dqn_tutorial.ipynb\"><img src=\"https://www.tensorflow.org/images/download_logo_32px.png\" />Download notebook</a>\n",
    "  </td>\n",
    "</table>"
   ]
  },
  {
   "cell_type": "markdown",
   "metadata": {
    "id": "lsaQlK8fFQqH"
   },
   "source": [
    "## Introduction\n"
   ]
  },
  {
   "cell_type": "markdown",
   "metadata": {
    "id": "cKOCZlhUgXVK"
   },
   "source": [
    "This example shows how to train a [DQN (Deep Q Networks)](https://storage.googleapis.com/deepmind-media/dqn/DQNNaturePaper.pdf)  agent on the Cartpole environment using the TF-Agents library.\n",
    "\n",
    "![Cartpole environment](https://raw.githubusercontent.com/tensorflow/agents/master/docs/tutorials/images/cartpole.png)\n",
    "\n",
    "It will walk you through all the components in a Reinforcement Learning (RL) pipeline for training, evaluation and data collection.\n",
    "\n",
    "\n",
    "To run this code live, click the 'Run in Google Colab' link above.\n"
   ]
  },
  {
   "cell_type": "markdown",
   "metadata": {
    "id": "1u9QVVsShC9X"
   },
   "source": [
    "## Setup"
   ]
  },
  {
   "cell_type": "markdown",
   "metadata": {
    "id": "kNrNXKI7bINP"
   },
   "source": [
    "If you haven't installed the following dependencies, run:"
   ]
  },
  {
   "cell_type": "code",
   "execution_count": 2,
   "metadata": {
    "execution": {
     "iopub.execute_input": "2022-05-07T11:05:37.510538Z",
     "iopub.status.busy": "2022-05-07T11:05:37.510145Z",
     "iopub.status.idle": "2022-05-07T11:06:33.612185Z",
     "shell.execute_reply": "2022-05-07T11:06:33.611389Z"
    },
    "id": "KEHR2Ui-lo8O"
   },
   "outputs": [
    {
     "name": "stdout",
     "output_type": "stream",
     "text": [
      "\r",
      "0% [Working]"
     ]
    },
    {
     "name": "stdout",
     "output_type": "stream",
     "text": [
      "\r",
      "            \r",
      "Hit:1 http://us-central1.gce.archive.ubuntu.com/ubuntu bionic InRelease\r\n",
      "\r",
      "0% [Connecting to security.ubuntu.com (185.125.190.36)] [Connected to packages.\r",
      "                                                                               \r",
      "Get:2 http://us-central1.gce.archive.ubuntu.com/ubuntu bionic-updates InRelease [88.7 kB]\r\n",
      "\r",
      "                                                                               \r",
      "Get:3 http://us-central1.gce.archive.ubuntu.com/ubuntu bionic-backports InRelease [74.6 kB]\r\n",
      "\r",
      "0% [Connecting to security.ubuntu.com (185.125.190.36)] [Connected to packages.\r",
      "0% [1 InRelease gpgv 242 kB] [Connecting to security.ubuntu.com (185.125.190.36"
     ]
    },
    {
     "name": "stdout",
     "output_type": "stream",
     "text": [
      "\r",
      "                                                                               \r",
      "Hit:4 https://nvidia.github.io/libnvidia-container/stable/ubuntu18.04/amd64  InRelease\r\n",
      "\r",
      "0% [1 InRelease gpgv 242 kB] [Connecting to security.ubuntu.com (185.125.190.36\r",
      "                                                                               \r",
      "Get:5 https://nvidia.github.io/nvidia-container-runtime/ubuntu18.04/amd64  InRelease [1481 B]\r\n",
      "\r",
      "0% [1 InRelease gpgv 242 kB] [Connecting to security.ubuntu.com (185.125.190.36\r",
      "0% [1 InRelease gpgv 242 kB] [Connecting to security.ubuntu.com (185.125.190.36\r",
      "                                                                               \r",
      "Ign:6 http://developer.download.nvidia.com/compute/machine-learning/repos/ubuntu1804/x86_64  InRelease\r\n",
      "\r",
      "0% [1 InRelease gpgv 242 kB] [Connecting to security.ubuntu.com (185.125.190.36\r",
      "                                                                               \r",
      "Get:7 https://nvidia.github.io/nvidia-docker/ubuntu18.04/amd64  InRelease [1474 B]\r\n",
      "\r",
      "0% [1 InRelease gpgv 242 kB] [Connecting to security.ubuntu.com (185.125.190.36\r",
      "0% [1 InRelease gpgv 242 kB] [Connecting to security.ubuntu.com (185.125.190.36\r",
      "                                                                               \r",
      "Get:8 http://packages.cloud.google.com/apt google-cloud-logging-wheezy InRelease [5483 B]\r\n",
      "\r",
      "0% [1 InRelease gpgv 242 kB] [Connecting to security.ubuntu.com (185.125.190.36\r",
      "                                                                               \r",
      "Get:9 https://packages.cloud.google.com/apt eip-cloud-bionic InRelease [5419 B]\r\n",
      "\r",
      "0% [1 InRelease gpgv 242 kB] [Connecting to security.ubuntu.com (185.125.190.36\r",
      "0% [1 InRelease gpgv 242 kB] [Connecting to security.ubuntu.com (185.125.190.36\r",
      "0% [1 InRelease gpgv 242 kB] [Connecting to security.ubuntu.com (185.125.190.36\r",
      "                                                                               \r",
      "Hit:10 http://developer.download.nvidia.com/compute/machine-learning/repos/ubuntu1804/x86_64  Release\r\n",
      "\r",
      "0% [1 InRelease gpgv 242 kB] [Connecting to security.ubuntu.com (185.125.190.36"
     ]
    },
    {
     "name": "stdout",
     "output_type": "stream",
     "text": [
      "\r",
      "                                                                               \r",
      "0% [Waiting for headers] [Waiting for headers]\r",
      "0% [2 InRelease gpgv 88.7 kB] [Waiting for headers] [Waiting for headers]\r",
      "                                                                         \r",
      "Hit:11 http://archive.canonical.com/ubuntu bionic InRelease\r\n",
      "\r",
      "                                                                         \r",
      "0% [2 InRelease gpgv 88.7 kB] [Waiting for headers]"
     ]
    },
    {
     "name": "stdout",
     "output_type": "stream",
     "text": [
      "\r",
      "                                                   \r",
      "0% [Waiting for headers]\r",
      "0% [3 InRelease gpgv 74.6 kB] [Waiting for headers]\r",
      "                                                   \r",
      "Get:12 http://security.ubuntu.com/ubuntu bionic-security InRelease [88.7 kB]\r\n",
      "\r",
      "0% [3 InRelease gpgv 74.6 kB] [12 InRelease 12.6 kB/88.7 kB 14%]"
     ]
    },
    {
     "name": "stdout",
     "output_type": "stream",
     "text": [
      "\r",
      "                                                                \r",
      "0% [12 InRelease 12.6 kB/88.7 kB 14%]\r",
      "0% [4 InRelease gpgv 1484 B] [12 InRelease 12.6 kB/88.7 kB 14%]"
     ]
    },
    {
     "name": "stdout",
     "output_type": "stream",
     "text": [
      "\r",
      "                                                               \r",
      "0% [12 InRelease 38.3 kB/88.7 kB 43%]\r",
      "0% [5 InRelease gpgv 1481 B] [12 InRelease 38.3 kB/88.7 kB 43%]"
     ]
    },
    {
     "name": "stdout",
     "output_type": "stream",
     "text": [
      "\r",
      "                                                               \r",
      "0% [12 InRelease 65.4 kB/88.7 kB 74%]\r",
      "0% [7 InRelease gpgv 1474 B] [12 InRelease 65.4 kB/88.7 kB 74%]"
     ]
    },
    {
     "name": "stdout",
     "output_type": "stream",
     "text": [
      "\r",
      "                                                               \r",
      "0% [7 InRelease gpgv 1474 B]"
     ]
    },
    {
     "name": "stdout",
     "output_type": "stream",
     "text": [
      "\r",
      "                            \r",
      "0% [Working]\r",
      "0% [9 InRelease gpgv 5419 B]"
     ]
    },
    {
     "name": "stdout",
     "output_type": "stream",
     "text": [
      "\r",
      "                            \r",
      "Err:9 https://packages.cloud.google.com/apt eip-cloud-bionic InRelease\r\n",
      "  The following signatures couldn't be verified because the public key is not available: NO_PUBKEY FEEA9169307EA071 NO_PUBKEY 8B57C5C2836F4BEB\r\n",
      "\r",
      "                            \r",
      "0% [Working]\r",
      "0% [8 InRelease gpgv 5483 B]"
     ]
    },
    {
     "name": "stdout",
     "output_type": "stream",
     "text": [
      "\r",
      "                            \r",
      "Err:8 http://packages.cloud.google.com/apt google-cloud-logging-wheezy InRelease\r\n",
      "  The following signatures couldn't be verified because the public key is not available: NO_PUBKEY FEEA9169307EA071 NO_PUBKEY 8B57C5C2836F4BEB\r\n",
      "\r",
      "                            \r",
      "0% [Working]\r",
      "0% [Release.gpg gpgv 564 B]"
     ]
    },
    {
     "name": "stdout",
     "output_type": "stream",
     "text": [
      "\r",
      "                           \r",
      "0% [Working]\r",
      "0% [11 InRelease gpgv 10.2 kB]"
     ]
    },
    {
     "name": "stdout",
     "output_type": "stream",
     "text": [
      "\r",
      "                              \r",
      "0% [Working]\r",
      "0% [12 InRelease gpgv 88.7 kB]"
     ]
    },
    {
     "name": "stdout",
     "output_type": "stream",
     "text": [
      "\r",
      "                              \r",
      "0% [Working]\r",
      "            \r",
      "Fetched 266 kB in 1s (288 kB/s)\r\n"
     ]
    },
    {
     "name": "stdout",
     "output_type": "stream",
     "text": [
      "\r",
      "Reading package lists... 0%\r"
     ]
    },
    {
     "name": "stdout",
     "output_type": "stream",
     "text": [
      "\r",
      "Reading package lists... 0%\r",
      "\r",
      "Reading package lists... 0%\r"
     ]
    },
    {
     "name": "stdout",
     "output_type": "stream",
     "text": [
      "\r",
      "Reading package lists... 3%\r",
      "\r",
      "Reading package lists... 3%\r",
      "\r",
      "Reading package lists... 5%\r",
      "\r",
      "Reading package lists... 5%\r",
      "\r",
      "Reading package lists... 5%\r",
      "\r",
      "Reading package lists... 5%\r",
      "\r",
      "Reading package lists... 5%\r",
      "\r",
      "Reading package lists... 5%\r"
     ]
    },
    {
     "name": "stdout",
     "output_type": "stream",
     "text": [
      "\r",
      "Reading package lists... 34%\r",
      "\r",
      "Reading package lists... 34%\r"
     ]
    },
    {
     "name": "stdout",
     "output_type": "stream",
     "text": [
      "\r",
      "Reading package lists... 50%\r",
      "\r",
      "Reading package lists... 50%\r",
      "\r",
      "Reading package lists... 50%\r",
      "\r",
      "Reading package lists... 50%\r",
      "\r",
      "Reading package lists... 50%\r",
      "\r",
      "Reading package lists... 50%\r"
     ]
    },
    {
     "name": "stdout",
     "output_type": "stream",
     "text": [
      "\r",
      "Reading package lists... 56%\r",
      "\r",
      "Reading package lists... 59%\r",
      "\r",
      "Reading package lists... 59%\r"
     ]
    },
    {
     "name": "stdout",
     "output_type": "stream",
     "text": [
      "\r",
      "Reading package lists... 64%\r",
      "\r",
      "Reading package lists... 64%\r"
     ]
    },
    {
     "name": "stdout",
     "output_type": "stream",
     "text": [
      "\r",
      "Reading package lists... 67%\r",
      "\r",
      "Reading package lists... 67%\r",
      "\r",
      "Reading package lists... 68%\r",
      "\r",
      "Reading package lists... 68%\r"
     ]
    },
    {
     "name": "stdout",
     "output_type": "stream",
     "text": [
      "\r",
      "Reading package lists... 74%\r",
      "\r",
      "Reading package lists... 74%\r"
     ]
    },
    {
     "name": "stdout",
     "output_type": "stream",
     "text": [
      "\r",
      "Reading package lists... 77%\r",
      "\r",
      "Reading package lists... 77%\r",
      "\r",
      "Reading package lists... 77%\r",
      "\r",
      "Reading package lists... 77%\r",
      "\r",
      "Reading package lists... 77%\r",
      "\r",
      "Reading package lists... 77%\r",
      "\r",
      "Reading package lists... 77%\r",
      "\r",
      "Reading package lists... 77%\r",
      "\r",
      "Reading package lists... 77%\r",
      "\r",
      "Reading package lists... 77%\r",
      "\r",
      "Reading package lists... 77%\r",
      "\r",
      "Reading package lists... 77%\r",
      "\r",
      "Reading package lists... 77%\r",
      "\r",
      "Reading package lists... 77%\r",
      "\r",
      "Reading package lists... 84%\r",
      "\r",
      "Reading package lists... 84%\r"
     ]
    },
    {
     "name": "stdout",
     "output_type": "stream",
     "text": [
      "\r",
      "Reading package lists... 89%\r",
      "\r",
      "Reading package lists... 89%\r",
      "\r",
      "Reading package lists... 92%\r",
      "\r",
      "Reading package lists... 92%\r",
      "\r",
      "Reading package lists... 93%\r",
      "\r",
      "Reading package lists... 93%\r",
      "\r",
      "Reading package lists... 97%\r",
      "\r",
      "Reading package lists... 97%\r"
     ]
    },
    {
     "name": "stdout",
     "output_type": "stream",
     "text": [
      "\r",
      "Reading package lists... 99%\r",
      "\r",
      "Reading package lists... 99%\r",
      "\r",
      "Reading package lists... 99%\r",
      "\r",
      "Reading package lists... 99%\r",
      "\r",
      "Reading package lists... 99%\r",
      "\r",
      "Reading package lists... 99%\r",
      "\r",
      "Reading package lists... 99%\r",
      "\r",
      "Reading package lists... 99%\r",
      "\r",
      "Reading package lists... 99%\r",
      "\r",
      "Reading package lists... 99%\r",
      "\r",
      "Reading package lists... 99%\r",
      "\r",
      "Reading package lists... 99%\r",
      "\r",
      "Reading package lists... 99%\r",
      "\r",
      "Reading package lists... 99%\r",
      "\r",
      "Reading package lists... 99%\r",
      "\r",
      "Reading package lists... 99%\r",
      "\r",
      "Reading package lists... 99%\r",
      "\r",
      "Reading package lists... 99%\r",
      "\r",
      "Reading package lists... 99%\r",
      "\r",
      "Reading package lists... 99%\r"
     ]
    },
    {
     "name": "stdout",
     "output_type": "stream",
     "text": [
      "\r",
      "Reading package lists... 99%\r",
      "\r",
      "Reading package lists... 99%\r"
     ]
    },
    {
     "name": "stdout",
     "output_type": "stream",
     "text": [
      "\r",
      "Reading package lists... Done\r",
      "\r\n"
     ]
    },
    {
     "name": "stdout",
     "output_type": "stream",
     "text": [
      "W: An error occurred during the signature verification. The repository is not updated and the previous index files will be used. GPG error: https://packages.cloud.google.com/apt eip-cloud-bionic InRelease: The following signatures couldn't be verified because the public key is not available: NO_PUBKEY FEEA9169307EA071 NO_PUBKEY 8B57C5C2836F4BEB\r\n",
      "W: An error occurred during the signature verification. The repository is not updated and the previous index files will be used. GPG error: http://packages.cloud.google.com/apt google-cloud-logging-wheezy InRelease: The following signatures couldn't be verified because the public key is not available: NO_PUBKEY FEEA9169307EA071 NO_PUBKEY 8B57C5C2836F4BEB\r\n",
      "W: Failed to fetch https://packages.cloud.google.com/apt/dists/eip-cloud-bionic/InRelease  The following signatures couldn't be verified because the public key is not available: NO_PUBKEY FEEA9169307EA071 NO_PUBKEY 8B57C5C2836F4BEB\r\n",
      "W: Failed to fetch http://packages.cloud.google.com/apt/dists/google-cloud-logging-wheezy/InRelease  The following signatures couldn't be verified because the public key is not available: NO_PUBKEY FEEA9169307EA071 NO_PUBKEY 8B57C5C2836F4BEB\r\n",
      "W: Some index files failed to download. They have been ignored, or old ones used instead.\r\n"
     ]
    },
    {
     "name": "stdout",
     "output_type": "stream",
     "text": [
      "\r",
      "Reading package lists... 0%\r"
     ]
    },
    {
     "name": "stdout",
     "output_type": "stream",
     "text": [
      "\r",
      "Reading package lists... 100%\r",
      "\r",
      "Reading package lists... Done\r",
      "\r\n",
      "\r",
      "Building dependency tree... 0%\r",
      "\r",
      "Building dependency tree... 0%\r"
     ]
    },
    {
     "name": "stdout",
     "output_type": "stream",
     "text": [
      "\r",
      "Building dependency tree... 50%\r",
      "\r",
      "Building dependency tree... 50%\r"
     ]
    },
    {
     "name": "stdout",
     "output_type": "stream",
     "text": [
      "\r",
      "Building dependency tree       \r",
      "\r\n",
      "\r",
      "Reading state information... 0%\r",
      "\r",
      "Reading state information... 0%\r",
      "\r",
      "Reading state information... Done\r",
      "\r\n",
      "freeglut3-dev is already the newest version (2.8.1-3).\r\n"
     ]
    },
    {
     "name": "stdout",
     "output_type": "stream",
     "text": [
      "The following packages were automatically installed and are no longer required:\r\n",
      "  linux-gcp-5.4-headers-5.4.0-1040 linux-gcp-5.4-headers-5.4.0-1043\r\n",
      "  linux-gcp-5.4-headers-5.4.0-1044 linux-gcp-5.4-headers-5.4.0-1049\r\n",
      "  linux-gcp-5.4-headers-5.4.0-1052 linux-gcp-5.4-headers-5.4.0-1062\r\n",
      "  linux-headers-5.4.0-1062-gcp linux-image-5.4.0-1062-gcp\r\n",
      "  linux-modules-5.4.0-1062-gcp linux-modules-extra-5.4.0-1062-gcp\r\n",
      "Use 'sudo apt autoremove' to remove them.\r\n",
      "The following additional packages will be installed:\r\n",
      "  i965-va-driver libaacs0 libass9 libasyncns0 libavc1394-0 libavcodec57\r\n",
      "  libavdevice57 libavfilter6 libavformat57 libavresample3 libavutil55\r\n",
      "  libbdplus0 libbluray2 libbs2b0 libcaca0 libcdio-cdda2 libcdio-paranoia2\r\n",
      "  libcdio17 libchromaprint1 libcrystalhd3 libdc1394-22 libfftw3-double3\r\n",
      "  libflac8 libflite1 libgme0 libgsm1 libiec61883-0 libjack-jackd2-0\r\n",
      "  libmp3lame0 libmpg123-0 libmysofa0 libnorm1 libnuma1 libogg0 libopenal-data\r\n",
      "  libopenal1 libopenjp2-7 libopenmpt0 libopus0 libpgm-5.2-0 libpostproc54\r\n",
      "  libpulse0 libraw1394-11 librubberband2 libsamplerate0 libsdl2-2.0-0\r\n",
      "  libshine3 libsnappy1v5 libsndfile1 libsndio6.1 libsodium23 libsoxr0\r\n",
      "  libspeex1 libssh-gcrypt-4 libswresample2 libswscale4 libtheora0 libtwolame0\r\n",
      "  libva-drm2 libva-x11-2 libva2 libvorbis0a libvorbisenc2 libvorbisfile3\r\n",
      "  libvpx5 libwavpack1 libwebpmux3 libx264-152 libx265-146 libxss1 libxv1\r\n",
      "  libxvidcore4 libzmq5 libzvbi-common libzvbi0 mesa-va-drivers va-driver-all\r\n",
      "Suggested packages:\r\n",
      "  ffmpeg-doc i965-va-driver-shaders libbluray-bdj firmware-crystalhd\r\n",
      "  libfftw3-bin libfftw3-dev jackd2 libportaudio2 opus-tools pulseaudio\r\n",
      "  libraw1394-doc sndiod speex\r\n"
     ]
    },
    {
     "name": "stdout",
     "output_type": "stream",
     "text": [
      "The following NEW packages will be installed:\r\n",
      "  ffmpeg i965-va-driver libaacs0 libass9 libasyncns0 libavc1394-0 libavcodec57\r\n",
      "  libavdevice57 libavfilter6 libavformat57 libavresample3 libavutil55\r\n",
      "  libbdplus0 libbluray2 libbs2b0 libcaca0 libcdio-cdda2 libcdio-paranoia2\r\n",
      "  libcdio17 libchromaprint1 libcrystalhd3 libdc1394-22 libfftw3-double3\r\n",
      "  libflac8 libflite1 libgme0 libgsm1 libiec61883-0 libjack-jackd2-0\r\n",
      "  libmp3lame0 libmpg123-0 libmysofa0 libnorm1 libnuma1 libogg0 libopenal-data\r\n",
      "  libopenal1 libopenjp2-7 libopenmpt0 libopus0 libpgm-5.2-0 libpostproc54\r\n",
      "  libpulse0 libraw1394-11 librubberband2 libsamplerate0 libsdl2-2.0-0\r\n",
      "  libshine3 libsnappy1v5 libsndfile1 libsndio6.1 libsodium23 libsoxr0\r\n",
      "  libspeex1 libssh-gcrypt-4 libswresample2 libswscale4 libtheora0 libtwolame0\r\n",
      "  libva-drm2 libva-x11-2 libva2 libvorbis0a libvorbisenc2 libvorbisfile3\r\n",
      "  libvpx5 libwavpack1 libwebpmux3 libx264-152 libx265-146 libxss1 libxv1\r\n",
      "  libxvidcore4 libzmq5 libzvbi-common libzvbi0 mesa-va-drivers va-driver-all\r\n",
      "  xvfb\r\n",
      "0 upgraded, 79 newly installed, 0 to remove and 115 not upgraded.\r\n",
      "Need to get 35.7 MB of archives.\r\n",
      "After this operation, 128 MB of additional disk space will be used.\r\n",
      "\r",
      "0% [Working]\r",
      "            \r",
      "Get:1 http://us-central1.gce.archive.ubuntu.com/ubuntu bionic/main amd64 libogg0 amd64 1.3.2-1 [17.2 kB]\r\n",
      "\r",
      "0% [1 libogg0 13.7 kB/17.2 kB 80%]\r",
      "                                  \r",
      "0% [Working]\r",
      "            \r",
      "Get:2 http://us-central1.gce.archive.ubuntu.com/ubuntu bionic/main amd64 libxss1 amd64 1:1.2.2-1 [8582 B]\r\n",
      "\r",
      "0% [2 libxss1 8582 B/8582 B 100%]\r",
      "                                 \r",
      "1% [Waiting for headers]\r",
      "                        \r",
      "Get:3 http://us-central1.gce.archive.ubuntu.com/ubuntu bionic-updates/main amd64 libnuma1 amd64 2.0.11-2.1ubuntu0.1 [22.0 kB]\r\n",
      "\r",
      "1% [3 libnuma1 8047 B/22.0 kB 37%]\r",
      "                                  \r",
      "1% [Waiting for headers]\r",
      "                        \r",
      "Get:4 http://us-central1.gce.archive.ubuntu.com/ubuntu bionic/universe amd64 libva2 amd64 2.1.0-3 [47.6 kB]\r\n",
      "\r",
      "1% [4 libva2 12.3 kB/47.6 kB 26%]\r",
      "                                 \r",
      "1% [Waiting for headers]"
     ]
    },
    {
     "name": "stdout",
     "output_type": "stream",
     "text": [
      "\r",
      "                        \r",
      "Get:5 http://us-central1.gce.archive.ubuntu.com/ubuntu bionic/universe amd64 libva-drm2 amd64 2.1.0-3 [6880 B]\r\n",
      "\r",
      "1% [5 libva-drm2 6880 B/6880 B 100%]\r",
      "                                    \r",
      "1% [Waiting for headers]\r",
      "                        \r",
      "Get:6 http://us-central1.gce.archive.ubuntu.com/ubuntu bionic/universe amd64 libva-x11-2 amd64 2.1.0-3 [11.5 kB]\r\n",
      "\r",
      "2% [6 libva-x11-2 11.5 kB/11.5 kB 100%]\r",
      "                                       \r",
      "2% [Waiting for headers]\r",
      "                        \r",
      "Get:7 http://us-central1.gce.archive.ubuntu.com/ubuntu bionic-updates/universe amd64 libavutil55 amd64 7:3.4.8-0ubuntu0.2 [190 kB]\r\n",
      "\r",
      "2% [7 libavutil55 12.3 kB/190 kB 6%]\r",
      "                                    \r",
      "2% [Waiting for headers]\r",
      "                        \r",
      "Get:8 http://us-central1.gce.archive.ubuntu.com/ubuntu bionic/universe amd64 libcrystalhd3 amd64 1:0.0~git20110715.fdd2f19-12 [45.8 kB]\r\n",
      "\r",
      "2% [8 libcrystalhd3 12.3 kB/45.8 kB 27%]\r",
      "                                        \r",
      "3% [Waiting for headers]"
     ]
    },
    {
     "name": "stdout",
     "output_type": "stream",
     "text": [
      "\r",
      "                        \r",
      "Get:9 http://us-central1.gce.archive.ubuntu.com/ubuntu bionic/universe amd64 libgsm1 amd64 1.0.13-4build1 [22.4 kB]\r\n",
      "\r",
      "3% [9 libgsm1 22.4 kB/22.4 kB 100%]\r",
      "                                   \r",
      "3% [Waiting for headers]\r",
      "                        \r",
      "Get:10 http://us-central1.gce.archive.ubuntu.com/ubuntu bionic/main amd64 libmp3lame0 amd64 3.100-2 [136 kB]\r\n",
      "\r",
      "3% [10 libmp3lame0 6634 B/136 kB 5%]\r",
      "                                    \r",
      "4% [Waiting for headers]\r",
      "                        \r",
      "Get:11 http://us-central1.gce.archive.ubuntu.com/ubuntu bionic-updates/universe amd64 libopenjp2-7 amd64 2.3.0-2build0.18.04.1 [145 kB]\r\n",
      "\r",
      "4% [11 libopenjp2-7 6637 B/145 kB 5%]\r",
      "                                     \r",
      "4% [Waiting for headers]\r",
      "                        \r",
      "Get:12 http://us-central1.gce.archive.ubuntu.com/ubuntu bionic/main amd64 libopus0 amd64 1.1.2-1ubuntu1 [159 kB]\r\n",
      "\r",
      "4% [12 libopus0 12.3 kB/159 kB 8%]\r",
      "                                  \r",
      "5% [Waiting for headers]\r",
      "                        \r",
      "Get:13 http://us-central1.gce.archive.ubuntu.com/ubuntu bionic/universe amd64 libshine3 amd64 3.1.1-1 [22.9 kB]\r\n",
      "\r",
      "5% [13 libshine3 12.4 kB/22.9 kB 54%]\r",
      "                                     \r",
      "5% [Waiting for headers]\r",
      "                        \r",
      "Get:14 http://us-central1.gce.archive.ubuntu.com/ubuntu bionic/main amd64 libsnappy1v5 amd64 1.1.7-1 [16.0 kB]\r\n",
      "\r",
      "5% [14 libsnappy1v5 11.7 kB/16.0 kB 73%]\r",
      "                                        \r",
      "5% [Waiting for headers]\r",
      "                        \r",
      "Get:15 http://us-central1.gce.archive.ubuntu.com/ubuntu bionic-updates/main amd64 libspeex1 amd64 1.2~rc1.2-1ubuntu2.1 [52.1 kB]\r\n",
      "\r",
      "5% [15 libspeex1 10.9 kB/52.1 kB 21%]\r",
      "                                     \r",
      "6% [Waiting for headers]\r",
      "                        \r",
      "Get:16 http://us-central1.gce.archive.ubuntu.com/ubuntu bionic/universe amd64 libsoxr0 amd64 0.1.2-3 [65.9 kB]\r\n",
      "\r",
      "6% [16 libsoxr0 8043 B/65.9 kB 12%]\r",
      "                                   \r",
      "6% [Waiting for headers]\r",
      "                        \r",
      "Get:17 http://us-central1.gce.archive.ubuntu.com/ubuntu bionic-updates/universe amd64 libswresample2 amd64 7:3.4.8-0ubuntu0.2 [55.2 kB]\r\n",
      "\r",
      "6% [17 libswresample2 7559 B/55.2 kB 14%]\r",
      "                                         \r",
      "7% [Waiting for headers]\r",
      "                        \r",
      "Get:18 http://us-central1.gce.archive.ubuntu.com/ubuntu bionic/main amd64 libtheora0 amd64 1.1.1+dfsg.1-14 [170 kB]\r\n",
      "\r",
      "7% [18 libtheora0 6637 B/170 kB 4%]\r",
      "                                   \r",
      "7% [Waiting for headers]\r",
      "                        \r",
      "Get:19 http://us-central1.gce.archive.ubuntu.com/ubuntu bionic/main amd64 libtwolame0 amd64 0.3.13-3 [46.7 kB]\r\n",
      "\r",
      "7% [19 libtwolame0 8044 B/46.7 kB 17%]\r",
      "                                      \r",
      "8% [Waiting for headers]\r",
      "                        \r",
      "Get:20 http://us-central1.gce.archive.ubuntu.com/ubuntu bionic/main amd64 libvorbis0a amd64 1.3.5-4.2 [86.4 kB]\r\n",
      "\r",
      "8% [20 libvorbis0a 12.3 kB/86.4 kB 14%]\r",
      "                                       \r",
      "8% [Waiting for headers]\r",
      "                        \r",
      "Get:21 http://us-central1.gce.archive.ubuntu.com/ubuntu bionic/main amd64 libvorbisenc2 amd64 1.3.5-4.2 [70.7 kB]\r\n",
      "\r",
      "8% [21 libvorbisenc2 6635 B/70.7 kB 9%]\r",
      "                                       \r",
      "8% [Waiting for headers]\r",
      "                        \r",
      "Get:22 http://us-central1.gce.archive.ubuntu.com/ubuntu bionic-updates/main amd64 libvpx5 amd64 1.7.0-3ubuntu0.18.04.1 [796 kB]\r\n",
      "\r",
      "8% [22 libvpx5 8046 B/796 kB 1%]"
     ]
    },
    {
     "name": "stdout",
     "output_type": "stream",
     "text": [
      "\r",
      "                                \r",
      "Get:23 http://us-central1.gce.archive.ubuntu.com/ubuntu bionic-updates/main amd64 libwavpack1 amd64 5.1.0-2ubuntu1.5 [76.8 kB]\r\n",
      "\r",
      "11% [23 libwavpack1 25.7 kB/76.8 kB 33%]\r",
      "                                        \r",
      "11% [Waiting for headers]\r",
      "                         \r",
      "Get:24 http://us-central1.gce.archive.ubuntu.com/ubuntu bionic-updates/main amd64 libwebpmux3 amd64 0.6.1-2ubuntu0.18.04.1 [19.6 kB]\r\n",
      "\r",
      "11% [24 libwebpmux3 14.0 kB/19.6 kB 72%]\r",
      "                                        \r",
      "11% [Working]\r",
      "             \r",
      "Get:25 http://us-central1.gce.archive.ubuntu.com/ubuntu bionic/universe amd64 libx264-152 amd64 2:0.152.2854+gite9a5903-2 [609 kB]\r\n",
      "\r",
      "11% [25 libx264-152 27.8 kB/609 kB 5%]"
     ]
    },
    {
     "name": "stdout",
     "output_type": "stream",
     "text": [
      "\r",
      "                                      \r",
      "13% [Waiting for headers]\r",
      "                         \r",
      "Get:26 http://us-central1.gce.archive.ubuntu.com/ubuntu bionic/universe amd64 libx265-146 amd64 2.6-3 [1026 kB]\r\n",
      "\r",
      "13% [26 libx265-146 40.2 kB/1026 kB 4%]\r",
      "                                       \r",
      "15% [Waiting for headers]"
     ]
    },
    {
     "name": "stdout",
     "output_type": "stream",
     "text": [
      "\r",
      "                         \r",
      "Get:27 http://us-central1.gce.archive.ubuntu.com/ubuntu bionic/universe amd64 libxvidcore4 amd64 2:1.3.5-1 [200 kB]\r\n",
      "\r",
      "15% [27 libxvidcore4 32.1 kB/200 kB 16%]\r",
      "                                        \r",
      "16% [Waiting for headers]\r",
      "                         \r",
      "Get:28 http://us-central1.gce.archive.ubuntu.com/ubuntu bionic/universe amd64 libzvbi-common all 0.2.35-13 [32.1 kB]\r\n",
      "\r",
      "16% [28 libzvbi-common 12.4 kB/32.1 kB 39%]\r",
      "                                           \r",
      "16% [Waiting for headers]\r",
      "                         \r",
      "Get:29 http://us-central1.gce.archive.ubuntu.com/ubuntu bionic/universe amd64 libzvbi0 amd64 0.2.35-13 [235 kB]\r\n",
      "\r",
      "16% [29 libzvbi0 12.3 kB/235 kB 5%]\r",
      "                                   \r",
      "17% [Waiting for headers]\r",
      "                         \r",
      "Get:30 http://us-central1.gce.archive.ubuntu.com/ubuntu bionic-updates/universe amd64 libavcodec57 amd64 7:3.4.8-0ubuntu0.2 [4595 kB]\r\n",
      "\r",
      "17% [30 libavcodec57 12.3 kB/4595 kB 0%]"
     ]
    },
    {
     "name": "stdout",
     "output_type": "stream",
     "text": [
      "\r",
      "                                        \r",
      "28% [Waiting for headers]\r",
      "                         \r",
      "Get:31 http://us-central1.gce.archive.ubuntu.com/ubuntu bionic/main amd64 libraw1394-11 amd64 2.1.2-1 [30.7 kB]\r\n",
      "\r",
      "28% [31 libraw1394-11 30.7 kB/30.7 kB 100%]\r",
      "                                           \r",
      "28% [Working]\r",
      "             \r",
      "Get:32 http://us-central1.gce.archive.ubuntu.com/ubuntu bionic/main amd64 libavc1394-0 amd64 0.5.4-4build1 [16.1 kB]\r\n",
      "\r",
      "28% [32 libavc1394-0 13.9 kB/16.1 kB 86%]\r",
      "                                         \r",
      "28% [Working]\r",
      "             \r",
      "Get:33 http://us-central1.gce.archive.ubuntu.com/ubuntu bionic/universe amd64 libass9 amd64 1:0.14.0-1 [88.2 kB]\r\n",
      "\r",
      "28% [33 libass9 62.9 kB/88.2 kB 71%]\r",
      "                                    \r",
      "29% [Waiting for headers]\r",
      "                         \r",
      "Get:34 http://us-central1.gce.archive.ubuntu.com/ubuntu bionic/universe amd64 libbluray2 amd64 1:1.0.2-3 [141 kB]\r\n",
      "\r",
      "29% [34 libbluray2 39.8 kB/141 kB 28%]\r",
      "                                      \r",
      "29% [Waiting for headers]\r",
      "                         \r",
      "Get:35 http://us-central1.gce.archive.ubuntu.com/ubuntu bionic/universe amd64 libchromaprint1 amd64 1.4.3-1 [36.8 kB]\r\n",
      "\r",
      "29% [35 libchromaprint1 29.5 kB/36.8 kB 80%]\r",
      "                                            \r",
      "30% [Working]\r",
      "             \r",
      "Get:36 http://us-central1.gce.archive.ubuntu.com/ubuntu bionic/universe amd64 libgme0 amd64 0.6.2-1 [121 kB]\r\n",
      "\r",
      "30% [36 libgme0 57.7 kB/121 kB 48%]\r",
      "                                   \r",
      "30% [Waiting for headers]\r",
      "                         \r",
      "Get:37 http://us-central1.gce.archive.ubuntu.com/ubuntu bionic/main amd64 libmpg123-0 amd64 1.25.10-1 [125 kB]\r\n",
      "\r",
      "30% [37 libmpg123-0 65.5 kB/125 kB 53%]\r",
      "                                       \r",
      "31% [Waiting for headers]\r",
      "                         \r",
      "Get:38 http://us-central1.gce.archive.ubuntu.com/ubuntu bionic/main amd64 libvorbisfile3 amd64 1.3.5-4.2 [16.0 kB]\r\n",
      "\r",
      "31% [38 libvorbisfile3 16.0 kB/16.0 kB 100%]\r",
      "                                            \r",
      "31% [Working]\r",
      "             \r",
      "Get:39 http://us-central1.gce.archive.ubuntu.com/ubuntu bionic/universe amd64 libopenmpt0 amd64 0.3.6-1 [561 kB]\r\n",
      "\r",
      "31% [39 libopenmpt0 57.1 kB/561 kB 10%]"
     ]
    },
    {
     "name": "stdout",
     "output_type": "stream",
     "text": [
      "\r",
      "                                       \r",
      "33% [Waiting for headers]\r",
      "                         \r",
      "Get:40 http://us-central1.gce.archive.ubuntu.com/ubuntu bionic-updates/main amd64 libssh-gcrypt-4 amd64 0.8.0~20170825.94fa1e38-1ubuntu0.7 [172 kB]\r\n",
      "\r",
      "33% [40 libssh-gcrypt-4 20.2 kB/172 kB 12%]\r",
      "                                           \r",
      "33% [Waiting for headers]\r",
      "                         \r",
      "Get:41 http://us-central1.gce.archive.ubuntu.com/ubuntu bionic-updates/universe amd64 libavformat57 amd64 7:3.4.8-0ubuntu0.2 [953 kB]\r\n",
      "\r",
      "33% [41 libavformat57 12.3 kB/953 kB 1%]"
     ]
    },
    {
     "name": "stdout",
     "output_type": "stream",
     "text": [
      "\r",
      "                                        \r",
      "36% [Waiting for headers]"
     ]
    },
    {
     "name": "stdout",
     "output_type": "stream",
     "text": [
      "\r",
      "                         \r",
      "Get:42 http://us-central1.gce.archive.ubuntu.com/ubuntu bionic-updates/universe amd64 libavresample3 amd64 7:3.4.8-0ubuntu0.2 [52.6 kB]\r\n",
      "\r",
      "36% [42 libavresample3 8826 B/52.6 kB 17%]\r",
      "                                          \r",
      "36% [Waiting for headers]\r",
      "                         \r",
      "Get:43 http://us-central1.gce.archive.ubuntu.com/ubuntu bionic/universe amd64 libbs2b0 amd64 3.1.0+dfsg-2.2 [10.5 kB]\r\n",
      "\r",
      "36% [43 libbs2b0 10.5 kB/10.5 kB 100%]\r",
      "                                      \r",
      "36% [Waiting for headers]"
     ]
    },
    {
     "name": "stdout",
     "output_type": "stream",
     "text": [
      "\r",
      "                         \r",
      "Get:44 http://us-central1.gce.archive.ubuntu.com/ubuntu bionic/universe amd64 libflite1 amd64 2.1-release-1 [12.8 MB]\r\n",
      "\r",
      "36% [44 libflite1 2411 B/12.8 MB 0%]"
     ]
    },
    {
     "name": "stdout",
     "output_type": "stream",
     "text": [
      "\r",
      "                                    \r",
      "Get:45 http://us-central1.gce.archive.ubuntu.com/ubuntu bionic-updates/universe amd64 libmysofa0 amd64 0.6~dfsg0-3+deb10u1build1 [38.5 kB]\r\n",
      "\r",
      "65% [45 libmysofa0 38.5 kB/38.5 kB 100%]\r",
      "                                        \r",
      "66% [Working]\r",
      "             \r",
      "Get:46 http://us-central1.gce.archive.ubuntu.com/ubuntu bionic-updates/universe amd64 libpostproc54 amd64 7:3.4.8-0ubuntu0.2 [50.3 kB]\r\n",
      "\r",
      "66% [46 libpostproc54 50.3 kB/50.3 kB 100%]\r",
      "                                           \r",
      "66% [Working]\r",
      "             \r",
      "Get:47 http://us-central1.gce.archive.ubuntu.com/ubuntu bionic/main amd64 libfftw3-double3 amd64 3.3.7-1 [735 kB]\r\n",
      "\r",
      "66% [47 libfftw3-double3 16.1 kB/735 kB 2%]\r",
      "                                           \r",
      "68% [Waiting for headers]\r",
      "                         \r",
      "Get:48 http://us-central1.gce.archive.ubuntu.com/ubuntu bionic/main amd64 libsamplerate0 amd64 0.1.9-1 [938 kB]\r\n",
      "\r",
      "68% [48 libsamplerate0 65.5 kB/938 kB 7%]\r",
      "                                         \r",
      "70% [Waiting for headers]"
     ]
    },
    {
     "name": "stdout",
     "output_type": "stream",
     "text": [
      "\r",
      "                         \r",
      "Get:49 http://us-central1.gce.archive.ubuntu.com/ubuntu bionic/universe amd64 librubberband2 amd64 1.8.1-7ubuntu2 [86.7 kB]\r\n",
      "\r",
      "70% [49 librubberband2 16.4 kB/86.7 kB 19%]\r",
      "                                           \r",
      "71% [Waiting for headers]\r",
      "                         \r",
      "Get:50 http://us-central1.gce.archive.ubuntu.com/ubuntu bionic-updates/universe amd64 libswscale4 amd64 7:3.4.8-0ubuntu0.2 [150 kB]\r\n",
      "\r",
      "71% [50 libswscale4 7939 B/150 kB 5%]\r",
      "                                     \r",
      "71% [Waiting for headers]"
     ]
    },
    {
     "name": "stdout",
     "output_type": "stream",
     "text": [
      "\r",
      "                         \r",
      "Get:51 http://us-central1.gce.archive.ubuntu.com/ubuntu bionic/universe amd64 libnorm1 amd64 1.5r6+dfsg1-6 [224 kB]\r\n",
      "\r",
      "71% [51 libnorm1 12.3 kB/224 kB 5%]\r",
      "                                   \r",
      "72% [Waiting for headers]\r",
      "                         \r",
      "Get:52 http://us-central1.gce.archive.ubuntu.com/ubuntu bionic/universe amd64 libpgm-5.2-0 amd64 5.2.122~dfsg-2 [157 kB]\r\n",
      "\r",
      "72% [52 libpgm-5.2-0 8042 B/157 kB 5%]\r",
      "                                      \r",
      "73% [Waiting for headers]\r",
      "                         \r",
      "Get:53 http://us-central1.gce.archive.ubuntu.com/ubuntu bionic/main amd64 libsodium23 amd64 1.0.16-2 [143 kB]\r\n",
      "\r",
      "73% [53 libsodium23 12.3 kB/143 kB 9%]\r",
      "                                      \r",
      "73% [Waiting for headers]"
     ]
    },
    {
     "name": "stdout",
     "output_type": "stream",
     "text": [
      "\r",
      "                         \r",
      "Get:54 http://us-central1.gce.archive.ubuntu.com/ubuntu bionic-updates/universe amd64 libzmq5 amd64 4.2.5-1ubuntu0.2 [221 kB]\r\n",
      "\r",
      "73% [54 libzmq5 23.5 kB/221 kB 11%]\r",
      "                                   \r",
      "74% [Waiting for headers]\r",
      "                         \r",
      "Get:55 http://us-central1.gce.archive.ubuntu.com/ubuntu bionic-updates/universe amd64 libavfilter6 amd64 7:3.4.8-0ubuntu0.2 [874 kB]\r\n",
      "\r",
      "74% [55 libavfilter6 12.3 kB/874 kB 1%]\r",
      "                                       \r",
      "Get:56 http://us-central1.gce.archive.ubuntu.com/ubuntu bionic-updates/main amd64 libcaca0 amd64 0.99.beta19-2ubuntu0.18.04.3 [203 kB]\r\n",
      "\r",
      "                                       \r",
      "76% [56 libcaca0 22.6 kB/203 kB 11%]\r",
      "                                    \r",
      "77% [Waiting for headers]\r",
      "                         \r",
      "Get:57 http://us-central1.gce.archive.ubuntu.com/ubuntu bionic/main amd64 libcdio17 amd64 1.0.0-2ubuntu2 [58.8 kB]\r\n",
      "\r",
      "77% [57 libcdio17 16.0 kB/58.8 kB 27%]\r",
      "                                      \r",
      "77% [Working]"
     ]
    },
    {
     "name": "stdout",
     "output_type": "stream",
     "text": [
      "\r",
      "             \r",
      "Get:58 http://us-central1.gce.archive.ubuntu.com/ubuntu bionic/main amd64 libcdio-cdda2 amd64 10.2+0.94+2-2build1 [17.7 kB]\r\n",
      "\r",
      "77% [58 libcdio-cdda2 17.7 kB/17.7 kB 100%]\r",
      "                                           \r",
      "77% [Waiting for headers]\r",
      "                         \r",
      "Get:59 http://us-central1.gce.archive.ubuntu.com/ubuntu bionic/main amd64 libcdio-paranoia2 amd64 10.2+0.94+2-2build1 [17.2 kB]\r\n",
      "\r",
      "77% [59 libcdio-paranoia2 4286 B/17.2 kB 25%]\r",
      "                                             \r",
      "78% [Waiting for headers]\r",
      "                         \r",
      "Get:60 http://us-central1.gce.archive.ubuntu.com/ubuntu bionic/universe amd64 libdc1394-22 amd64 2.2.5-1 [77.5 kB]\r\n",
      "\r",
      "78% [60 libdc1394-22 8043 B/77.5 kB 10%]\r",
      "                                        \r",
      "78% [Waiting for headers]\r",
      "                         \r",
      "Get:61 http://us-central1.gce.archive.ubuntu.com/ubuntu bionic/main amd64 libiec61883-0 amd64 1.2.0-2 [23.5 kB]\r\n",
      "\r",
      "78% [61 libiec61883-0 8192 B/23.5 kB 35%]\r",
      "                                         \r",
      "79% [Working]\r",
      "             \r",
      "Get:62 http://us-central1.gce.archive.ubuntu.com/ubuntu bionic/main amd64 libjack-jackd2-0 amd64 1.9.12~dfsg-2 [263 kB]\r\n",
      "\r",
      "79% [62 libjack-jackd2-0 8042 B/263 kB 3%]\r",
      "                                          \r",
      "79% [Waiting for headers]\r",
      "                         \r",
      "Get:63 http://us-central1.gce.archive.ubuntu.com/ubuntu bionic/universe amd64 libopenal-data all 1:1.18.2-2 [102 kB]\r\n",
      "\r",
      "79% [63 libopenal-data 8045 B/102 kB 8%]\r",
      "                                        \r",
      "80% [Waiting for headers]\r",
      "                         \r",
      "Get:64 http://us-central1.gce.archive.ubuntu.com/ubuntu bionic/universe amd64 libsndio6.1 amd64 1.1.0-3 [23.4 kB]\r\n",
      "\r",
      "80% [64 libsndio6.1 23.4 kB/23.4 kB 100%]\r",
      "                                         \r",
      "80% [Waiting for headers]\r",
      "                         \r",
      "Get:65 http://us-central1.gce.archive.ubuntu.com/ubuntu bionic/universe amd64 libopenal1 amd64 1:1.18.2-2 [266 kB]\r\n",
      "\r",
      "80% [65 libopenal1 8042 B/266 kB 3%]\r",
      "                                    \r",
      "81% [Waiting for headers]\r",
      "                         \r",
      "Get:66 http://us-central1.gce.archive.ubuntu.com/ubuntu bionic/main amd64 libasyncns0 amd64 0.8-6 [12.1 kB]\r\n",
      "\r",
      "81% [66 libasyncns0 12.1 kB/12.1 kB 100%]\r",
      "                                         \r",
      "81% [Waiting for headers]\r",
      "                         \r",
      "Get:67 http://us-central1.gce.archive.ubuntu.com/ubuntu bionic/main amd64 libflac8 amd64 1.3.2-1 [213 kB]\r\n",
      "\r",
      "81% [67 libflac8 3288 B/213 kB 2%]\r",
      "                                  \r",
      "82% [Waiting for headers]\r",
      "                         \r",
      "Get:68 http://us-central1.gce.archive.ubuntu.com/ubuntu bionic-updates/main amd64 libsndfile1 amd64 1.0.28-4ubuntu0.18.04.2 [170 kB]\r\n",
      "\r",
      "82% [68 libsndfile1 12.3 kB/170 kB 7%]\r",
      "                                      \r",
      "83% [Waiting for headers]\r",
      "                         \r",
      "Get:69 http://us-central1.gce.archive.ubuntu.com/ubuntu bionic-updates/main amd64 libpulse0 amd64 1:11.1-1ubuntu7.11 [266 kB]\r\n",
      "\r",
      "83% [69 libpulse0 8042 B/266 kB 3%]\r",
      "                                   \r",
      "83% [Waiting for headers]"
     ]
    },
    {
     "name": "stdout",
     "output_type": "stream",
     "text": [
      "\r",
      "                         \r",
      "Get:70 http://us-central1.gce.archive.ubuntu.com/ubuntu bionic-updates/universe amd64 libsdl2-2.0-0 amd64 2.0.8+dfsg1-1ubuntu1.18.04.4 [382 kB]\r\n",
      "\r",
      "83% [70 libsdl2-2.0-0 8846 B/382 kB 2%]\r",
      "                                       \r",
      "85% [Waiting for headers]\r",
      "                         \r",
      "Get:71 http://us-central1.gce.archive.ubuntu.com/ubuntu bionic/main amd64 libxv1 amd64 2:1.0.11-1 [10.7 kB]\r\n",
      "\r",
      "85% [71 libxv1 10.7 kB/10.7 kB 100%]\r",
      "                                    \r",
      "85% [Waiting for headers]"
     ]
    },
    {
     "name": "stdout",
     "output_type": "stream",
     "text": [
      "\r",
      "                         \r",
      "Get:72 http://us-central1.gce.archive.ubuntu.com/ubuntu bionic-updates/universe amd64 libavdevice57 amd64 7:3.4.8-0ubuntu0.2 [74.9 kB]\r\n",
      "\r",
      "85% [72 libavdevice57 9057 B/74.9 kB 12%]\r",
      "                                         \r",
      "85% [Waiting for headers]"
     ]
    },
    {
     "name": "stdout",
     "output_type": "stream",
     "text": [
      "\r",
      "                         \r",
      "Get:73 http://us-central1.gce.archive.ubuntu.com/ubuntu bionic-updates/universe amd64 ffmpeg amd64 7:3.4.8-0ubuntu0.2 [1587 kB]\r\n",
      "\r",
      "85% [73 ffmpeg 29.2 kB/1587 kB 2%]\r",
      "                                  \r",
      "89% [Waiting for headers]"
     ]
    },
    {
     "name": "stdout",
     "output_type": "stream",
     "text": [
      "\r",
      "                         \r",
      "Get:74 http://us-central1.gce.archive.ubuntu.com/ubuntu bionic/universe amd64 libaacs0 amd64 0.9.0-1 [51.4 kB]\r\n",
      "\r",
      "89% [74 libaacs0 15.1 kB/51.4 kB 29%]\r",
      "                                     \r",
      "89% [Waiting for headers]\r",
      "                         \r",
      "Get:75 http://us-central1.gce.archive.ubuntu.com/ubuntu bionic/universe amd64 libbdplus0 amd64 0.1.2-2 [46.6 kB]\r\n",
      "\r",
      "89% [75 libbdplus0 8044 B/46.6 kB 17%]\r",
      "                                      \r",
      "90% [Waiting for headers]\r",
      "                         \r",
      "Get:76 http://us-central1.gce.archive.ubuntu.com/ubuntu bionic-updates/universe amd64 mesa-va-drivers amd64 20.0.8-0ubuntu1~18.04.1 [2376 kB]\r\n",
      "\r",
      "90% [76 mesa-va-drivers 12.3 kB/2376 kB 1%]\r",
      "                                           \r",
      "95% [Waiting for headers]\r",
      "                         \r",
      "Get:77 http://us-central1.gce.archive.ubuntu.com/ubuntu bionic/universe amd64 i965-va-driver amd64 2.1.0-0ubuntu1 [925 kB]\r\n",
      "\r",
      "96% [77 i965-va-driver 64.8 kB/925 kB 7%]"
     ]
    },
    {
     "name": "stdout",
     "output_type": "stream",
     "text": [
      "\r",
      "                                         \r",
      "98% [Waiting for headers]\r",
      "                         \r",
      "Get:78 http://us-central1.gce.archive.ubuntu.com/ubuntu bionic/universe amd64 va-driver-all amd64 2.1.0-3 [4376 B]\r\n",
      "\r",
      "98% [Waiting for headers]\r",
      "                         \r",
      "Get:79 http://us-central1.gce.archive.ubuntu.com/ubuntu bionic-updates/universe amd64 xvfb amd64 2:1.19.6-1ubuntu4.10 [784 kB]\r\n",
      "\r",
      "98% [79 xvfb 52.3 kB/784 kB 7%]\r",
      "                               \r",
      "100% [Working]\r",
      "              \r",
      "Fetched 35.7 MB in 1s (27.8 MB/s)\r\n"
     ]
    },
    {
     "name": "stdout",
     "output_type": "stream",
     "text": [
      "\r",
      "Extracting templates from packages: 37%"
     ]
    },
    {
     "name": "stdout",
     "output_type": "stream",
     "text": [
      "\r",
      "Extracting templates from packages: 75%"
     ]
    },
    {
     "name": "stdout",
     "output_type": "stream",
     "text": [
      "\r",
      "Extracting templates from packages: 100%\r\n"
     ]
    },
    {
     "name": "stdout",
     "output_type": "stream",
     "text": [
      "Selecting previously unselected package libogg0:amd64.\r\n",
      "(Reading database ... \r",
      "(Reading database ... 5%\r",
      "(Reading database ... 10%\r",
      "(Reading database ... 15%\r",
      "(Reading database ... 20%\r",
      "(Reading database ... 25%\r",
      "(Reading database ... 30%\r",
      "(Reading database ... 35%\r",
      "(Reading database ... 40%\r",
      "(Reading database ... 45%\r",
      "(Reading database ... 50%\r",
      "(Reading database ... 55%\r",
      "(Reading database ... 60%\r",
      "(Reading database ... 65%\r",
      "(Reading database ... 70%\r",
      "(Reading database ... 75%\r",
      "(Reading database ... 80%\r",
      "(Reading database ... 85%\r"
     ]
    },
    {
     "name": "stdout",
     "output_type": "stream",
     "text": [
      "(Reading database ... 90%\r",
      "(Reading database ... 95%\r"
     ]
    },
    {
     "name": "stdout",
     "output_type": "stream",
     "text": [
      "(Reading database ... 100%\r",
      "(Reading database ... 322866 files and directories currently installed.)\r\n",
      "Preparing to unpack .../00-libogg0_1.3.2-1_amd64.deb ...\r\n",
      "Unpacking libogg0:amd64 (1.3.2-1) ...\r\n"
     ]
    },
    {
     "name": "stdout",
     "output_type": "stream",
     "text": [
      "Selecting previously unselected package libxss1:amd64.\r\n"
     ]
    },
    {
     "name": "stdout",
     "output_type": "stream",
     "text": [
      "Preparing to unpack .../01-libxss1_1%3a1.2.2-1_amd64.deb ...\r\n",
      "Unpacking libxss1:amd64 (1:1.2.2-1) ...\r\n",
      "Selecting previously unselected package libnuma1:amd64.\r\n"
     ]
    },
    {
     "name": "stdout",
     "output_type": "stream",
     "text": [
      "Preparing to unpack .../02-libnuma1_2.0.11-2.1ubuntu0.1_amd64.deb ...\r\n",
      "Unpacking libnuma1:amd64 (2.0.11-2.1ubuntu0.1) ...\r\n"
     ]
    },
    {
     "name": "stdout",
     "output_type": "stream",
     "text": [
      "Selecting previously unselected package libva2:amd64.\r\n"
     ]
    },
    {
     "name": "stdout",
     "output_type": "stream",
     "text": [
      "Preparing to unpack .../03-libva2_2.1.0-3_amd64.deb ...\r\n",
      "Unpacking libva2:amd64 (2.1.0-3) ...\r\n"
     ]
    },
    {
     "name": "stdout",
     "output_type": "stream",
     "text": [
      "Selecting previously unselected package libva-drm2:amd64.\r\n",
      "Preparing to unpack .../04-libva-drm2_2.1.0-3_amd64.deb ...\r\n",
      "Unpacking libva-drm2:amd64 (2.1.0-3) ...\r\n"
     ]
    },
    {
     "name": "stdout",
     "output_type": "stream",
     "text": [
      "Selecting previously unselected package libva-x11-2:amd64.\r\n"
     ]
    },
    {
     "name": "stdout",
     "output_type": "stream",
     "text": [
      "Preparing to unpack .../05-libva-x11-2_2.1.0-3_amd64.deb ...\r\n",
      "Unpacking libva-x11-2:amd64 (2.1.0-3) ...\r\n",
      "Selecting previously unselected package libavutil55:amd64.\r\n"
     ]
    },
    {
     "name": "stdout",
     "output_type": "stream",
     "text": [
      "Preparing to unpack .../06-libavutil55_7%3a3.4.8-0ubuntu0.2_amd64.deb ...\r\n",
      "Unpacking libavutil55:amd64 (7:3.4.8-0ubuntu0.2) ...\r\n"
     ]
    },
    {
     "name": "stdout",
     "output_type": "stream",
     "text": [
      "Selecting previously unselected package libcrystalhd3:amd64.\r\n"
     ]
    },
    {
     "name": "stdout",
     "output_type": "stream",
     "text": [
      "Preparing to unpack .../07-libcrystalhd3_1%3a0.0~git20110715.fdd2f19-12_amd64.deb ...\r\n",
      "Unpacking libcrystalhd3:amd64 (1:0.0~git20110715.fdd2f19-12) ...\r\n"
     ]
    },
    {
     "name": "stdout",
     "output_type": "stream",
     "text": [
      "Selecting previously unselected package libgsm1:amd64.\r\n",
      "Preparing to unpack .../08-libgsm1_1.0.13-4build1_amd64.deb ...\r\n",
      "Unpacking libgsm1:amd64 (1.0.13-4build1) ...\r\n"
     ]
    },
    {
     "name": "stdout",
     "output_type": "stream",
     "text": [
      "Selecting previously unselected package libmp3lame0:amd64.\r\n"
     ]
    },
    {
     "name": "stdout",
     "output_type": "stream",
     "text": [
      "Preparing to unpack .../09-libmp3lame0_3.100-2_amd64.deb ...\r\n",
      "Unpacking libmp3lame0:amd64 (3.100-2) ...\r\n"
     ]
    },
    {
     "name": "stdout",
     "output_type": "stream",
     "text": [
      "Selecting previously unselected package libopenjp2-7:amd64.\r\n",
      "Preparing to unpack .../10-libopenjp2-7_2.3.0-2build0.18.04.1_amd64.deb ...\r\n",
      "Unpacking libopenjp2-7:amd64 (2.3.0-2build0.18.04.1) ...\r\n"
     ]
    },
    {
     "name": "stdout",
     "output_type": "stream",
     "text": [
      "Selecting previously unselected package libopus0:amd64.\r\n",
      "Preparing to unpack .../11-libopus0_1.1.2-1ubuntu1_amd64.deb ...\r\n",
      "Unpacking libopus0:amd64 (1.1.2-1ubuntu1) ...\r\n"
     ]
    },
    {
     "name": "stdout",
     "output_type": "stream",
     "text": [
      "Selecting previously unselected package libshine3:amd64.\r\n"
     ]
    },
    {
     "name": "stdout",
     "output_type": "stream",
     "text": [
      "Preparing to unpack .../12-libshine3_3.1.1-1_amd64.deb ...\r\n",
      "Unpacking libshine3:amd64 (3.1.1-1) ...\r\n"
     ]
    },
    {
     "name": "stdout",
     "output_type": "stream",
     "text": [
      "Selecting previously unselected package libsnappy1v5:amd64.\r\n",
      "Preparing to unpack .../13-libsnappy1v5_1.1.7-1_amd64.deb ...\r\n",
      "Unpacking libsnappy1v5:amd64 (1.1.7-1) ...\r\n"
     ]
    },
    {
     "name": "stdout",
     "output_type": "stream",
     "text": [
      "Selecting previously unselected package libspeex1:amd64.\r\n"
     ]
    },
    {
     "name": "stdout",
     "output_type": "stream",
     "text": [
      "Preparing to unpack .../14-libspeex1_1.2~rc1.2-1ubuntu2.1_amd64.deb ...\r\n",
      "Unpacking libspeex1:amd64 (1.2~rc1.2-1ubuntu2.1) ...\r\n"
     ]
    },
    {
     "name": "stdout",
     "output_type": "stream",
     "text": [
      "Selecting previously unselected package libsoxr0:amd64.\r\n",
      "Preparing to unpack .../15-libsoxr0_0.1.2-3_amd64.deb ...\r\n",
      "Unpacking libsoxr0:amd64 (0.1.2-3) ...\r\n"
     ]
    },
    {
     "name": "stdout",
     "output_type": "stream",
     "text": [
      "Selecting previously unselected package libswresample2:amd64.\r\n"
     ]
    },
    {
     "name": "stdout",
     "output_type": "stream",
     "text": [
      "Preparing to unpack .../16-libswresample2_7%3a3.4.8-0ubuntu0.2_amd64.deb ...\r\n",
      "Unpacking libswresample2:amd64 (7:3.4.8-0ubuntu0.2) ...\r\n"
     ]
    },
    {
     "name": "stdout",
     "output_type": "stream",
     "text": [
      "Selecting previously unselected package libtheora0:amd64.\r\n",
      "Preparing to unpack .../17-libtheora0_1.1.1+dfsg.1-14_amd64.deb ...\r\n"
     ]
    },
    {
     "name": "stdout",
     "output_type": "stream",
     "text": [
      "Unpacking libtheora0:amd64 (1.1.1+dfsg.1-14) ...\r\n"
     ]
    },
    {
     "name": "stdout",
     "output_type": "stream",
     "text": [
      "Selecting previously unselected package libtwolame0:amd64.\r\n",
      "Preparing to unpack .../18-libtwolame0_0.3.13-3_amd64.deb ...\r\n",
      "Unpacking libtwolame0:amd64 (0.3.13-3) ...\r\n"
     ]
    },
    {
     "name": "stdout",
     "output_type": "stream",
     "text": [
      "Selecting previously unselected package libvorbis0a:amd64.\r\n"
     ]
    },
    {
     "name": "stdout",
     "output_type": "stream",
     "text": [
      "Preparing to unpack .../19-libvorbis0a_1.3.5-4.2_amd64.deb ...\r\n",
      "Unpacking libvorbis0a:amd64 (1.3.5-4.2) ...\r\n"
     ]
    },
    {
     "name": "stdout",
     "output_type": "stream",
     "text": [
      "Selecting previously unselected package libvorbisenc2:amd64.\r\n"
     ]
    },
    {
     "name": "stdout",
     "output_type": "stream",
     "text": [
      "Preparing to unpack .../20-libvorbisenc2_1.3.5-4.2_amd64.deb ...\r\n",
      "Unpacking libvorbisenc2:amd64 (1.3.5-4.2) ...\r\n"
     ]
    },
    {
     "name": "stdout",
     "output_type": "stream",
     "text": [
      "Selecting previously unselected package libvpx5:amd64.\r\n",
      "Preparing to unpack .../21-libvpx5_1.7.0-3ubuntu0.18.04.1_amd64.deb ...\r\n",
      "Unpacking libvpx5:amd64 (1.7.0-3ubuntu0.18.04.1) ...\r\n"
     ]
    },
    {
     "name": "stdout",
     "output_type": "stream",
     "text": [
      "Selecting previously unselected package libwavpack1:amd64.\r\n"
     ]
    },
    {
     "name": "stdout",
     "output_type": "stream",
     "text": [
      "Preparing to unpack .../22-libwavpack1_5.1.0-2ubuntu1.5_amd64.deb ...\r\n",
      "Unpacking libwavpack1:amd64 (5.1.0-2ubuntu1.5) ...\r\n"
     ]
    },
    {
     "name": "stdout",
     "output_type": "stream",
     "text": [
      "Selecting previously unselected package libwebpmux3:amd64.\r\n"
     ]
    },
    {
     "name": "stdout",
     "output_type": "stream",
     "text": [
      "Preparing to unpack .../23-libwebpmux3_0.6.1-2ubuntu0.18.04.1_amd64.deb ...\r\n",
      "Unpacking libwebpmux3:amd64 (0.6.1-2ubuntu0.18.04.1) ...\r\n",
      "Selecting previously unselected package libx264-152:amd64.\r\n"
     ]
    },
    {
     "name": "stdout",
     "output_type": "stream",
     "text": [
      "Preparing to unpack .../24-libx264-152_2%3a0.152.2854+gite9a5903-2_amd64.deb ...\r\n",
      "Unpacking libx264-152:amd64 (2:0.152.2854+gite9a5903-2) ...\r\n"
     ]
    },
    {
     "name": "stdout",
     "output_type": "stream",
     "text": [
      "Selecting previously unselected package libx265-146:amd64.\r\n"
     ]
    },
    {
     "name": "stdout",
     "output_type": "stream",
     "text": [
      "Preparing to unpack .../25-libx265-146_2.6-3_amd64.deb ...\r\n",
      "Unpacking libx265-146:amd64 (2.6-3) ...\r\n"
     ]
    },
    {
     "name": "stdout",
     "output_type": "stream",
     "text": [
      "Selecting previously unselected package libxvidcore4:amd64.\r\n"
     ]
    },
    {
     "name": "stdout",
     "output_type": "stream",
     "text": [
      "Preparing to unpack .../26-libxvidcore4_2%3a1.3.5-1_amd64.deb ...\r\n",
      "Unpacking libxvidcore4:amd64 (2:1.3.5-1) ...\r\n"
     ]
    },
    {
     "name": "stdout",
     "output_type": "stream",
     "text": [
      "Selecting previously unselected package libzvbi-common.\r\n"
     ]
    },
    {
     "name": "stdout",
     "output_type": "stream",
     "text": [
      "Preparing to unpack .../27-libzvbi-common_0.2.35-13_all.deb ...\r\n",
      "Unpacking libzvbi-common (0.2.35-13) ...\r\n"
     ]
    },
    {
     "name": "stdout",
     "output_type": "stream",
     "text": [
      "Selecting previously unselected package libzvbi0:amd64.\r\n",
      "Preparing to unpack .../28-libzvbi0_0.2.35-13_amd64.deb ...\r\n"
     ]
    },
    {
     "name": "stdout",
     "output_type": "stream",
     "text": [
      "Unpacking libzvbi0:amd64 (0.2.35-13) ...\r\n"
     ]
    },
    {
     "name": "stdout",
     "output_type": "stream",
     "text": [
      "Selecting previously unselected package libavcodec57:amd64.\r\n",
      "Preparing to unpack .../29-libavcodec57_7%3a3.4.8-0ubuntu0.2_amd64.deb ...\r\n"
     ]
    },
    {
     "name": "stdout",
     "output_type": "stream",
     "text": [
      "Unpacking libavcodec57:amd64 (7:3.4.8-0ubuntu0.2) ...\r\n"
     ]
    },
    {
     "name": "stdout",
     "output_type": "stream",
     "text": [
      "Selecting previously unselected package libraw1394-11:amd64.\r\n",
      "Preparing to unpack .../30-libraw1394-11_2.1.2-1_amd64.deb ...\r\n",
      "Unpacking libraw1394-11:amd64 (2.1.2-1) ...\r\n"
     ]
    },
    {
     "name": "stdout",
     "output_type": "stream",
     "text": [
      "Selecting previously unselected package libavc1394-0:amd64.\r\n"
     ]
    },
    {
     "name": "stdout",
     "output_type": "stream",
     "text": [
      "Preparing to unpack .../31-libavc1394-0_0.5.4-4build1_amd64.deb ...\r\n",
      "Unpacking libavc1394-0:amd64 (0.5.4-4build1) ...\r\n"
     ]
    },
    {
     "name": "stdout",
     "output_type": "stream",
     "text": [
      "Selecting previously unselected package libass9:amd64.\r\n",
      "Preparing to unpack .../32-libass9_1%3a0.14.0-1_amd64.deb ...\r\n",
      "Unpacking libass9:amd64 (1:0.14.0-1) ...\r\n"
     ]
    },
    {
     "name": "stdout",
     "output_type": "stream",
     "text": [
      "Selecting previously unselected package libbluray2:amd64.\r\n"
     ]
    },
    {
     "name": "stdout",
     "output_type": "stream",
     "text": [
      "Preparing to unpack .../33-libbluray2_1%3a1.0.2-3_amd64.deb ...\r\n",
      "Unpacking libbluray2:amd64 (1:1.0.2-3) ...\r\n"
     ]
    },
    {
     "name": "stdout",
     "output_type": "stream",
     "text": [
      "Selecting previously unselected package libchromaprint1:amd64.\r\n"
     ]
    },
    {
     "name": "stdout",
     "output_type": "stream",
     "text": [
      "Preparing to unpack .../34-libchromaprint1_1.4.3-1_amd64.deb ...\r\n",
      "Unpacking libchromaprint1:amd64 (1.4.3-1) ...\r\n"
     ]
    },
    {
     "name": "stdout",
     "output_type": "stream",
     "text": [
      "Selecting previously unselected package libgme0:amd64.\r\n",
      "Preparing to unpack .../35-libgme0_0.6.2-1_amd64.deb ...\r\n",
      "Unpacking libgme0:amd64 (0.6.2-1) ...\r\n"
     ]
    },
    {
     "name": "stdout",
     "output_type": "stream",
     "text": [
      "Selecting previously unselected package libmpg123-0:amd64.\r\n"
     ]
    },
    {
     "name": "stdout",
     "output_type": "stream",
     "text": [
      "Preparing to unpack .../36-libmpg123-0_1.25.10-1_amd64.deb ...\r\n",
      "Unpacking libmpg123-0:amd64 (1.25.10-1) ...\r\n"
     ]
    },
    {
     "name": "stdout",
     "output_type": "stream",
     "text": [
      "Selecting previously unselected package libvorbisfile3:amd64.\r\n"
     ]
    },
    {
     "name": "stdout",
     "output_type": "stream",
     "text": [
      "Preparing to unpack .../37-libvorbisfile3_1.3.5-4.2_amd64.deb ...\r\n",
      "Unpacking libvorbisfile3:amd64 (1.3.5-4.2) ...\r\n",
      "Selecting previously unselected package libopenmpt0:amd64.\r\n"
     ]
    },
    {
     "name": "stdout",
     "output_type": "stream",
     "text": [
      "Preparing to unpack .../38-libopenmpt0_0.3.6-1_amd64.deb ...\r\n",
      "Unpacking libopenmpt0:amd64 (0.3.6-1) ...\r\n"
     ]
    },
    {
     "name": "stdout",
     "output_type": "stream",
     "text": [
      "Selecting previously unselected package libssh-gcrypt-4:amd64.\r\n"
     ]
    },
    {
     "name": "stdout",
     "output_type": "stream",
     "text": [
      "Preparing to unpack .../39-libssh-gcrypt-4_0.8.0~20170825.94fa1e38-1ubuntu0.7_amd64.deb ...\r\n",
      "Unpacking libssh-gcrypt-4:amd64 (0.8.0~20170825.94fa1e38-1ubuntu0.7) ...\r\n"
     ]
    },
    {
     "name": "stdout",
     "output_type": "stream",
     "text": [
      "Selecting previously unselected package libavformat57:amd64.\r\n",
      "Preparing to unpack .../40-libavformat57_7%3a3.4.8-0ubuntu0.2_amd64.deb ...\r\n"
     ]
    },
    {
     "name": "stdout",
     "output_type": "stream",
     "text": [
      "Unpacking libavformat57:amd64 (7:3.4.8-0ubuntu0.2) ...\r\n"
     ]
    },
    {
     "name": "stdout",
     "output_type": "stream",
     "text": [
      "Selecting previously unselected package libavresample3:amd64.\r\n"
     ]
    },
    {
     "name": "stdout",
     "output_type": "stream",
     "text": [
      "Preparing to unpack .../41-libavresample3_7%3a3.4.8-0ubuntu0.2_amd64.deb ...\r\n",
      "Unpacking libavresample3:amd64 (7:3.4.8-0ubuntu0.2) ...\r\n"
     ]
    },
    {
     "name": "stdout",
     "output_type": "stream",
     "text": [
      "Selecting previously unselected package libbs2b0:amd64.\r\n",
      "Preparing to unpack .../42-libbs2b0_3.1.0+dfsg-2.2_amd64.deb ...\r\n",
      "Unpacking libbs2b0:amd64 (3.1.0+dfsg-2.2) ...\r\n"
     ]
    },
    {
     "name": "stdout",
     "output_type": "stream",
     "text": [
      "Selecting previously unselected package libflite1:amd64.\r\n"
     ]
    },
    {
     "name": "stdout",
     "output_type": "stream",
     "text": [
      "Preparing to unpack .../43-libflite1_2.1-release-1_amd64.deb ...\r\n",
      "Unpacking libflite1:amd64 (2.1-release-1) ...\r\n"
     ]
    },
    {
     "name": "stdout",
     "output_type": "stream",
     "text": [
      "Selecting previously unselected package libmysofa0:amd64.\r\n"
     ]
    },
    {
     "name": "stdout",
     "output_type": "stream",
     "text": [
      "Preparing to unpack .../44-libmysofa0_0.6~dfsg0-3+deb10u1build1_amd64.deb ...\r\n",
      "Unpacking libmysofa0:amd64 (0.6~dfsg0-3+deb10u1build1) ...\r\n"
     ]
    },
    {
     "name": "stdout",
     "output_type": "stream",
     "text": [
      "Selecting previously unselected package libpostproc54:amd64.\r\n",
      "Preparing to unpack .../45-libpostproc54_7%3a3.4.8-0ubuntu0.2_amd64.deb ...\r\n"
     ]
    },
    {
     "name": "stdout",
     "output_type": "stream",
     "text": [
      "Unpacking libpostproc54:amd64 (7:3.4.8-0ubuntu0.2) ...\r\n",
      "Selecting previously unselected package libfftw3-double3:amd64.\r\n"
     ]
    },
    {
     "name": "stdout",
     "output_type": "stream",
     "text": [
      "Preparing to unpack .../46-libfftw3-double3_3.3.7-1_amd64.deb ...\r\n",
      "Unpacking libfftw3-double3:amd64 (3.3.7-1) ...\r\n"
     ]
    },
    {
     "name": "stdout",
     "output_type": "stream",
     "text": [
      "Selecting previously unselected package libsamplerate0:amd64.\r\n"
     ]
    },
    {
     "name": "stdout",
     "output_type": "stream",
     "text": [
      "Preparing to unpack .../47-libsamplerate0_0.1.9-1_amd64.deb ...\r\n",
      "Unpacking libsamplerate0:amd64 (0.1.9-1) ...\r\n"
     ]
    },
    {
     "name": "stdout",
     "output_type": "stream",
     "text": [
      "Selecting previously unselected package librubberband2:amd64.\r\n"
     ]
    },
    {
     "name": "stdout",
     "output_type": "stream",
     "text": [
      "Preparing to unpack .../48-librubberband2_1.8.1-7ubuntu2_amd64.deb ...\r\n",
      "Unpacking librubberband2:amd64 (1.8.1-7ubuntu2) ...\r\n"
     ]
    },
    {
     "name": "stdout",
     "output_type": "stream",
     "text": [
      "Selecting previously unselected package libswscale4:amd64.\r\n",
      "Preparing to unpack .../49-libswscale4_7%3a3.4.8-0ubuntu0.2_amd64.deb ...\r\n"
     ]
    },
    {
     "name": "stdout",
     "output_type": "stream",
     "text": [
      "Unpacking libswscale4:amd64 (7:3.4.8-0ubuntu0.2) ...\r\n"
     ]
    },
    {
     "name": "stdout",
     "output_type": "stream",
     "text": [
      "Selecting previously unselected package libnorm1:amd64.\r\n",
      "Preparing to unpack .../50-libnorm1_1.5r6+dfsg1-6_amd64.deb ...\r\n",
      "Unpacking libnorm1:amd64 (1.5r6+dfsg1-6) ...\r\n"
     ]
    },
    {
     "name": "stdout",
     "output_type": "stream",
     "text": [
      "Selecting previously unselected package libpgm-5.2-0:amd64.\r\n",
      "Preparing to unpack .../51-libpgm-5.2-0_5.2.122~dfsg-2_amd64.deb ...\r\n",
      "Unpacking libpgm-5.2-0:amd64 (5.2.122~dfsg-2) ...\r\n"
     ]
    },
    {
     "name": "stdout",
     "output_type": "stream",
     "text": [
      "Selecting previously unselected package libsodium23:amd64.\r\n",
      "Preparing to unpack .../52-libsodium23_1.0.16-2_amd64.deb ...\r\n",
      "Unpacking libsodium23:amd64 (1.0.16-2) ...\r\n"
     ]
    },
    {
     "name": "stdout",
     "output_type": "stream",
     "text": [
      "Selecting previously unselected package libzmq5:amd64.\r\n"
     ]
    },
    {
     "name": "stdout",
     "output_type": "stream",
     "text": [
      "Preparing to unpack .../53-libzmq5_4.2.5-1ubuntu0.2_amd64.deb ...\r\n",
      "Unpacking libzmq5:amd64 (4.2.5-1ubuntu0.2) ...\r\n"
     ]
    },
    {
     "name": "stdout",
     "output_type": "stream",
     "text": [
      "Selecting previously unselected package libavfilter6:amd64.\r\n"
     ]
    },
    {
     "name": "stdout",
     "output_type": "stream",
     "text": [
      "Preparing to unpack .../54-libavfilter6_7%3a3.4.8-0ubuntu0.2_amd64.deb ...\r\n",
      "Unpacking libavfilter6:amd64 (7:3.4.8-0ubuntu0.2) ...\r\n"
     ]
    },
    {
     "name": "stdout",
     "output_type": "stream",
     "text": [
      "Selecting previously unselected package libcaca0:amd64.\r\n"
     ]
    },
    {
     "name": "stdout",
     "output_type": "stream",
     "text": [
      "Preparing to unpack .../55-libcaca0_0.99.beta19-2ubuntu0.18.04.3_amd64.deb ...\r\n",
      "Unpacking libcaca0:amd64 (0.99.beta19-2ubuntu0.18.04.3) ...\r\n"
     ]
    },
    {
     "name": "stdout",
     "output_type": "stream",
     "text": [
      "Selecting previously unselected package libcdio17:amd64.\r\n"
     ]
    },
    {
     "name": "stdout",
     "output_type": "stream",
     "text": [
      "Preparing to unpack .../56-libcdio17_1.0.0-2ubuntu2_amd64.deb ...\r\n",
      "Unpacking libcdio17:amd64 (1.0.0-2ubuntu2) ...\r\n"
     ]
    },
    {
     "name": "stdout",
     "output_type": "stream",
     "text": [
      "Selecting previously unselected package libcdio-cdda2:amd64.\r\n",
      "Preparing to unpack .../57-libcdio-cdda2_10.2+0.94+2-2build1_amd64.deb ...\r\n",
      "Unpacking libcdio-cdda2:amd64 (10.2+0.94+2-2build1) ...\r\n"
     ]
    },
    {
     "name": "stdout",
     "output_type": "stream",
     "text": [
      "Selecting previously unselected package libcdio-paranoia2:amd64.\r\n"
     ]
    },
    {
     "name": "stdout",
     "output_type": "stream",
     "text": [
      "Preparing to unpack .../58-libcdio-paranoia2_10.2+0.94+2-2build1_amd64.deb ...\r\n",
      "Unpacking libcdio-paranoia2:amd64 (10.2+0.94+2-2build1) ...\r\n",
      "Selecting previously unselected package libdc1394-22:amd64.\r\n"
     ]
    },
    {
     "name": "stdout",
     "output_type": "stream",
     "text": [
      "Preparing to unpack .../59-libdc1394-22_2.2.5-1_amd64.deb ...\r\n",
      "Unpacking libdc1394-22:amd64 (2.2.5-1) ...\r\n"
     ]
    },
    {
     "name": "stdout",
     "output_type": "stream",
     "text": [
      "Selecting previously unselected package libiec61883-0:amd64.\r\n",
      "Preparing to unpack .../60-libiec61883-0_1.2.0-2_amd64.deb ...\r\n"
     ]
    },
    {
     "name": "stdout",
     "output_type": "stream",
     "text": [
      "Unpacking libiec61883-0:amd64 (1.2.0-2) ...\r\n",
      "Selecting previously unselected package libjack-jackd2-0:amd64.\r\n"
     ]
    },
    {
     "name": "stdout",
     "output_type": "stream",
     "text": [
      "Preparing to unpack .../61-libjack-jackd2-0_1.9.12~dfsg-2_amd64.deb ...\r\n",
      "Unpacking libjack-jackd2-0:amd64 (1.9.12~dfsg-2) ...\r\n"
     ]
    },
    {
     "name": "stdout",
     "output_type": "stream",
     "text": [
      "Selecting previously unselected package libopenal-data.\r\n"
     ]
    },
    {
     "name": "stdout",
     "output_type": "stream",
     "text": [
      "Preparing to unpack .../62-libopenal-data_1%3a1.18.2-2_all.deb ...\r\n",
      "Unpacking libopenal-data (1:1.18.2-2) ...\r\n"
     ]
    },
    {
     "name": "stdout",
     "output_type": "stream",
     "text": [
      "Selecting previously unselected package libsndio6.1:amd64.\r\n"
     ]
    },
    {
     "name": "stdout",
     "output_type": "stream",
     "text": [
      "Preparing to unpack .../63-libsndio6.1_1.1.0-3_amd64.deb ...\r\n",
      "Unpacking libsndio6.1:amd64 (1.1.0-3) ...\r\n",
      "Selecting previously unselected package libopenal1:amd64.\r\n"
     ]
    },
    {
     "name": "stdout",
     "output_type": "stream",
     "text": [
      "Preparing to unpack .../64-libopenal1_1%3a1.18.2-2_amd64.deb ...\r\n",
      "Unpacking libopenal1:amd64 (1:1.18.2-2) ...\r\n"
     ]
    },
    {
     "name": "stdout",
     "output_type": "stream",
     "text": [
      "Selecting previously unselected package libasyncns0:amd64.\r\n"
     ]
    },
    {
     "name": "stdout",
     "output_type": "stream",
     "text": [
      "Preparing to unpack .../65-libasyncns0_0.8-6_amd64.deb ...\r\n",
      "Unpacking libasyncns0:amd64 (0.8-6) ...\r\n"
     ]
    },
    {
     "name": "stdout",
     "output_type": "stream",
     "text": [
      "Selecting previously unselected package libflac8:amd64.\r\n",
      "Preparing to unpack .../66-libflac8_1.3.2-1_amd64.deb ...\r\n",
      "Unpacking libflac8:amd64 (1.3.2-1) ...\r\n"
     ]
    },
    {
     "name": "stdout",
     "output_type": "stream",
     "text": [
      "Selecting previously unselected package libsndfile1:amd64.\r\n",
      "Preparing to unpack .../67-libsndfile1_1.0.28-4ubuntu0.18.04.2_amd64.deb ...\r\n",
      "Unpacking libsndfile1:amd64 (1.0.28-4ubuntu0.18.04.2) ...\r\n"
     ]
    },
    {
     "name": "stdout",
     "output_type": "stream",
     "text": [
      "Selecting previously unselected package libpulse0:amd64.\r\n"
     ]
    },
    {
     "name": "stdout",
     "output_type": "stream",
     "text": [
      "Preparing to unpack .../68-libpulse0_1%3a11.1-1ubuntu7.11_amd64.deb ...\r\n",
      "Unpacking libpulse0:amd64 (1:11.1-1ubuntu7.11) ...\r\n"
     ]
    },
    {
     "name": "stdout",
     "output_type": "stream",
     "text": [
      "Selecting previously unselected package libsdl2-2.0-0:amd64.\r\n"
     ]
    },
    {
     "name": "stdout",
     "output_type": "stream",
     "text": [
      "Preparing to unpack .../69-libsdl2-2.0-0_2.0.8+dfsg1-1ubuntu1.18.04.4_amd64.deb ...\r\n",
      "Unpacking libsdl2-2.0-0:amd64 (2.0.8+dfsg1-1ubuntu1.18.04.4) ...\r\n"
     ]
    },
    {
     "name": "stdout",
     "output_type": "stream",
     "text": [
      "Selecting previously unselected package libxv1:amd64.\r\n"
     ]
    },
    {
     "name": "stdout",
     "output_type": "stream",
     "text": [
      "Preparing to unpack .../70-libxv1_2%3a1.0.11-1_amd64.deb ...\r\n",
      "Unpacking libxv1:amd64 (2:1.0.11-1) ...\r\n"
     ]
    },
    {
     "name": "stdout",
     "output_type": "stream",
     "text": [
      "Selecting previously unselected package libavdevice57:amd64.\r\n",
      "Preparing to unpack .../71-libavdevice57_7%3a3.4.8-0ubuntu0.2_amd64.deb ...\r\n",
      "Unpacking libavdevice57:amd64 (7:3.4.8-0ubuntu0.2) ...\r\n"
     ]
    },
    {
     "name": "stdout",
     "output_type": "stream",
     "text": [
      "Selecting previously unselected package ffmpeg.\r\n"
     ]
    },
    {
     "name": "stdout",
     "output_type": "stream",
     "text": [
      "Preparing to unpack .../72-ffmpeg_7%3a3.4.8-0ubuntu0.2_amd64.deb ...\r\n",
      "Unpacking ffmpeg (7:3.4.8-0ubuntu0.2) ...\r\n"
     ]
    },
    {
     "name": "stdout",
     "output_type": "stream",
     "text": [
      "Selecting previously unselected package libaacs0:amd64.\r\n"
     ]
    },
    {
     "name": "stdout",
     "output_type": "stream",
     "text": [
      "Preparing to unpack .../73-libaacs0_0.9.0-1_amd64.deb ...\r\n",
      "Unpacking libaacs0:amd64 (0.9.0-1) ...\r\n"
     ]
    },
    {
     "name": "stdout",
     "output_type": "stream",
     "text": [
      "Selecting previously unselected package libbdplus0:amd64.\r\n",
      "Preparing to unpack .../74-libbdplus0_0.1.2-2_amd64.deb ...\r\n",
      "Unpacking libbdplus0:amd64 (0.1.2-2) ...\r\n"
     ]
    },
    {
     "name": "stdout",
     "output_type": "stream",
     "text": [
      "Selecting previously unselected package mesa-va-drivers:amd64.\r\n"
     ]
    },
    {
     "name": "stdout",
     "output_type": "stream",
     "text": [
      "Preparing to unpack .../75-mesa-va-drivers_20.0.8-0ubuntu1~18.04.1_amd64.deb ...\r\n",
      "Unpacking mesa-va-drivers:amd64 (20.0.8-0ubuntu1~18.04.1) ...\r\n"
     ]
    },
    {
     "name": "stdout",
     "output_type": "stream",
     "text": [
      "Selecting previously unselected package i965-va-driver:amd64.\r\n"
     ]
    },
    {
     "name": "stdout",
     "output_type": "stream",
     "text": [
      "Preparing to unpack .../76-i965-va-driver_2.1.0-0ubuntu1_amd64.deb ...\r\n",
      "Unpacking i965-va-driver:amd64 (2.1.0-0ubuntu1) ...\r\n"
     ]
    },
    {
     "name": "stdout",
     "output_type": "stream",
     "text": [
      "Selecting previously unselected package va-driver-all:amd64.\r\n"
     ]
    },
    {
     "name": "stdout",
     "output_type": "stream",
     "text": [
      "Preparing to unpack .../77-va-driver-all_2.1.0-3_amd64.deb ...\r\n",
      "Unpacking va-driver-all:amd64 (2.1.0-3) ...\r\n",
      "Selecting previously unselected package xvfb.\r\n"
     ]
    },
    {
     "name": "stdout",
     "output_type": "stream",
     "text": [
      "Preparing to unpack .../78-xvfb_2%3a1.19.6-1ubuntu4.10_amd64.deb ...\r\n",
      "Unpacking xvfb (2:1.19.6-1ubuntu4.10) ...\r\n"
     ]
    },
    {
     "name": "stdout",
     "output_type": "stream",
     "text": [
      "Setting up libpgm-5.2-0:amd64 (5.2.122~dfsg-2) ...\r\n",
      "Setting up libtwolame0:amd64 (0.3.13-3) ...\r\n",
      "Setting up libraw1394-11:amd64 (2.1.2-1) ...\r\n"
     ]
    },
    {
     "name": "stdout",
     "output_type": "stream",
     "text": [
      "Setting up libx264-152:amd64 (2:0.152.2854+gite9a5903-2) ...\r\n",
      "Setting up libopenjp2-7:amd64 (2.3.0-2build0.18.04.1) ...\r\n",
      "Setting up libasyncns0:amd64 (0.8-6) ...\r\n",
      "Setting up libwavpack1:amd64 (5.1.0-2ubuntu1.5) ...\r\n",
      "Setting up xvfb (2:1.19.6-1ubuntu4.10) ...\r\n",
      "Setting up libaacs0:amd64 (0.9.0-1) ...\r\n"
     ]
    },
    {
     "name": "stdout",
     "output_type": "stream",
     "text": [
      "Setting up libnuma1:amd64 (2.0.11-2.1ubuntu0.1) ...\r\n",
      "Setting up libflite1:amd64 (2.1-release-1) ...\r\n",
      "Setting up libsoxr0:amd64 (0.1.2-3) ...\r\n",
      "Setting up libssh-gcrypt-4:amd64 (0.8.0~20170825.94fa1e38-1ubuntu0.7) ...\r\n",
      "Setting up libxss1:amd64 (1:1.2.2-1) ...\r\n"
     ]
    },
    {
     "name": "stdout",
     "output_type": "stream",
     "text": [
      "Setting up libass9:amd64 (1:0.14.0-1) ...\r\n",
      "Setting up libbluray2:amd64 (1:1.0.2-3) ...\r\n",
      "Setting up libdc1394-22:amd64 (2.2.5-1) ...\r\n",
      "Setting up libshine3:amd64 (3.1.1-1) ...\r\n"
     ]
    },
    {
     "name": "stdout",
     "output_type": "stream",
     "text": [
      "Setting up libva2:amd64 (2.1.0-3) ...\r\n",
      "Setting up libiec61883-0:amd64 (1.2.0-2) ...\r\n",
      "Setting up libspeex1:amd64 (1.2~rc1.2-1ubuntu2.1) ...\r\n",
      "Setting up libfftw3-double3:amd64 (3.3.7-1) ...\r\n",
      "Setting up libxvidcore4:amd64 (2:1.3.5-1) ...\r\n"
     ]
    },
    {
     "name": "stdout",
     "output_type": "stream",
     "text": [
      "Setting up libopus0:amd64 (1.1.2-1ubuntu1) ...\r\n",
      "Setting up libx265-146:amd64 (2.6-3) ...\r\n",
      "Setting up libopenal-data (1:1.18.2-2) ...\r\n",
      "Setting up libbs2b0:amd64 (3.1.0+dfsg-2.2) ...\r\n",
      "Setting up libnorm1:amd64 (1.5r6+dfsg1-6) ...\r\n"
     ]
    },
    {
     "name": "stdout",
     "output_type": "stream",
     "text": [
      "Setting up libogg0:amd64 (1.3.2-1) ...\r\n",
      "Setting up i965-va-driver:amd64 (2.1.0-0ubuntu1) ...\r\n",
      "Setting up libsodium23:amd64 (1.0.16-2) ...\r\n",
      "Setting up libmp3lame0:amd64 (3.100-2) ...\r\n",
      "Setting up libcrystalhd3:amd64 (1:0.0~git20110715.fdd2f19-12) ...\r\n"
     ]
    },
    {
     "name": "stdout",
     "output_type": "stream",
     "text": [
      "Setting up libwebpmux3:amd64 (0.6.1-2ubuntu0.18.04.1) ...\r\n",
      "Setting up libsnappy1v5:amd64 (1.1.7-1) ...\r\n",
      "Setting up mesa-va-drivers:amd64 (20.0.8-0ubuntu1~18.04.1) ...\r\n",
      "Setting up libva-drm2:amd64 (2.1.0-3) ...\r\n",
      "Setting up libavc1394-0:amd64 (0.5.4-4build1) ...\r\n",
      "Setting up libzvbi-common (0.2.35-13) ...\r\n"
     ]
    },
    {
     "name": "stdout",
     "output_type": "stream",
     "text": [
      "Setting up libxv1:amd64 (2:1.0.11-1) ...\r\n",
      "Setting up libvpx5:amd64 (1.7.0-3ubuntu0.18.04.1) ...\r\n",
      "Setting up libgme0:amd64 (0.6.2-1) ...\r\n",
      "Setting up libbdplus0:amd64 (0.1.2-2) ...\r\n",
      "Setting up libzvbi0:amd64 (0.2.35-13) ...\r\n"
     ]
    },
    {
     "name": "stdout",
     "output_type": "stream",
     "text": [
      "Setting up libva-x11-2:amd64 (2.1.0-3) ...\r\n",
      "Setting up libcaca0:amd64 (0.99.beta19-2ubuntu0.18.04.3) ...\r\n",
      "Setting up libsamplerate0:amd64 (0.1.9-1) ...\r\n",
      "Setting up libsndio6.1:amd64 (1.1.0-3) ...\r\n",
      "Setting up libvorbis0a:amd64 (1.3.5-4.2) ...\r\n",
      "Setting up libtheora0:amd64 (1.1.1+dfsg.1-14) ...\r\n"
     ]
    },
    {
     "name": "stdout",
     "output_type": "stream",
     "text": [
      "Setting up libmpg123-0:amd64 (1.25.10-1) ...\r\n",
      "Setting up libgsm1:amd64 (1.0.13-4build1) ...\r\n",
      "Setting up libmysofa0:amd64 (0.6~dfsg0-3+deb10u1build1) ...\r\n",
      "Setting up libcdio17:amd64 (1.0.0-2ubuntu2) ...\r\n",
      "Setting up libvorbisfile3:amd64 (1.3.5-4.2) ...\r\n",
      "Setting up libzmq5:amd64 (4.2.5-1ubuntu0.2) ...\r\n"
     ]
    },
    {
     "name": "stdout",
     "output_type": "stream",
     "text": [
      "Setting up libavutil55:amd64 (7:3.4.8-0ubuntu0.2) ...\r\n",
      "Setting up libopenmpt0:amd64 (0.3.6-1) ...\r\n",
      "Setting up libflac8:amd64 (1.3.2-1) ...\r\n",
      "Setting up libcdio-cdda2:amd64 (10.2+0.94+2-2build1) ...\r\n",
      "Setting up libswresample2:amd64 (7:3.4.8-0ubuntu0.2) ...\r\n"
     ]
    },
    {
     "name": "stdout",
     "output_type": "stream",
     "text": [
      "Setting up librubberband2:amd64 (1.8.1-7ubuntu2) ...\r\n",
      "Setting up libswscale4:amd64 (7:3.4.8-0ubuntu0.2) ...\r\n",
      "Setting up va-driver-all:amd64 (2.1.0-3) ...\r\n",
      "Setting up libcdio-paranoia2:amd64 (10.2+0.94+2-2build1) ...\r\n",
      "Setting up libpostproc54:amd64 (7:3.4.8-0ubuntu0.2) ...\r\n",
      "Setting up libjack-jackd2-0:amd64 (1.9.12~dfsg-2) ...\r\n"
     ]
    },
    {
     "name": "stdout",
     "output_type": "stream",
     "text": [
      "Setting up libopenal1:amd64 (1:1.18.2-2) ...\r\n",
      "Setting up libvorbisenc2:amd64 (1.3.5-4.2) ...\r\n",
      "Setting up libavresample3:amd64 (7:3.4.8-0ubuntu0.2) ...\r\n",
      "Setting up libavcodec57:amd64 (7:3.4.8-0ubuntu0.2) ...\r\n",
      "Setting up libsndfile1:amd64 (1.0.28-4ubuntu0.18.04.2) ...\r\n"
     ]
    },
    {
     "name": "stdout",
     "output_type": "stream",
     "text": [
      "Setting up libchromaprint1:amd64 (1.4.3-1) ...\r\n",
      "Setting up libpulse0:amd64 (1:11.1-1ubuntu7.11) ...\r\n",
      "Setting up libsdl2-2.0-0:amd64 (2.0.8+dfsg1-1ubuntu1.18.04.4) ...\r\n",
      "Setting up libavformat57:amd64 (7:3.4.8-0ubuntu0.2) ...\r\n",
      "Setting up libavfilter6:amd64 (7:3.4.8-0ubuntu0.2) ...\r\n",
      "Setting up libavdevice57:amd64 (7:3.4.8-0ubuntu0.2) ...\r\n"
     ]
    },
    {
     "name": "stdout",
     "output_type": "stream",
     "text": [
      "Setting up ffmpeg (7:3.4.8-0ubuntu0.2) ...\r\n",
      "Processing triggers for libc-bin (2.27-3ubuntu1.5) ...\r\n",
      "Processing triggers for man-db (2.8.3-2ubuntu0.1) ...\r\n"
     ]
    },
    {
     "name": "stdout",
     "output_type": "stream",
     "text": [
      "Collecting imageio==2.4.0\r\n"
     ]
    },
    {
     "name": "stdout",
     "output_type": "stream",
     "text": [
      "  Downloading imageio-2.4.0.tar.gz (3.3 MB)\r\n"
     ]
    },
    {
     "name": "stdout",
     "output_type": "stream",
     "text": [
      "  Preparing metadata (setup.py) ... \u001b[?25l-"
     ]
    },
    {
     "name": "stdout",
     "output_type": "stream",
     "text": [
      "\b \b\\"
     ]
    },
    {
     "name": "stdout",
     "output_type": "stream",
     "text": [
      "\b \b|"
     ]
    },
    {
     "name": "stdout",
     "output_type": "stream",
     "text": [
      "\b \bdone\r\n",
      "\u001b[?25hRequirement already satisfied: numpy in /tmpfs/src/tf_docs_env/lib/python3.7/site-packages (from imageio==2.4.0) (1.21.6)\r\n",
      "Requirement already satisfied: pillow in /tmpfs/src/tf_docs_env/lib/python3.7/site-packages (from imageio==2.4.0) (9.1.0)\r\n"
     ]
    },
    {
     "name": "stdout",
     "output_type": "stream",
     "text": [
      "Building wheels for collected packages: imageio\r\n"
     ]
    },
    {
     "name": "stdout",
     "output_type": "stream",
     "text": [
      "  Building wheel for imageio (setup.py) ... \u001b[?25l-"
     ]
    },
    {
     "name": "stdout",
     "output_type": "stream",
     "text": [
      "\b \b\\"
     ]
    },
    {
     "name": "stdout",
     "output_type": "stream",
     "text": [
      "\b \b|"
     ]
    },
    {
     "name": "stdout",
     "output_type": "stream",
     "text": [
      "\b \b/"
     ]
    },
    {
     "name": "stdout",
     "output_type": "stream",
     "text": [
      "\b \b-"
     ]
    },
    {
     "name": "stdout",
     "output_type": "stream",
     "text": [
      "\b \b\\"
     ]
    },
    {
     "name": "stdout",
     "output_type": "stream",
     "text": [
      "\b \b|"
     ]
    },
    {
     "name": "stdout",
     "output_type": "stream",
     "text": [
      "\b \b/"
     ]
    },
    {
     "name": "stdout",
     "output_type": "stream",
     "text": [
      "\b \b-"
     ]
    },
    {
     "name": "stdout",
     "output_type": "stream",
     "text": [
      "\b \bdone\r\n",
      "\u001b[?25h  Created wheel for imageio: filename=imageio-2.4.0-py3-none-any.whl size=3303897 sha256=484a3074813ab44edf98686e8a30f8ebec5fc20476ca383d924bb3069d0f74d5\r\n",
      "  Stored in directory: /home/kbuilder/.cache/pip/wheels/aa/de/2f/6c5a75120d68a2c3138120c8d0ce1c6f9483a4b96307986bf2\r\n",
      "Successfully built imageio\r\n"
     ]
    },
    {
     "name": "stdout",
     "output_type": "stream",
     "text": [
      "Installing collected packages: imageio\r\n",
      "  Attempting uninstall: imageio\r\n",
      "    Found existing installation: imageio 2.19.0\r\n",
      "    Uninstalling imageio-2.19.0:\r\n",
      "      Successfully uninstalled imageio-2.19.0\r\n"
     ]
    },
    {
     "name": "stdout",
     "output_type": "stream",
     "text": [
      "\u001b[31mERROR: pip's dependency resolver does not currently take into account all the packages that are installed. This behaviour is the source of the following dependency conflicts.\r\n",
      "scikit-image 0.19.2 requires imageio>=2.4.1, but you have imageio 2.4.0 which is incompatible.\u001b[0m\u001b[31m\r\n",
      "\u001b[0mSuccessfully installed imageio-2.4.0\r\n"
     ]
    },
    {
     "name": "stdout",
     "output_type": "stream",
     "text": [
      "Collecting pyvirtualdisplay\r\n"
     ]
    },
    {
     "name": "stdout",
     "output_type": "stream",
     "text": [
      "  Downloading PyVirtualDisplay-3.0-py3-none-any.whl (15 kB)\r\n"
     ]
    },
    {
     "name": "stdout",
     "output_type": "stream",
     "text": [
      "Installing collected packages: pyvirtualdisplay\r\n"
     ]
    },
    {
     "name": "stdout",
     "output_type": "stream",
     "text": [
      "Successfully installed pyvirtualdisplay-3.0\r\n"
     ]
    },
    {
     "name": "stdout",
     "output_type": "stream",
     "text": [
      "Collecting tf-agents[reverb]\r\n",
      "  Using cached tf_agents-0.12.1-py3-none-any.whl (1.3 MB)\r\n"
     ]
    },
    {
     "name": "stdout",
     "output_type": "stream",
     "text": [
      "Requirement already satisfied: wrapt>=1.11.1 in /tmpfs/src/tf_docs_env/lib/python3.7/site-packages (from tf-agents[reverb]) (1.14.1)\r\n",
      "Collecting tensorflow-probability>=0.16.0\r\n"
     ]
    },
    {
     "name": "stdout",
     "output_type": "stream",
     "text": [
      "  Using cached tensorflow_probability-0.16.0-py2.py3-none-any.whl (6.3 MB)\r\n"
     ]
    },
    {
     "name": "stdout",
     "output_type": "stream",
     "text": [
      "Requirement already satisfied: typing-extensions>=3.7.4.3 in /tmpfs/src/tf_docs_env/lib/python3.7/site-packages (from tf-agents[reverb]) (4.2.0)\r\n",
      "Requirement already satisfied: pillow in /tmpfs/src/tf_docs_env/lib/python3.7/site-packages (from tf-agents[reverb]) (9.1.0)\r\n",
      "Requirement already satisfied: numpy>=1.13.3 in /tmpfs/src/tf_docs_env/lib/python3.7/site-packages (from tf-agents[reverb]) (1.21.6)\r\n",
      "Requirement already satisfied: absl-py>=0.6.1 in /tmpfs/src/tf_docs_env/lib/python3.7/site-packages (from tf-agents[reverb]) (1.0.0)\r\n",
      "Requirement already satisfied: six>=1.10.0 in /tmpfs/src/tf_docs_env/lib/python3.7/site-packages (from tf-agents[reverb]) (1.16.0)\r\n",
      "Collecting gin-config>=0.4.0\r\n",
      "  Using cached gin_config-0.5.0-py3-none-any.whl (61 kB)\r\n"
     ]
    },
    {
     "name": "stdout",
     "output_type": "stream",
     "text": [
      "Collecting cloudpickle>=1.3\r\n",
      "  Using cached cloudpickle-2.0.0-py3-none-any.whl (25 kB)\r\n"
     ]
    },
    {
     "name": "stdout",
     "output_type": "stream",
     "text": [
      "Collecting pygame==2.1.0\r\n"
     ]
    },
    {
     "name": "stdout",
     "output_type": "stream",
     "text": [
      "  Using cached pygame-2.1.0-cp37-cp37m-manylinux_2_17_x86_64.manylinux2014_x86_64.whl (18.3 MB)\r\n"
     ]
    },
    {
     "name": "stdout",
     "output_type": "stream",
     "text": [
      "Requirement already satisfied: protobuf>=3.11.3 in /tmpfs/src/tf_docs_env/lib/python3.7/site-packages (from tf-agents[reverb]) (3.20.1)\r\n"
     ]
    },
    {
     "name": "stdout",
     "output_type": "stream",
     "text": [
      "Collecting gym>=0.17.0\r\n",
      "  Using cached gym-0.23.1-py3-none-any.whl\r\n",
      "Collecting dm-reverb~=0.7.0\r\n"
     ]
    },
    {
     "name": "stdout",
     "output_type": "stream",
     "text": [
      "  Downloading dm_reverb-0.7.3-cp37-cp37m-manylinux2010_x86_64.whl (6.4 MB)\r\n"
     ]
    },
    {
     "name": "stdout",
     "output_type": "stream",
     "text": [
      "Collecting tensorflow~=2.8.0\r\n"
     ]
    },
    {
     "name": "stdout",
     "output_type": "stream",
     "text": [
      "  Downloading tensorflow-2.8.0-cp37-cp37m-manylinux2010_x86_64.whl (497.5 MB)\r\n"
     ]
    },
    {
     "name": "stdout",
     "output_type": "stream",
     "text": [
      "Collecting portpicker\r\n",
      "  Downloading portpicker-1.5.0-py3-none-any.whl (14 kB)\r\n"
     ]
    },
    {
     "name": "stdout",
     "output_type": "stream",
     "text": [
      "Collecting dm-tree\r\n"
     ]
    },
    {
     "name": "stdout",
     "output_type": "stream",
     "text": [
      "  Using cached dm_tree-0.1.7-cp37-cp37m-manylinux_2_12_x86_64.manylinux2010_x86_64.whl (143 kB)\r\n"
     ]
    },
    {
     "name": "stdout",
     "output_type": "stream",
     "text": [
      "Collecting gym-notices>=0.0.4\r\n",
      "  Using cached gym_notices-0.0.6-py3-none-any.whl (2.7 kB)\r\n",
      "Requirement already satisfied: importlib-metadata>=4.10.0 in /tmpfs/src/tf_docs_env/lib/python3.7/site-packages (from gym>=0.17.0->tf-agents[reverb]) (4.11.3)\r\n"
     ]
    },
    {
     "name": "stdout",
     "output_type": "stream",
     "text": [
      "Requirement already satisfied: termcolor>=1.1.0 in /tmpfs/src/tf_docs_env/lib/python3.7/site-packages (from tensorflow~=2.8.0->tf-agents[reverb]) (1.1.0)\r\n",
      "Requirement already satisfied: setuptools in /tmpfs/src/tf_docs_env/lib/python3.7/site-packages (from tensorflow~=2.8.0->tf-agents[reverb]) (62.1.0)\r\n",
      "Requirement already satisfied: google-pasta>=0.1.1 in /tmpfs/src/tf_docs_env/lib/python3.7/site-packages (from tensorflow~=2.8.0->tf-agents[reverb]) (0.2.0)\r\n",
      "Requirement already satisfied: flatbuffers>=1.12 in /tmpfs/src/tf_docs_env/lib/python3.7/site-packages (from tensorflow~=2.8.0->tf-agents[reverb]) (1.12)\r\n",
      "Requirement already satisfied: gast>=0.2.1 in /tmpfs/src/tf_docs_env/lib/python3.7/site-packages (from tensorflow~=2.8.0->tf-agents[reverb]) (0.4.0)\r\n",
      "Requirement already satisfied: tensorflow-io-gcs-filesystem>=0.23.1 in /tmpfs/src/tf_docs_env/lib/python3.7/site-packages (from tensorflow~=2.8.0->tf-agents[reverb]) (0.25.0)\r\n",
      "Requirement already satisfied: astunparse>=1.6.0 in /tmpfs/src/tf_docs_env/lib/python3.7/site-packages (from tensorflow~=2.8.0->tf-agents[reverb]) (1.6.3)\r\n"
     ]
    },
    {
     "name": "stdout",
     "output_type": "stream",
     "text": [
      "Collecting keras<2.9,>=2.8.0rc0\r\n",
      "  Downloading keras-2.8.0-py2.py3-none-any.whl (1.4 MB)\r\n"
     ]
    },
    {
     "name": "stdout",
     "output_type": "stream",
     "text": [
      "Collecting tf-estimator-nightly==2.8.0.dev2021122109\r\n"
     ]
    },
    {
     "name": "stdout",
     "output_type": "stream",
     "text": [
      "  Downloading tf_estimator_nightly-2.8.0.dev2021122109-py2.py3-none-any.whl (462 kB)\r\n",
      "Requirement already satisfied: libclang>=9.0.1 in /tmpfs/src/tf_docs_env/lib/python3.7/site-packages (from tensorflow~=2.8.0->tf-agents[reverb]) (14.0.1)\r\n",
      "Requirement already satisfied: grpcio<2.0,>=1.24.3 in /tmpfs/src/tf_docs_env/lib/python3.7/site-packages (from tensorflow~=2.8.0->tf-agents[reverb]) (1.46.0)\r\n",
      "Requirement already satisfied: keras-preprocessing>=1.1.1 in /tmpfs/src/tf_docs_env/lib/python3.7/site-packages (from tensorflow~=2.8.0->tf-agents[reverb]) (1.1.2)\r\n",
      "Requirement already satisfied: opt-einsum>=2.3.2 in /tmpfs/src/tf_docs_env/lib/python3.7/site-packages (from tensorflow~=2.8.0->tf-agents[reverb]) (3.3.0)\r\n",
      "Requirement already satisfied: tensorboard<2.9,>=2.8 in /tmpfs/src/tf_docs_env/lib/python3.7/site-packages (from tensorflow~=2.8.0->tf-agents[reverb]) (2.8.0)\r\n",
      "Requirement already satisfied: h5py>=2.9.0 in /tmpfs/src/tf_docs_env/lib/python3.7/site-packages (from tensorflow~=2.8.0->tf-agents[reverb]) (3.6.0)\r\n",
      "Requirement already satisfied: decorator in /tmpfs/src/tf_docs_env/lib/python3.7/site-packages (from tensorflow-probability>=0.16.0->tf-agents[reverb]) (5.1.1)\r\n"
     ]
    },
    {
     "name": "stdout",
     "output_type": "stream",
     "text": [
      "Requirement already satisfied: wheel<1.0,>=0.23.0 in /tmpfs/src/tf_docs_env/lib/python3.7/site-packages (from astunparse>=1.6.0->tensorflow~=2.8.0->tf-agents[reverb]) (0.37.1)\r\n",
      "Requirement already satisfied: cached-property in /tmpfs/src/tf_docs_env/lib/python3.7/site-packages (from h5py>=2.9.0->tensorflow~=2.8.0->tf-agents[reverb]) (1.5.2)\r\n",
      "Requirement already satisfied: zipp>=0.5 in /tmpfs/src/tf_docs_env/lib/python3.7/site-packages (from importlib-metadata>=4.10.0->gym>=0.17.0->tf-agents[reverb]) (3.8.0)\r\n"
     ]
    },
    {
     "name": "stdout",
     "output_type": "stream",
     "text": [
      "Requirement already satisfied: markdown>=2.6.8 in /tmpfs/src/tf_docs_env/lib/python3.7/site-packages (from tensorboard<2.9,>=2.8->tensorflow~=2.8.0->tf-agents[reverb]) (3.3.7)\r\n",
      "Requirement already satisfied: tensorboard-data-server<0.7.0,>=0.6.0 in /tmpfs/src/tf_docs_env/lib/python3.7/site-packages (from tensorboard<2.9,>=2.8->tensorflow~=2.8.0->tf-agents[reverb]) (0.6.1)\r\n",
      "Requirement already satisfied: tensorboard-plugin-wit>=1.6.0 in /tmpfs/src/tf_docs_env/lib/python3.7/site-packages (from tensorboard<2.9,>=2.8->tensorflow~=2.8.0->tf-agents[reverb]) (1.8.1)\r\n",
      "Requirement already satisfied: werkzeug>=0.11.15 in /tmpfs/src/tf_docs_env/lib/python3.7/site-packages (from tensorboard<2.9,>=2.8->tensorflow~=2.8.0->tf-agents[reverb]) (2.1.2)\r\n",
      "Requirement already satisfied: google-auth<3,>=1.6.3 in /tmpfs/src/tf_docs_env/lib/python3.7/site-packages (from tensorboard<2.9,>=2.8->tensorflow~=2.8.0->tf-agents[reverb]) (2.6.6)\r\n",
      "Requirement already satisfied: google-auth-oauthlib<0.5,>=0.4.1 in /tmpfs/src/tf_docs_env/lib/python3.7/site-packages (from tensorboard<2.9,>=2.8->tensorflow~=2.8.0->tf-agents[reverb]) (0.4.6)\r\n",
      "Requirement already satisfied: requests<3,>=2.21.0 in /tmpfs/src/tf_docs_env/lib/python3.7/site-packages (from tensorboard<2.9,>=2.8->tensorflow~=2.8.0->tf-agents[reverb]) (2.27.1)\r\n"
     ]
    },
    {
     "name": "stdout",
     "output_type": "stream",
     "text": [
      "Requirement already satisfied: psutil in /tmpfs/src/tf_docs_env/lib/python3.7/site-packages (from portpicker->dm-reverb~=0.7.0->tf-agents[reverb]) (5.9.0)\r\n",
      "Requirement already satisfied: pyasn1-modules>=0.2.1 in /tmpfs/src/tf_docs_env/lib/python3.7/site-packages (from google-auth<3,>=1.6.3->tensorboard<2.9,>=2.8->tensorflow~=2.8.0->tf-agents[reverb]) (0.2.8)\r\n",
      "Requirement already satisfied: rsa<5,>=3.1.4 in /tmpfs/src/tf_docs_env/lib/python3.7/site-packages (from google-auth<3,>=1.6.3->tensorboard<2.9,>=2.8->tensorflow~=2.8.0->tf-agents[reverb]) (4.8)\r\n",
      "Requirement already satisfied: cachetools<6.0,>=2.0.0 in /tmpfs/src/tf_docs_env/lib/python3.7/site-packages (from google-auth<3,>=1.6.3->tensorboard<2.9,>=2.8->tensorflow~=2.8.0->tf-agents[reverb]) (5.0.0)\r\n",
      "Requirement already satisfied: requests-oauthlib>=0.7.0 in /tmpfs/src/tf_docs_env/lib/python3.7/site-packages (from google-auth-oauthlib<0.5,>=0.4.1->tensorboard<2.9,>=2.8->tensorflow~=2.8.0->tf-agents[reverb]) (1.3.1)\r\n"
     ]
    },
    {
     "name": "stdout",
     "output_type": "stream",
     "text": [
      "Requirement already satisfied: charset-normalizer~=2.0.0 in /tmpfs/src/tf_docs_env/lib/python3.7/site-packages (from requests<3,>=2.21.0->tensorboard<2.9,>=2.8->tensorflow~=2.8.0->tf-agents[reverb]) (2.0.12)\r\n",
      "Requirement already satisfied: urllib3<1.27,>=1.21.1 in /tmpfs/src/tf_docs_env/lib/python3.7/site-packages (from requests<3,>=2.21.0->tensorboard<2.9,>=2.8->tensorflow~=2.8.0->tf-agents[reverb]) (1.26.9)\r\n",
      "Requirement already satisfied: idna<4,>=2.5 in /tmpfs/src/tf_docs_env/lib/python3.7/site-packages (from requests<3,>=2.21.0->tensorboard<2.9,>=2.8->tensorflow~=2.8.0->tf-agents[reverb]) (3.3)\r\n",
      "Requirement already satisfied: certifi>=2017.4.17 in /tmpfs/src/tf_docs_env/lib/python3.7/site-packages (from requests<3,>=2.21.0->tensorboard<2.9,>=2.8->tensorflow~=2.8.0->tf-agents[reverb]) (2021.10.8)\r\n"
     ]
    },
    {
     "name": "stdout",
     "output_type": "stream",
     "text": [
      "Requirement already satisfied: pyasn1<0.5.0,>=0.4.6 in /tmpfs/src/tf_docs_env/lib/python3.7/site-packages (from pyasn1-modules>=0.2.1->google-auth<3,>=1.6.3->tensorboard<2.9,>=2.8->tensorflow~=2.8.0->tf-agents[reverb]) (0.4.8)\r\n",
      "Requirement already satisfied: oauthlib>=3.0.0 in /tmpfs/src/tf_docs_env/lib/python3.7/site-packages (from requests-oauthlib>=0.7.0->google-auth-oauthlib<0.5,>=0.4.1->tensorboard<2.9,>=2.8->tensorflow~=2.8.0->tf-agents[reverb]) (3.2.0)\r\n"
     ]
    },
    {
     "name": "stdout",
     "output_type": "stream",
     "text": [
      "Installing collected packages: tf-estimator-nightly, keras, gym-notices, gin-config, dm-tree, pygame, portpicker, cloudpickle, tensorflow-probability, gym, dm-reverb, tf-agents, tensorflow\r\n"
     ]
    },
    {
     "name": "stdout",
     "output_type": "stream",
     "text": [
      "  Attempting uninstall: keras\r\n",
      "    Found existing installation: keras 2.9.0rc2\r\n"
     ]
    },
    {
     "name": "stdout",
     "output_type": "stream",
     "text": [
      "    Uninstalling keras-2.9.0rc2:\r\n",
      "      Successfully uninstalled keras-2.9.0rc2\r\n"
     ]
    },
    {
     "name": "stdout",
     "output_type": "stream",
     "text": [
      "  Attempting uninstall: tensorflow\r\n",
      "    Found existing installation: tensorflow 2.9.0rc2\r\n"
     ]
    },
    {
     "name": "stdout",
     "output_type": "stream",
     "text": [
      "    Uninstalling tensorflow-2.9.0rc2:\r\n"
     ]
    },
    {
     "name": "stdout",
     "output_type": "stream",
     "text": [
      "      Successfully uninstalled tensorflow-2.9.0rc2\r\n"
     ]
    },
    {
     "name": "stdout",
     "output_type": "stream",
     "text": [
      "Successfully installed cloudpickle-2.0.0 dm-reverb-0.7.3 dm-tree-0.1.7 gin-config-0.5.0 gym-0.23.1 gym-notices-0.0.6 keras-2.8.0 portpicker-1.5.0 pygame-2.1.0 tensorflow-2.8.0 tensorflow-probability-0.16.0 tf-agents-0.12.1 tf-estimator-nightly-2.8.0.dev2021122109\r\n"
     ]
    },
    {
     "name": "stdout",
     "output_type": "stream",
     "text": [
      "Requirement already satisfied: pyglet in /tmpfs/src/tf_docs_env/lib/python3.7/site-packages (1.5.23)\r\n"
     ]
    }
   ],
   "source": [
    "!sudo apt-get update\n",
    "!sudo apt-get install -y xvfb ffmpeg freeglut3-dev\n",
    "!pip install 'imageio==2.4.0'\n",
    "!pip install pyvirtualdisplay\n",
    "!pip install tf-agents[reverb]\n",
    "!pip install pyglet"
   ]
  },
  {
   "cell_type": "code",
   "execution_count": 3,
   "metadata": {
    "execution": {
     "iopub.execute_input": "2022-05-07T11:06:33.616566Z",
     "iopub.status.busy": "2022-05-07T11:06:33.615970Z",
     "iopub.status.idle": "2022-05-07T11:06:42.498332Z",
     "shell.execute_reply": "2022-05-07T11:06:42.497671Z"
    },
    "id": "sMitx5qSgJk1"
   },
   "outputs": [],
   "source": [
    "from __future__ import absolute_import, division, print_function\n",
    "\n",
    "import base64\n",
    "import imageio\n",
    "import IPython\n",
    "import matplotlib\n",
    "import matplotlib.pyplot as plt\n",
    "import numpy as np\n",
    "import PIL.Image\n",
    "import pyvirtualdisplay\n",
    "import reverb\n",
    "\n",
    "import tensorflow as tf\n",
    "\n",
    "from tf_agents.agents.dqn import dqn_agent\n",
    "from tf_agents.drivers import py_driver\n",
    "from tf_agents.environments import suite_gym\n",
    "from tf_agents.environments import tf_py_environment\n",
    "from tf_agents.eval import metric_utils\n",
    "from tf_agents.metrics import tf_metrics\n",
    "from tf_agents.networks import sequential\n",
    "from tf_agents.policies import py_tf_eager_policy\n",
    "from tf_agents.policies import random_tf_policy\n",
    "from tf_agents.replay_buffers import reverb_replay_buffer\n",
    "from tf_agents.replay_buffers import reverb_utils\n",
    "from tf_agents.trajectories import trajectory\n",
    "from tf_agents.specs import tensor_spec\n",
    "from tf_agents.utils import common"
   ]
  },
  {
   "cell_type": "code",
   "execution_count": 4,
   "metadata": {
    "execution": {
     "iopub.execute_input": "2022-05-07T11:06:42.502128Z",
     "iopub.status.busy": "2022-05-07T11:06:42.501632Z",
     "iopub.status.idle": "2022-05-07T11:06:43.319165Z",
     "shell.execute_reply": "2022-05-07T11:06:43.318294Z"
    },
    "id": "J6HsdS5GbSjd"
   },
   "outputs": [],
   "source": [
    "# Set up a virtual display for rendering OpenAI gym environments.\n",
    "display = pyvirtualdisplay.Display(visible=0, size=(1400, 900)).start()"
   ]
  },
  {
   "cell_type": "code",
   "execution_count": 5,
   "metadata": {
    "execution": {
     "iopub.execute_input": "2022-05-07T11:06:43.323231Z",
     "iopub.status.busy": "2022-05-07T11:06:43.322823Z",
     "iopub.status.idle": "2022-05-07T11:06:43.333362Z",
     "shell.execute_reply": "2022-05-07T11:06:43.332736Z"
    },
    "id": "NspmzG4nP3b9"
   },
   "outputs": [
    {
     "data": {
      "text/plain": [
       "'2.8.0'"
      ]
     },
     "execution_count": 5,
     "metadata": {},
     "output_type": "execute_result"
    }
   ],
   "source": [
    "tf.version.VERSION"
   ]
  },
  {
   "cell_type": "markdown",
   "metadata": {
    "id": "LmC0NDhdLIKY"
   },
   "source": [
    "## Hyperparameters"
   ]
  },
  {
   "cell_type": "code",
   "execution_count": 6,
   "metadata": {
    "execution": {
     "iopub.execute_input": "2022-05-07T11:06:43.337117Z",
     "iopub.status.busy": "2022-05-07T11:06:43.336773Z",
     "iopub.status.idle": "2022-05-07T11:06:43.340864Z",
     "shell.execute_reply": "2022-05-07T11:06:43.340234Z"
    },
    "id": "HC1kNrOsLSIZ"
   },
   "outputs": [],
   "source": [
    "num_iterations = 20000 # @param {type:\"integer\"}\n",
    "\n",
    "initial_collect_steps = 100  # @param {type:\"integer\"}\n",
    "collect_steps_per_iteration =   1# @param {type:\"integer\"}\n",
    "replay_buffer_max_length = 100000  # @param {type:\"integer\"}\n",
    "\n",
    "batch_size = 64  # @param {type:\"integer\"}\n",
    "learning_rate = 1e-3  # @param {type:\"number\"}\n",
    "log_interval = 200  # @param {type:\"integer\"}\n",
    "\n",
    "num_eval_episodes = 10  # @param {type:\"integer\"}\n",
    "eval_interval = 1000  # @param {type:\"integer\"}"
   ]
  },
  {
   "cell_type": "markdown",
   "metadata": {
    "id": "VMsJC3DEgI0x"
   },
   "source": [
    "## Environment\n",
    "\n",
    "In Reinforcement Learning (RL), an environment represents the task or problem to be solved. Standard environments can be created in TF-Agents using `tf_agents.environments` suites. TF-Agents has suites for loading environments from sources such as the OpenAI Gym, Atari, and DM Control.\n",
    "\n",
    "Load the CartPole environment from the OpenAI Gym suite. "
   ]
  },
  {
   "cell_type": "code",
   "execution_count": 7,
   "metadata": {
    "execution": {
     "iopub.execute_input": "2022-05-07T11:06:43.343894Z",
     "iopub.status.busy": "2022-05-07T11:06:43.343458Z",
     "iopub.status.idle": "2022-05-07T11:06:43.610178Z",
     "shell.execute_reply": "2022-05-07T11:06:43.609387Z"
    },
    "id": "pYEz-S9gEv2-"
   },
   "outputs": [],
   "source": [
    "env_name = 'CartPole-v0'\n",
    "env = suite_gym.load(env_name)"
   ]
  },
  {
   "cell_type": "markdown",
   "metadata": {
    "id": "IIHYVBkuvPNw"
   },
   "source": [
    "You can render this environment to see how it looks. A free-swinging pole is attached to a cart.  The goal is to move the cart right or left in order to keep the pole pointing up."
   ]
  },
  {
   "cell_type": "code",
   "execution_count": 8,
   "metadata": {
    "execution": {
     "iopub.execute_input": "2022-05-07T11:06:43.614167Z",
     "iopub.status.busy": "2022-05-07T11:06:43.613629Z",
     "iopub.status.idle": "2022-05-07T11:06:43.758400Z",
     "shell.execute_reply": "2022-05-07T11:06:43.757394Z"
    },
    "id": "RlO7WIQHu_7D"
   },
   "outputs": [
    {
     "data": {
      "image/png": "[encoded data removed]",
      "text/plain": [
       "<PIL.Image.Image image mode=RGB size=600x400>"
      ]
     },
     "execution_count": 8,
     "metadata": {},
     "output_type": "execute_result"
    }
   ],
   "source": [
    "#@test {\"skip\": true}\n",
    "env.reset()\n",
    "PIL.Image.fromarray(env.render())"
   ]
  },
  {
   "cell_type": "markdown",
   "metadata": {
    "id": "B9_lskPOey18"
   },
   "source": [
    "The `environment.step` method takes an `action` in the environment and returns a `TimeStep` tuple containing the next observation of the environment and the reward for the action.\n",
    "\n",
    "The `time_step_spec()` method returns the specification for the `TimeStep` tuple. Its `observation` attribute shows the shape of observations, the data types, and the ranges of allowed values. The `reward` attribute shows the same details for the reward.\n"
   ]
  },
  {
   "cell_type": "code",
   "execution_count": 9,
   "metadata": {
    "execution": {
     "iopub.execute_input": "2022-05-07T11:06:43.762114Z",
     "iopub.status.busy": "2022-05-07T11:06:43.761629Z",
     "iopub.status.idle": "2022-05-07T11:06:43.768453Z",
     "shell.execute_reply": "2022-05-07T11:06:43.767664Z"
    },
    "id": "exDv57iHfwQV"
   },
   "outputs": [
    {
     "name": "stdout",
     "output_type": "stream",
     "text": [
      "Observation Spec:\n",
      "BoundedArraySpec(shape=(4,), dtype=dtype('float32'), name='observation', minimum=[-4.8000002e+00 -3.4028235e+38 -4.1887903e-01 -3.4028235e+38], maximum=[4.8000002e+00 3.4028235e+38 4.1887903e-01 3.4028235e+38])\n"
     ]
    }
   ],
   "source": [
    "print('Observation Spec:')\n",
    "print(env.time_step_spec().observation)"
   ]
  },
  {
   "cell_type": "code",
   "execution_count": 10,
   "metadata": {
    "execution": {
     "iopub.execute_input": "2022-05-07T11:06:43.772267Z",
     "iopub.status.busy": "2022-05-07T11:06:43.771787Z",
     "iopub.status.idle": "2022-05-07T11:06:43.776388Z",
     "shell.execute_reply": "2022-05-07T11:06:43.775568Z"
    },
    "id": "UxiSyCbBUQPi"
   },
   "outputs": [
    {
     "name": "stdout",
     "output_type": "stream",
     "text": [
      "Reward Spec:\n",
      "ArraySpec(shape=(), dtype=dtype('float32'), name='reward')\n"
     ]
    }
   ],
   "source": [
    "print('Reward Spec:')\n",
    "print(env.time_step_spec().reward)"
   ]
  },
  {
   "cell_type": "markdown",
   "metadata": {
    "id": "b_lHcIcqUaqB"
   },
   "source": [
    "The `action_spec()` method returns the shape, data types, and allowed values of valid actions."
   ]
  },
  {
   "cell_type": "code",
   "execution_count": 11,
   "metadata": {
    "execution": {
     "iopub.execute_input": "2022-05-07T11:06:43.780269Z",
     "iopub.status.busy": "2022-05-07T11:06:43.779766Z",
     "iopub.status.idle": "2022-05-07T11:06:43.784066Z",
     "shell.execute_reply": "2022-05-07T11:06:43.783208Z"
    },
    "id": "bttJ4uxZUQBr"
   },
   "outputs": [
    {
     "name": "stdout",
     "output_type": "stream",
     "text": [
      "Action Spec:\n",
      "BoundedArraySpec(shape=(), dtype=dtype('int64'), name='action', minimum=0, maximum=1)\n"
     ]
    }
   ],
   "source": [
    "print('Action Spec:')\n",
    "print(env.action_spec())"
   ]
  },
  {
   "cell_type": "markdown",
   "metadata": {
    "id": "eJCgJnx3g0yY"
   },
   "source": [
    "In the Cartpole environment:\n",
    "\n",
    "-   `observation` is an array of 4 floats: \n",
    "    -   the position and velocity of the cart\n",
    "    -   the angular position and velocity of the pole \n",
    "-   `reward` is a scalar float value\n",
    "-   `action` is a scalar integer with only two possible values:\n",
    "    -   `0` — \"move left\"\n",
    "    -   `1` — \"move right\"\n"
   ]
  },
  {
   "cell_type": "code",
   "execution_count": 12,
   "metadata": {
    "execution": {
     "iopub.execute_input": "2022-05-07T11:06:43.787495Z",
     "iopub.status.busy": "2022-05-07T11:06:43.787123Z",
     "iopub.status.idle": "2022-05-07T11:06:43.794796Z",
     "shell.execute_reply": "2022-05-07T11:06:43.793987Z"
    },
    "id": "V2UGR5t_iZX-"
   },
   "outputs": [
    {
     "name": "stdout",
     "output_type": "stream",
     "text": [
      "Time step:\n",
      "TimeStep(\n",
      "{'discount': array(1., dtype=float32),\n",
      " 'observation': array([ 0.03982952,  0.03095708,  0.02307781, -0.0216785 ], dtype=float32),\n",
      " 'reward': array(0., dtype=float32),\n",
      " 'step_type': array(0, dtype=int32)})\n",
      "Next time step:\n",
      "TimeStep(\n",
      "{'discount': array(1., dtype=float32),\n",
      " 'observation': array([ 0.04044866,  0.2257406 ,  0.02264424, -0.3069917 ], dtype=float32),\n",
      " 'reward': array(1., dtype=float32),\n",
      " 'step_type': array(1, dtype=int32)})\n"
     ]
    }
   ],
   "source": [
    "time_step = env.reset()\n",
    "print('Time step:')\n",
    "print(time_step)\n",
    "\n",
    "action = np.array(1, dtype=np.int32)\n",
    "\n",
    "next_time_step = env.step(action)\n",
    "print('Next time step:')\n",
    "print(next_time_step)"
   ]
  },
  {
   "cell_type": "markdown",
   "metadata": {
    "id": "4JSc9GviWUBK"
   },
   "source": [
    "Usually two environments are instantiated: one for training and one for evaluation. "
   ]
  },
  {
   "cell_type": "code",
   "execution_count": 13,
   "metadata": {
    "execution": {
     "iopub.execute_input": "2022-05-07T11:06:43.798806Z",
     "iopub.status.busy": "2022-05-07T11:06:43.798306Z",
     "iopub.status.idle": "2022-05-07T11:06:43.804569Z",
     "shell.execute_reply": "2022-05-07T11:06:43.803834Z"
    },
    "id": "N7brXNIGWXjC"
   },
   "outputs": [],
   "source": [
    "train_py_env = suite_gym.load(env_name)\n",
    "eval_py_env = suite_gym.load(env_name)"
   ]
  },
  {
   "cell_type": "markdown",
   "metadata": {
    "id": "zuUqXAVmecTU"
   },
   "source": [
    "The Cartpole environment, like most environments, is written in pure Python. This is converted to TensorFlow using the `TFPyEnvironment` wrapper.\n",
    "\n",
    "The original environment's API uses Numpy arrays. The `TFPyEnvironment` converts these to `Tensors` to make it compatible with Tensorflow agents and policies.\n"
   ]
  },
  {
   "cell_type": "code",
   "execution_count": 14,
   "metadata": {
    "execution": {
     "iopub.execute_input": "2022-05-07T11:06:43.808145Z",
     "iopub.status.busy": "2022-05-07T11:06:43.807700Z",
     "iopub.status.idle": "2022-05-07T11:06:43.816433Z",
     "shell.execute_reply": "2022-05-07T11:06:43.815849Z"
    },
    "id": "Xp-Y4mD6eDhF"
   },
   "outputs": [],
   "source": [
    "train_env = tf_py_environment.TFPyEnvironment(train_py_env)\n",
    "eval_env = tf_py_environment.TFPyEnvironment(eval_py_env)"
   ]
  },
  {
   "cell_type": "markdown",
   "metadata": {
    "id": "E9lW_OZYFR8A"
   },
   "source": [
    "## Agent\n",
    "\n",
    "The algorithm used to solve an RL problem is represented by an `Agent`. TF-Agents provides standard implementations of a variety of `Agents`, including:\n",
    "\n",
    "-   [DQN](https://storage.googleapis.com/deepmind-media/dqn/DQNNaturePaper.pdf) (used in this tutorial)\n",
    "-   [REINFORCE](https://www-anw.cs.umass.edu/~barto/courses/cs687/williams92simple.pdf)\n",
    "-   [DDPG](https://arxiv.org/pdf/1509.02971.pdf)\n",
    "-   [TD3](https://arxiv.org/pdf/1802.09477.pdf)\n",
    "-   [PPO](https://arxiv.org/abs/1707.06347)\n",
    "-   [SAC](https://arxiv.org/abs/1801.01290)\n",
    "\n",
    "The DQN agent can be used in any environment which has a discrete action space.\n",
    "\n",
    "At the heart of a DQN Agent is a `QNetwork`, a neural network model that can learn to predict `QValues` (expected returns) for all actions, given an observation from the environment.\n",
    "\n",
    "We will use `tf_agents.networks.` to create a `QNetwork`. The network will consist of a sequence of `tf.keras.layers.Dense` layers, where the final layer will have 1 output for each possible action."
   ]
  },
  {
   "cell_type": "code",
   "execution_count": 15,
   "metadata": {
    "execution": {
     "iopub.execute_input": "2022-05-07T11:06:43.819745Z",
     "iopub.status.busy": "2022-05-07T11:06:43.819528Z",
     "iopub.status.idle": "2022-05-07T11:06:43.845581Z",
     "shell.execute_reply": "2022-05-07T11:06:43.844850Z"
    },
    "id": "TgkdEPg_muzV"
   },
   "outputs": [],
   "source": [
    "fc_layer_params = (100, 50)\n",
    "action_tensor_spec = tensor_spec.from_spec(env.action_spec())\n",
    "num_actions = action_tensor_spec.maximum - action_tensor_spec.minimum + 1\n",
    "\n",
    "# Define a helper function to create Dense layers configured with the right\n",
    "# activation and kernel initializer.\n",
    "def dense_layer(num_units):\n",
    "  return tf.keras.layers.Dense(\n",
    "      num_units,\n",
    "      activation=tf.keras.activations.relu,\n",
    "      kernel_initializer=tf.keras.initializers.VarianceScaling(\n",
    "          scale=2.0, mode='fan_in', distribution='truncated_normal'))\n",
    "\n",
    "# QNetwork consists of a sequence of Dense layers followed by a dense layer\n",
    "# with `num_actions` units to generate one q_value per available action as\n",
    "# its output.\n",
    "dense_layers = [dense_layer(num_units) for num_units in fc_layer_params]\n",
    "q_values_layer = tf.keras.layers.Dense(\n",
    "    num_actions,\n",
    "    activation=None,\n",
    "    kernel_initializer=tf.keras.initializers.RandomUniform(\n",
    "        minval=-0.03, maxval=0.03),\n",
    "    bias_initializer=tf.keras.initializers.Constant(-0.2))\n",
    "q_net = sequential.Sequential(dense_layers + [q_values_layer])"
   ]
  },
  {
   "cell_type": "markdown",
   "metadata": {
    "id": "z62u55hSmviJ"
   },
   "source": [
    "Now use `tf_agents.agents.dqn.dqn_agent` to instantiate a `DqnAgent`. In addition to the `time_step_spec`, `action_spec` and the QNetwork, the agent constructor also requires an optimizer (in this case, `AdamOptimizer`), a loss function, and an integer step counter."
   ]
  },
  {
   "cell_type": "code",
   "execution_count": 16,
   "metadata": {
    "execution": {
     "iopub.execute_input": "2022-05-07T11:06:43.849893Z",
     "iopub.status.busy": "2022-05-07T11:06:43.849240Z",
     "iopub.status.idle": "2022-05-07T11:06:45.931179Z",
     "shell.execute_reply": "2022-05-07T11:06:45.930402Z"
    },
    "id": "jbY4yrjTEyc9"
   },
   "outputs": [],
   "source": [
    "optimizer = tf.keras.optimizers.Adam(learning_rate=learning_rate)\n",
    "\n",
    "train_step_counter = tf.Variable(0)\n",
    "\n",
    "agent = dqn_agent.DqnAgent(\n",
    "    train_env.time_step_spec(),\n",
    "    train_env.action_spec(),\n",
    "    q_network=q_net,\n",
    "    optimizer=optimizer,\n",
    "    td_errors_loss_fn=common.element_wise_squared_loss,\n",
    "    train_step_counter=train_step_counter)\n",
    "\n",
    "agent.initialize()"
   ]
  },
  {
   "cell_type": "markdown",
   "metadata": {
    "id": "I0KLrEPwkn5x"
   },
   "source": [
    "## Policies\n",
    "\n",
    "A policy defines the way an agent acts in an environment. Typically, the goal of reinforcement learning is to train the underlying model until the policy produces the desired outcome.\n",
    "\n",
    "In this tutorial:\n",
    "\n",
    "-   The desired outcome is keeping the pole balanced upright over the cart.\n",
    "-   The policy returns an action (left or right) for each `time_step` observation.\n",
    "\n",
    "Agents contain two policies: \n",
    "\n",
    "-   `agent.policy` — The main policy that is used for evaluation and deployment.\n",
    "-   `agent.collect_policy` — A second policy that is used for data collection.\n"
   ]
  },
  {
   "cell_type": "code",
   "execution_count": 17,
   "metadata": {
    "execution": {
     "iopub.execute_input": "2022-05-07T11:06:45.935467Z",
     "iopub.status.busy": "2022-05-07T11:06:45.934872Z",
     "iopub.status.idle": "2022-05-07T11:06:45.938415Z",
     "shell.execute_reply": "2022-05-07T11:06:45.937795Z"
    },
    "id": "BwY7StuMkuV4"
   },
   "outputs": [],
   "source": [
    "eval_policy = agent.policy\n",
    "collect_policy = agent.collect_policy"
   ]
  },
  {
   "cell_type": "markdown",
   "metadata": {
    "id": "2Qs1Fl3dV0ae"
   },
   "source": [
    "Policies can be created independently of agents. For example, use `tf_agents.policies.random_tf_policy` to create a policy which will randomly select an action for each `time_step`."
   ]
  },
  {
   "cell_type": "code",
   "execution_count": 18,
   "metadata": {
    "execution": {
     "iopub.execute_input": "2022-05-07T11:06:45.941723Z",
     "iopub.status.busy": "2022-05-07T11:06:45.941165Z",
     "iopub.status.idle": "2022-05-07T11:06:45.945045Z",
     "shell.execute_reply": "2022-05-07T11:06:45.944439Z"
    },
    "id": "HE37-UCIrE69"
   },
   "outputs": [],
   "source": [
    "random_policy = random_tf_policy.RandomTFPolicy(train_env.time_step_spec(),\n",
    "                                                train_env.action_spec())"
   ]
  },
  {
   "cell_type": "markdown",
   "metadata": {
    "id": "dOlnlRRsUbxP"
   },
   "source": [
    "To get an action from a policy, call the `policy.action(time_step)` method. The `time_step` contains the observation from the environment. This method returns a `PolicyStep`, which is a named tuple with three components:\n",
    "\n",
    "-   `action` — the action to be taken (in this case, `0` or `1`)\n",
    "-   `state` — used for stateful (that is, RNN-based) policies\n",
    "-   `info` — auxiliary data, such as log probabilities of actions"
   ]
  },
  {
   "cell_type": "code",
   "execution_count": 19,
   "metadata": {
    "execution": {
     "iopub.execute_input": "2022-05-07T11:06:45.948332Z",
     "iopub.status.busy": "2022-05-07T11:06:45.947837Z",
     "iopub.status.idle": "2022-05-07T11:06:45.954569Z",
     "shell.execute_reply": "2022-05-07T11:06:45.954012Z"
    },
    "id": "5gCcpXswVAxk"
   },
   "outputs": [],
   "source": [
    "example_environment = tf_py_environment.TFPyEnvironment(\n",
    "    suite_gym.load('CartPole-v0'))"
   ]
  },
  {
   "cell_type": "code",
   "execution_count": 20,
   "metadata": {
    "execution": {
     "iopub.execute_input": "2022-05-07T11:06:45.957691Z",
     "iopub.status.busy": "2022-05-07T11:06:45.957221Z",
     "iopub.status.idle": "2022-05-07T11:06:45.962275Z",
     "shell.execute_reply": "2022-05-07T11:06:45.961707Z"
    },
    "id": "D4DHZtq3Ndis"
   },
   "outputs": [],
   "source": [
    "time_step = example_environment.reset()"
   ]
  },
  {
   "cell_type": "code",
   "execution_count": 21,
   "metadata": {
    "execution": {
     "iopub.execute_input": "2022-05-07T11:06:45.965354Z",
     "iopub.status.busy": "2022-05-07T11:06:45.964879Z",
     "iopub.status.idle": "2022-05-07T11:06:45.973490Z",
     "shell.execute_reply": "2022-05-07T11:06:45.972879Z"
    },
    "id": "PRFqAUzpNaAW"
   },
   "outputs": [
    {
     "data": {
      "text/plain": [
       "PolicyStep(action=<tf.Tensor: shape=(1,), dtype=int64, numpy=array([0])>, state=(), info=())"
      ]
     },
     "execution_count": 21,
     "metadata": {},
     "output_type": "execute_result"
    }
   ],
   "source": [
    "random_policy.action(time_step)"
   ]
  },
  {
   "cell_type": "markdown",
   "metadata": {
    "id": "94rCXQtbUbXv"
   },
   "source": [
    "## Metrics and Evaluation\n",
    "\n",
    "The most common metric used to evaluate a policy is the average return. The return is the sum of rewards obtained while running a policy in an environment for an episode. Several episodes are run, creating an average return.\n",
    "\n",
    "The following function computes the average return of a policy, given the policy, environment, and a number of episodes.\n"
   ]
  },
  {
   "cell_type": "code",
   "execution_count": 22,
   "metadata": {
    "execution": {
     "iopub.execute_input": "2022-05-07T11:06:45.976810Z",
     "iopub.status.busy": "2022-05-07T11:06:45.976252Z",
     "iopub.status.idle": "2022-05-07T11:06:45.980972Z",
     "shell.execute_reply": "2022-05-07T11:06:45.980451Z"
    },
    "id": "bitzHo5_UbXy"
   },
   "outputs": [],
   "source": [
    "#@test {\"skip\": true}\n",
    "def compute_avg_return(environment, policy, num_episodes=10):\n",
    "\n",
    "  total_return = 0.0\n",
    "  for _ in range(num_episodes):\n",
    "\n",
    "    time_step = environment.reset()\n",
    "    episode_return = 0.0\n",
    "\n",
    "    while not time_step.is_last():\n",
    "      action_step = policy.action(time_step)\n",
    "      time_step = environment.step(action_step.action)\n",
    "      episode_return += time_step.reward\n",
    "    total_return += episode_return\n",
    "\n",
    "  avg_return = total_return / num_episodes\n",
    "  return avg_return.numpy()[0]\n",
    "\n",
    "\n",
    "# See also the metrics module for standard implementations of different metrics.\n",
    "# https://github.com/tensorflow/agents/tree/master/tf_agents/metrics"
   ]
  },
  {
   "cell_type": "markdown",
   "metadata": {
    "id": "_snCVvq5Z8lJ"
   },
   "source": [
    "Running this computation on the `random_policy` shows a baseline performance in the environment."
   ]
  },
  {
   "cell_type": "code",
   "execution_count": 23,
   "metadata": {
    "execution": {
     "iopub.execute_input": "2022-05-07T11:06:45.984190Z",
     "iopub.status.busy": "2022-05-07T11:06:45.983715Z",
     "iopub.status.idle": "2022-05-07T11:06:46.588110Z",
     "shell.execute_reply": "2022-05-07T11:06:46.587563Z"
    },
    "id": "9bgU6Q6BZ8Bp"
   },
   "outputs": [
    {
     "data": {
      "text/plain": [
       "19.4"
      ]
     },
     "execution_count": 23,
     "metadata": {},
     "output_type": "execute_result"
    }
   ],
   "source": [
    "compute_avg_return(eval_env, random_policy, num_eval_episodes)"
   ]
  },
  {
   "cell_type": "markdown",
   "metadata": {
    "id": "NLva6g2jdWgr"
   },
   "source": [
    "## Replay Buffer\n",
    "\n",
    "In order to keep track of the data collected from the environment, we will use [Reverb](https://deepmind.com/research/open-source/Reverb), an efficient, extensible, and easy-to-use replay system by Deepmind. It stores experience data when we collect trajectories and is consumed during training.\n",
    "\n",
    "This replay buffer is constructed using specs describing the tensors that are to be stored, which can be obtained from the agent using agent.collect_data_spec.\n"
   ]
  },
  {
   "cell_type": "code",
   "execution_count": 24,
   "metadata": {
    "execution": {
     "iopub.execute_input": "2022-05-07T11:06:46.591708Z",
     "iopub.status.busy": "2022-05-07T11:06:46.591232Z",
     "iopub.status.idle": "2022-05-07T11:06:46.606155Z",
     "shell.execute_reply": "2022-05-07T11:06:46.605612Z"
    },
    "id": "vX2zGUWJGWAl"
   },
   "outputs": [
    {
     "name": "stderr",
     "output_type": "stream",
     "text": [
      "[reverb/cc/platform/tfrecord_checkpointer.cc:150]  Initializing TFRecordCheckpointer in /tmp/tmpdoioyfy9.\n",
      "[reverb/cc/platform/tfrecord_checkpointer.cc:386] Loading latest checkpoint from /tmp/tmpdoioyfy9\n",
      "[reverb/cc/platform/default/server.cc:71] Started replay server on port 24185\n"
     ]
    }
   ],
   "source": [
    "table_name = 'uniform_table'\n",
    "replay_buffer_signature = tensor_spec.from_spec(\n",
    "      agent.collect_data_spec)\n",
    "replay_buffer_signature = tensor_spec.add_outer_dim(\n",
    "    replay_buffer_signature)\n",
    "\n",
    "table = reverb.Table(\n",
    "    table_name,\n",
    "    max_size=replay_buffer_max_length,\n",
    "    sampler=reverb.selectors.Uniform(),\n",
    "    remover=reverb.selectors.Fifo(),\n",
    "    rate_limiter=reverb.rate_limiters.MinSize(1),\n",
    "    signature=replay_buffer_signature)\n",
    "\n",
    "reverb_server = reverb.Server([table])\n",
    "\n",
    "replay_buffer = reverb_replay_buffer.ReverbReplayBuffer(\n",
    "    agent.collect_data_spec,\n",
    "    table_name=table_name,\n",
    "    sequence_length=2,\n",
    "    local_server=reverb_server)\n",
    "\n",
    "rb_observer = reverb_utils.ReverbAddTrajectoryObserver(\n",
    "  replay_buffer.py_client,\n",
    "  table_name,\n",
    "  sequence_length=2)"
   ]
  },
  {
   "cell_type": "markdown",
   "metadata": {
    "id": "ZGNTDJpZs4NN"
   },
   "source": [
    "For most agents, `collect_data_spec` is a named tuple called `Trajectory`, containing the specs for observations, actions, rewards, and other items."
   ]
  },
  {
   "cell_type": "code",
   "execution_count": 25,
   "metadata": {
    "execution": {
     "iopub.execute_input": "2022-05-07T11:06:46.609161Z",
     "iopub.status.busy": "2022-05-07T11:06:46.608739Z",
     "iopub.status.idle": "2022-05-07T11:06:46.614316Z",
     "shell.execute_reply": "2022-05-07T11:06:46.613766Z"
    },
    "id": "_IZ-3HcqgE1z"
   },
   "outputs": [
    {
     "data": {
      "text/plain": [
       "Trajectory(\n",
       "{'action': BoundedTensorSpec(shape=(), dtype=tf.int64, name='action', minimum=array(0), maximum=array(1)),\n",
       " 'discount': BoundedTensorSpec(shape=(), dtype=tf.float32, name='discount', minimum=array(0., dtype=float32), maximum=array(1., dtype=float32)),\n",
       " 'next_step_type': TensorSpec(shape=(), dtype=tf.int32, name='step_type'),\n",
       " 'observation': BoundedTensorSpec(shape=(4,), dtype=tf.float32, name='observation', minimum=array([-4.8000002e+00, -3.4028235e+38, -4.1887903e-01, -3.4028235e+38],\n",
       "      dtype=float32), maximum=array([4.8000002e+00, 3.4028235e+38, 4.1887903e-01, 3.4028235e+38],\n",
       "      dtype=float32)),\n",
       " 'policy_info': (),\n",
       " 'reward': TensorSpec(shape=(), dtype=tf.float32, name='reward'),\n",
       " 'step_type': TensorSpec(shape=(), dtype=tf.int32, name='step_type')})"
      ]
     },
     "execution_count": 25,
     "metadata": {},
     "output_type": "execute_result"
    }
   ],
   "source": [
    "agent.collect_data_spec"
   ]
  },
  {
   "cell_type": "code",
   "execution_count": 26,
   "metadata": {
    "execution": {
     "iopub.execute_input": "2022-05-07T11:06:46.617146Z",
     "iopub.status.busy": "2022-05-07T11:06:46.616652Z",
     "iopub.status.idle": "2022-05-07T11:06:46.620669Z",
     "shell.execute_reply": "2022-05-07T11:06:46.620202Z"
    },
    "id": "sy6g1tGcfRlw"
   },
   "outputs": [
    {
     "data": {
      "text/plain": [
       "('step_type',\n",
       " 'observation',\n",
       " 'action',\n",
       " 'policy_info',\n",
       " 'next_step_type',\n",
       " 'reward',\n",
       " 'discount')"
      ]
     },
     "execution_count": 26,
     "metadata": {},
     "output_type": "execute_result"
    }
   ],
   "source": [
    "agent.collect_data_spec._fields"
   ]
  },
  {
   "cell_type": "markdown",
   "metadata": {
    "id": "rVD5nQ9ZGo8_"
   },
   "source": [
    "## Data Collection\n",
    "\n",
    "Now execute the random policy in the environment for a few steps, recording the data in the replay buffer.\n",
    "\n",
    "Here we are using 'PyDriver' to run the experience collecting loop. You can learn more about TF Agents driver in our [drivers tutorial](https://www.tensorflow.org/agents/tutorials/4_drivers_tutorial)."
   ]
  },
  {
   "cell_type": "code",
   "execution_count": 27,
   "metadata": {
    "execution": {
     "iopub.execute_input": "2022-05-07T11:06:46.623815Z",
     "iopub.status.busy": "2022-05-07T11:06:46.623360Z",
     "iopub.status.idle": "2022-05-07T11:06:46.900349Z",
     "shell.execute_reply": "2022-05-07T11:06:46.899484Z"
    },
    "id": "wr1KSAEGG4h9"
   },
   "outputs": [
    {
     "data": {
      "text/plain": [
       "(TimeStep(\n",
       " {'discount': array(1., dtype=float32),\n",
       "  'observation': array([-0.01682967, -0.5797006 ,  0.11501301,  0.994641  ], dtype=float32),\n",
       "  'reward': array(1., dtype=float32),\n",
       "  'step_type': array(1, dtype=int32)}),\n",
       " ())"
      ]
     },
     "execution_count": 27,
     "metadata": {},
     "output_type": "execute_result"
    }
   ],
   "source": [
    "#@test {\"skip\": true}\n",
    "py_driver.PyDriver(\n",
    "    env,\n",
    "    py_tf_eager_policy.PyTFEagerPolicy(\n",
    "      random_policy, use_tf_function=True),\n",
    "    [rb_observer],\n",
    "    max_steps=initial_collect_steps).run(train_py_env.reset())"
   ]
  },
  {
   "cell_type": "markdown",
   "metadata": {
    "id": "84z5pQJdoKxo"
   },
   "source": [
    "The replay buffer is now a collection of Trajectories."
   ]
  },
  {
   "cell_type": "code",
   "execution_count": 28,
   "metadata": {
    "execution": {
     "iopub.execute_input": "2022-05-07T11:06:46.904168Z",
     "iopub.status.busy": "2022-05-07T11:06:46.903948Z",
     "iopub.status.idle": "2022-05-07T11:06:46.907309Z",
     "shell.execute_reply": "2022-05-07T11:06:46.906675Z"
    },
    "id": "4wZnLu2ViO4E"
   },
   "outputs": [],
   "source": [
    "# For the curious:\n",
    "# Uncomment to peel one of these off and inspect it.\n",
    "# iter(replay_buffer.as_dataset()).next()"
   ]
  },
  {
   "cell_type": "markdown",
   "metadata": {
    "id": "TujU-PMUsKjS"
   },
   "source": [
    "The agent needs access to the replay buffer. This is provided by creating an iterable `tf.data.Dataset` pipeline which will feed data to the agent.\n",
    "\n",
    "Each row of the replay buffer only stores a single observation step. But since the DQN Agent needs both the current and next observation to compute the loss, the dataset pipeline will sample two adjacent rows for each item in the batch (`num_steps=2`).\n",
    "\n",
    "This dataset is also optimized by running parallel calls and prefetching data."
   ]
  },
  {
   "cell_type": "code",
   "execution_count": 29,
   "metadata": {
    "execution": {
     "iopub.execute_input": "2022-05-07T11:06:46.911063Z",
     "iopub.status.busy": "2022-05-07T11:06:46.910513Z",
     "iopub.status.idle": "2022-05-07T11:06:47.390578Z",
     "shell.execute_reply": "2022-05-07T11:06:47.389803Z"
    },
    "id": "ba7bilizt_qW"
   },
   "outputs": [
    {
     "data": {
      "text/plain": [
       "<PrefetchDataset element_spec=(Trajectory(\n",
       "{'action': TensorSpec(shape=(64, 2), dtype=tf.int64, name=None),\n",
       " 'discount': TensorSpec(shape=(64, 2), dtype=tf.float32, name=None),\n",
       " 'next_step_type': TensorSpec(shape=(64, 2), dtype=tf.int32, name=None),\n",
       " 'observation': TensorSpec(shape=(64, 2, 4), dtype=tf.float32, name=None),\n",
       " 'policy_info': (),\n",
       " 'reward': TensorSpec(shape=(64, 2), dtype=tf.float32, name=None),\n",
       " 'step_type': TensorSpec(shape=(64, 2), dtype=tf.int32, name=None)}), SampleInfo(key=TensorSpec(shape=(64, 2), dtype=tf.uint64, name=None), probability=TensorSpec(shape=(64, 2), dtype=tf.float64, name=None), table_size=TensorSpec(shape=(64, 2), dtype=tf.int64, name=None), priority=TensorSpec(shape=(64, 2), dtype=tf.float64, name=None)))>"
      ]
     },
     "execution_count": 29,
     "metadata": {},
     "output_type": "execute_result"
    }
   ],
   "source": [
    "# Dataset generates trajectories with shape [Bx2x...]\n",
    "dataset = replay_buffer.as_dataset(\n",
    "    num_parallel_calls=3,\n",
    "    sample_batch_size=batch_size,\n",
    "    num_steps=2).prefetch(3)\n",
    "\n",
    "dataset"
   ]
  },
  {
   "cell_type": "code",
   "execution_count": 30,
   "metadata": {
    "execution": {
     "iopub.execute_input": "2022-05-07T11:06:47.393718Z",
     "iopub.status.busy": "2022-05-07T11:06:47.393213Z",
     "iopub.status.idle": "2022-05-07T11:06:47.460083Z",
     "shell.execute_reply": "2022-05-07T11:06:47.459237Z"
    },
    "id": "K13AST-2ppOq"
   },
   "outputs": [
    {
     "name": "stdout",
     "output_type": "stream",
     "text": [
      "<tensorflow.python.data.ops.iterator_ops.OwnedIterator object at 0x7fac502b7750>\n"
     ]
    }
   ],
   "source": [
    "iterator = iter(dataset)\n",
    "print(iterator)"
   ]
  },
  {
   "cell_type": "code",
   "execution_count": 31,
   "metadata": {
    "execution": {
     "iopub.execute_input": "2022-05-07T11:06:47.463416Z",
     "iopub.status.busy": "2022-05-07T11:06:47.462946Z",
     "iopub.status.idle": "2022-05-07T11:06:47.466074Z",
     "shell.execute_reply": "2022-05-07T11:06:47.465376Z"
    },
    "id": "Th5w5Sff0b16"
   },
   "outputs": [],
   "source": [
    "# For the curious:\n",
    "# Uncomment to see what the dataset iterator is feeding to the agent.\n",
    "# Compare this representation of replay data \n",
    "# to the collection of individual trajectories shown earlier.\n",
    "\n",
    "# iterator.next()"
   ]
  },
  {
   "cell_type": "markdown",
   "metadata": {
    "id": "hBc9lj9VWWtZ"
   },
   "source": [
    "## Training the agent\n",
    "\n",
    "Two things must happen during the training loop:\n",
    "\n",
    "-   collect data from the environment\n",
    "-   use that data to train the agent's neural network(s)\n",
    "\n",
    "This example also periodicially evaluates the policy and prints the current score.\n",
    "\n",
    "The following will take ~5 minutes to run."
   ]
  },
  {
   "cell_type": "code",
   "execution_count": 32,
   "metadata": {
    "execution": {
     "iopub.execute_input": "2022-05-07T11:06:47.468992Z",
     "iopub.status.busy": "2022-05-07T11:06:47.468572Z",
     "iopub.status.idle": "2022-05-07T11:12:44.213718Z",
     "shell.execute_reply": "2022-05-07T11:12:44.212958Z"
    },
    "id": "0pTbJ3PeyF-u"
   },
   "outputs": [
    {
     "name": "stdout",
     "output_type": "stream",
     "text": [
      "WARNING:tensorflow:From /tmpfs/src/tf_docs_env/lib/python3.7/site-packages/tensorflow/python/util/dispatch.py:1082: calling foldr_v2 (from tensorflow.python.ops.functional_ops) with back_prop=False is deprecated and will be removed in a future version.\n",
      "Instructions for updating:\n",
      "back_prop=False is deprecated. Consider using tf.stop_gradient instead.\n",
      "Instead of:\n",
      "results = tf.foldr(fn, elems, back_prop=False)\n",
      "Use:\n",
      "results = tf.nest.map_structure(tf.stop_gradient, tf.foldr(fn, elems))\n"
     ]
    },
    {
     "name": "stderr",
     "output_type": "stream",
     "text": [
      "[reverb/cc/client.cc:165] Sampler and server are owned by the same process (9862) so Table uniform_table is accessed directly without gRPC.\n",
      "[reverb/cc/client.cc:165] Sampler and server are owned by the same process (9862) so Table uniform_table is accessed directly without gRPC.\n",
      "[reverb/cc/client.cc:165] Sampler and server are owned by the same process (9862) so Table uniform_table is accessed directly without gRPC.\n",
      "[reverb/cc/client.cc:165] Sampler and server are owned by the same process (9862) so Table uniform_table is accessed directly without gRPC.\n",
      "[reverb/cc/client.cc:165] Sampler and server are owned by the same process (9862) so Table uniform_table is accessed directly without gRPC.\n",
      "[reverb/cc/client.cc:165] Sampler and server are owned by the same process (9862) so Table uniform_table is accessed directly without gRPC.\n"
     ]
    },
    {
     "name": "stdout",
     "output_type": "stream",
     "text": [
      "step = 200: loss = 16.015960693359375\n"
     ]
    },
    {
     "name": "stdout",
     "output_type": "stream",
     "text": [
      "step = 400: loss = 47.185611724853516\n"
     ]
    },
    {
     "name": "stdout",
     "output_type": "stream",
     "text": [
      "step = 600: loss = 736.9923095703125\n"
     ]
    },
    {
     "name": "stdout",
     "output_type": "stream",
     "text": [
      "step = 800: loss = 175.4927215576172\n"
     ]
    },
    {
     "name": "stdout",
     "output_type": "stream",
     "text": [
      "step = 1000: loss = 65.5635757446289\n"
     ]
    },
    {
     "name": "stdout",
     "output_type": "stream",
     "text": [
      "step = 1000: Average Return = 171.1999969482422\n"
     ]
    },
    {
     "name": "stdout",
     "output_type": "stream",
     "text": [
      "step = 1200: loss = 1594.881103515625\n"
     ]
    },
    {
     "name": "stdout",
     "output_type": "stream",
     "text": [
      "step = 1400: loss = 32.85587692260742\n"
     ]
    },
    {
     "name": "stdout",
     "output_type": "stream",
     "text": [
      "step = 1600: loss = 88.44110107421875\n"
     ]
    },
    {
     "name": "stdout",
     "output_type": "stream",
     "text": [
      "step = 1800: loss = 2868.479248046875\n"
     ]
    },
    {
     "name": "stdout",
     "output_type": "stream",
     "text": [
      "step = 2000: loss = 1537.3463134765625\n"
     ]
    },
    {
     "name": "stdout",
     "output_type": "stream",
     "text": [
      "step = 2000: Average Return = 129.6999969482422\n"
     ]
    },
    {
     "name": "stdout",
     "output_type": "stream",
     "text": [
      "step = 2200: loss = 282.4945983886719\n"
     ]
    },
    {
     "name": "stdout",
     "output_type": "stream",
     "text": [
      "step = 2400: loss = 918.4564208984375\n"
     ]
    },
    {
     "name": "stdout",
     "output_type": "stream",
     "text": [
      "step = 2600: loss = 118.39675903320312\n"
     ]
    },
    {
     "name": "stdout",
     "output_type": "stream",
     "text": [
      "step = 2800: loss = 86.51387023925781\n"
     ]
    },
    {
     "name": "stdout",
     "output_type": "stream",
     "text": [
      "step = 3000: loss = 43.96769714355469\n"
     ]
    },
    {
     "name": "stdout",
     "output_type": "stream",
     "text": [
      "step = 3000: Average Return = 151.39999389648438\n"
     ]
    },
    {
     "name": "stdout",
     "output_type": "stream",
     "text": [
      "step = 3200: loss = 37.7552490234375\n"
     ]
    },
    {
     "name": "stdout",
     "output_type": "stream",
     "text": [
      "step = 3400: loss = 55.306640625\n"
     ]
    },
    {
     "name": "stdout",
     "output_type": "stream",
     "text": [
      "step = 3600: loss = 145.16598510742188\n"
     ]
    },
    {
     "name": "stdout",
     "output_type": "stream",
     "text": [
      "step = 3800: loss = 30.914730072021484\n"
     ]
    },
    {
     "name": "stdout",
     "output_type": "stream",
     "text": [
      "step = 4000: loss = 115.53938293457031\n"
     ]
    },
    {
     "name": "stdout",
     "output_type": "stream",
     "text": [
      "step = 4000: Average Return = 180.10000610351562\n"
     ]
    },
    {
     "name": "stdout",
     "output_type": "stream",
     "text": [
      "step = 4200: loss = 55.767601013183594\n"
     ]
    },
    {
     "name": "stdout",
     "output_type": "stream",
     "text": [
      "step = 4400: loss = 59.72187805175781\n"
     ]
    },
    {
     "name": "stdout",
     "output_type": "stream",
     "text": [
      "step = 4600: loss = 54.24274826049805\n"
     ]
    },
    {
     "name": "stdout",
     "output_type": "stream",
     "text": [
      "step = 4800: loss = 218.40969848632812\n"
     ]
    },
    {
     "name": "stdout",
     "output_type": "stream",
     "text": [
      "step = 5000: loss = 310.97296142578125\n"
     ]
    },
    {
     "name": "stdout",
     "output_type": "stream",
     "text": [
      "step = 5000: Average Return = 200.0\n"
     ]
    },
    {
     "name": "stdout",
     "output_type": "stream",
     "text": [
      "step = 5200: loss = 74.71685791015625\n"
     ]
    },
    {
     "name": "stdout",
     "output_type": "stream",
     "text": [
      "step = 5400: loss = 505.34075927734375\n"
     ]
    },
    {
     "name": "stdout",
     "output_type": "stream",
     "text": [
      "step = 5600: loss = 349.7851257324219\n"
     ]
    },
    {
     "name": "stdout",
     "output_type": "stream",
     "text": [
      "step = 5800: loss = 556.5531005859375\n"
     ]
    },
    {
     "name": "stdout",
     "output_type": "stream",
     "text": [
      "step = 6000: loss = 393.497802734375\n"
     ]
    },
    {
     "name": "stdout",
     "output_type": "stream",
     "text": [
      "step = 6000: Average Return = 200.0\n"
     ]
    },
    {
     "name": "stdout",
     "output_type": "stream",
     "text": [
      "step = 6200: loss = 632.537109375\n"
     ]
    },
    {
     "name": "stdout",
     "output_type": "stream",
     "text": [
      "step = 6400: loss = 233.87774658203125\n"
     ]
    },
    {
     "name": "stdout",
     "output_type": "stream",
     "text": [
      "step = 6600: loss = 149.68161010742188\n"
     ]
    },
    {
     "name": "stdout",
     "output_type": "stream",
     "text": [
      "step = 6800: loss = 771.809326171875\n"
     ]
    },
    {
     "name": "stdout",
     "output_type": "stream",
     "text": [
      "step = 7000: loss = 136.535888671875\n"
     ]
    },
    {
     "name": "stdout",
     "output_type": "stream",
     "text": [
      "step = 7000: Average Return = 200.0\n"
     ]
    },
    {
     "name": "stdout",
     "output_type": "stream",
     "text": [
      "step = 7200: loss = 214.4747314453125\n"
     ]
    },
    {
     "name": "stdout",
     "output_type": "stream",
     "text": [
      "step = 7400: loss = 2745.0703125\n"
     ]
    },
    {
     "name": "stdout",
     "output_type": "stream",
     "text": [
      "step = 7600: loss = 4504.373046875\n"
     ]
    },
    {
     "name": "stdout",
     "output_type": "stream",
     "text": [
      "step = 7800: loss = 295.11859130859375\n"
     ]
    },
    {
     "name": "stdout",
     "output_type": "stream",
     "text": [
      "step = 8000: loss = 1483.1090087890625\n"
     ]
    },
    {
     "name": "stdout",
     "output_type": "stream",
     "text": [
      "step = 8000: Average Return = 200.0\n"
     ]
    },
    {
     "name": "stdout",
     "output_type": "stream",
     "text": [
      "step = 8200: loss = 13224.90625\n"
     ]
    },
    {
     "name": "stdout",
     "output_type": "stream",
     "text": [
      "step = 8400: loss = 731.6187744140625\n"
     ]
    },
    {
     "name": "stdout",
     "output_type": "stream",
     "text": [
      "step = 8600: loss = 2498.115234375\n"
     ]
    },
    {
     "name": "stdout",
     "output_type": "stream",
     "text": [
      "step = 8800: loss = 2752.463134765625\n"
     ]
    },
    {
     "name": "stdout",
     "output_type": "stream",
     "text": [
      "step = 9000: loss = 571.6118774414062\n"
     ]
    },
    {
     "name": "stdout",
     "output_type": "stream",
     "text": [
      "step = 9000: Average Return = 194.3000030517578\n"
     ]
    },
    {
     "name": "stdout",
     "output_type": "stream",
     "text": [
      "step = 9200: loss = 433.17413330078125\n"
     ]
    },
    {
     "name": "stdout",
     "output_type": "stream",
     "text": [
      "step = 9400: loss = 494.7076416015625\n"
     ]
    },
    {
     "name": "stdout",
     "output_type": "stream",
     "text": [
      "step = 9600: loss = 409.4160461425781\n"
     ]
    },
    {
     "name": "stdout",
     "output_type": "stream",
     "text": [
      "step = 9800: loss = 444.74029541015625\n"
     ]
    },
    {
     "name": "stdout",
     "output_type": "stream",
     "text": [
      "step = 10000: loss = 417.860595703125\n"
     ]
    },
    {
     "name": "stdout",
     "output_type": "stream",
     "text": [
      "step = 10000: Average Return = 200.0\n"
     ]
    },
    {
     "name": "stdout",
     "output_type": "stream",
     "text": [
      "step = 10200: loss = 241.61526489257812\n"
     ]
    },
    {
     "name": "stdout",
     "output_type": "stream",
     "text": [
      "step = 10400: loss = 323.7486267089844\n"
     ]
    },
    {
     "name": "stdout",
     "output_type": "stream",
     "text": [
      "step = 10600: loss = 1961.7996826171875\n"
     ]
    },
    {
     "name": "stdout",
     "output_type": "stream",
     "text": [
      "step = 10800: loss = 467.81781005859375\n"
     ]
    },
    {
     "name": "stdout",
     "output_type": "stream",
     "text": [
      "step = 11000: loss = 75.74491882324219\n"
     ]
    },
    {
     "name": "stdout",
     "output_type": "stream",
     "text": [
      "step = 11000: Average Return = 200.0\n"
     ]
    },
    {
     "name": "stdout",
     "output_type": "stream",
     "text": [
      "step = 11200: loss = 652.3634643554688\n"
     ]
    },
    {
     "name": "stdout",
     "output_type": "stream",
     "text": [
      "step = 11400: loss = 211.48666381835938\n"
     ]
    },
    {
     "name": "stdout",
     "output_type": "stream",
     "text": [
      "step = 11600: loss = 170.49517822265625\n"
     ]
    },
    {
     "name": "stdout",
     "output_type": "stream",
     "text": [
      "step = 11800: loss = 119.90447998046875\n"
     ]
    },
    {
     "name": "stdout",
     "output_type": "stream",
     "text": [
      "step = 12000: loss = 991.9341430664062\n"
     ]
    },
    {
     "name": "stdout",
     "output_type": "stream",
     "text": [
      "step = 12000: Average Return = 200.0\n"
     ]
    },
    {
     "name": "stdout",
     "output_type": "stream",
     "text": [
      "step = 12200: loss = 101.59536743164062\n"
     ]
    },
    {
     "name": "stdout",
     "output_type": "stream",
     "text": [
      "step = 12400: loss = 148.53955078125\n"
     ]
    },
    {
     "name": "stdout",
     "output_type": "stream",
     "text": [
      "step = 12600: loss = 191.56800842285156\n"
     ]
    },
    {
     "name": "stdout",
     "output_type": "stream",
     "text": [
      "step = 12800: loss = 115.52975463867188\n"
     ]
    },
    {
     "name": "stdout",
     "output_type": "stream",
     "text": [
      "step = 13000: loss = 70.33795166015625\n"
     ]
    },
    {
     "name": "stdout",
     "output_type": "stream",
     "text": [
      "step = 13000: Average Return = 200.0\n"
     ]
    },
    {
     "name": "stdout",
     "output_type": "stream",
     "text": [
      "step = 13200: loss = 70.56562805175781\n"
     ]
    },
    {
     "name": "stdout",
     "output_type": "stream",
     "text": [
      "step = 13400: loss = 159.9202880859375\n"
     ]
    },
    {
     "name": "stdout",
     "output_type": "stream",
     "text": [
      "step = 13600: loss = 1406.8662109375\n"
     ]
    },
    {
     "name": "stdout",
     "output_type": "stream",
     "text": [
      "step = 13800: loss = 85.49430847167969\n"
     ]
    },
    {
     "name": "stdout",
     "output_type": "stream",
     "text": [
      "step = 14000: loss = 84.74932861328125\n"
     ]
    },
    {
     "name": "stdout",
     "output_type": "stream",
     "text": [
      "step = 14000: Average Return = 200.0\n"
     ]
    },
    {
     "name": "stdout",
     "output_type": "stream",
     "text": [
      "step = 14200: loss = 317.33819580078125\n"
     ]
    },
    {
     "name": "stdout",
     "output_type": "stream",
     "text": [
      "step = 14400: loss = 707.352294921875\n"
     ]
    },
    {
     "name": "stdout",
     "output_type": "stream",
     "text": [
      "step = 14600: loss = 53.67301940917969\n"
     ]
    },
    {
     "name": "stdout",
     "output_type": "stream",
     "text": [
      "step = 14800: loss = 100.62562561035156\n"
     ]
    },
    {
     "name": "stdout",
     "output_type": "stream",
     "text": [
      "step = 15000: loss = 764.060546875\n"
     ]
    },
    {
     "name": "stdout",
     "output_type": "stream",
     "text": [
      "step = 15000: Average Return = 200.0\n"
     ]
    },
    {
     "name": "stdout",
     "output_type": "stream",
     "text": [
      "step = 15200: loss = 90.79063415527344\n"
     ]
    },
    {
     "name": "stdout",
     "output_type": "stream",
     "text": [
      "step = 15400: loss = 122.30677795410156\n"
     ]
    },
    {
     "name": "stdout",
     "output_type": "stream",
     "text": [
      "step = 15600: loss = 69.46464538574219\n"
     ]
    },
    {
     "name": "stdout",
     "output_type": "stream",
     "text": [
      "step = 15800: loss = 554.35498046875\n"
     ]
    },
    {
     "name": "stdout",
     "output_type": "stream",
     "text": [
      "step = 16000: loss = 96.95709228515625\n"
     ]
    },
    {
     "name": "stdout",
     "output_type": "stream",
     "text": [
      "step = 16000: Average Return = 200.0\n"
     ]
    },
    {
     "name": "stdout",
     "output_type": "stream",
     "text": [
      "step = 16200: loss = 1974.1376953125\n"
     ]
    },
    {
     "name": "stdout",
     "output_type": "stream",
     "text": [
      "step = 16400: loss = 203.4429931640625\n"
     ]
    },
    {
     "name": "stdout",
     "output_type": "stream",
     "text": [
      "step = 16600: loss = 254.4991912841797\n"
     ]
    },
    {
     "name": "stdout",
     "output_type": "stream",
     "text": [
      "step = 16800: loss = 237.65127563476562\n"
     ]
    },
    {
     "name": "stdout",
     "output_type": "stream",
     "text": [
      "step = 17000: loss = 1236.594482421875\n"
     ]
    },
    {
     "name": "stdout",
     "output_type": "stream",
     "text": [
      "step = 17000: Average Return = 200.0\n"
     ]
    },
    {
     "name": "stdout",
     "output_type": "stream",
     "text": [
      "step = 17200: loss = 2782.07958984375\n"
     ]
    },
    {
     "name": "stdout",
     "output_type": "stream",
     "text": [
      "step = 17400: loss = 469.6650085449219\n"
     ]
    },
    {
     "name": "stdout",
     "output_type": "stream",
     "text": [
      "step = 17600: loss = 7143.4326171875\n"
     ]
    },
    {
     "name": "stdout",
     "output_type": "stream",
     "text": [
      "step = 17800: loss = 15037.6240234375\n"
     ]
    },
    {
     "name": "stdout",
     "output_type": "stream",
     "text": [
      "step = 18000: loss = 4602.244140625\n"
     ]
    },
    {
     "name": "stdout",
     "output_type": "stream",
     "text": [
      "step = 18000: Average Return = 200.0\n"
     ]
    },
    {
     "name": "stdout",
     "output_type": "stream",
     "text": [
      "step = 18200: loss = 264.796142578125\n"
     ]
    },
    {
     "name": "stdout",
     "output_type": "stream",
     "text": [
      "step = 18400: loss = 236.1230010986328\n"
     ]
    },
    {
     "name": "stdout",
     "output_type": "stream",
     "text": [
      "step = 18600: loss = 2736.951416015625\n"
     ]
    },
    {
     "name": "stdout",
     "output_type": "stream",
     "text": [
      "step = 18800: loss = 239.957275390625\n"
     ]
    },
    {
     "name": "stdout",
     "output_type": "stream",
     "text": [
      "step = 19000: loss = 534.1686401367188\n"
     ]
    },
    {
     "name": "stdout",
     "output_type": "stream",
     "text": [
      "step = 19000: Average Return = 200.0\n"
     ]
    },
    {
     "name": "stdout",
     "output_type": "stream",
     "text": [
      "step = 19200: loss = 391.1002197265625\n"
     ]
    },
    {
     "name": "stdout",
     "output_type": "stream",
     "text": [
      "step = 19400: loss = 352.6400146484375\n"
     ]
    },
    {
     "name": "stdout",
     "output_type": "stream",
     "text": [
      "step = 19600: loss = 232.7955780029297\n"
     ]
    },
    {
     "name": "stdout",
     "output_type": "stream",
     "text": [
      "step = 19800: loss = 140.59347534179688\n"
     ]
    },
    {
     "name": "stdout",
     "output_type": "stream",
     "text": [
      "step = 20000: loss = 22495.046875\n"
     ]
    },
    {
     "name": "stdout",
     "output_type": "stream",
     "text": [
      "step = 20000: Average Return = 200.0\n"
     ]
    }
   ],
   "source": [
    "#@test {\"skip\": true}\n",
    "try:\n",
    "  %%time\n",
    "except:\n",
    "  pass\n",
    "\n",
    "# (Optional) Optimize by wrapping some of the code in a graph using TF function.\n",
    "agent.train = common.function(agent.train)\n",
    "\n",
    "# Reset the train step.\n",
    "agent.train_step_counter.assign(0)\n",
    "\n",
    "# Evaluate the agent's policy once before training.\n",
    "avg_return = compute_avg_return(eval_env, agent.policy, num_eval_episodes)\n",
    "returns = [avg_return]\n",
    "\n",
    "# Reset the environment.\n",
    "time_step = train_py_env.reset()\n",
    "\n",
    "# Create a driver to collect experience.\n",
    "collect_driver = py_driver.PyDriver(\n",
    "    env,\n",
    "    py_tf_eager_policy.PyTFEagerPolicy(\n",
    "      agent.collect_policy, use_tf_function=True),\n",
    "    [rb_observer],\n",
    "    max_steps=collect_steps_per_iteration)\n",
    "\n",
    "for _ in range(num_iterations):\n",
    "\n",
    "  # Collect a few steps and save to the replay buffer.\n",
    "  time_step, _ = collect_driver.run(time_step)\n",
    "\n",
    "  # Sample a batch of data from the buffer and update the agent's network.\n",
    "  experience, unused_info = next(iterator)\n",
    "  train_loss = agent.train(experience).loss\n",
    "\n",
    "  step = agent.train_step_counter.numpy()\n",
    "\n",
    "  if step % log_interval == 0:\n",
    "    print('step = {0}: loss = {1}'.format(step, train_loss))\n",
    "\n",
    "  if step % eval_interval == 0:\n",
    "    avg_return = compute_avg_return(eval_env, agent.policy, num_eval_episodes)\n",
    "    print('step = {0}: Average Return = {1}'.format(step, avg_return))\n",
    "    returns.append(avg_return)"
   ]
  },
  {
   "cell_type": "markdown",
   "metadata": {
    "id": "68jNcA_TiJDq"
   },
   "source": [
    "## Visualization\n"
   ]
  },
  {
   "cell_type": "markdown",
   "metadata": {
    "id": "aO-LWCdbbOIC"
   },
   "source": [
    "### Plots\n",
    "\n",
    "Use `matplotlib.pyplot` to chart how the policy improved during training.\n",
    "\n",
    "One iteration of `Cartpole-v0` consists of 200 time steps. The environment gives a reward of `+1` for each step the pole stays up, so the maximum return for one episode is 200. The charts shows the return increasing towards that maximum each time it is evaluated during training. (It may be a little unstable and not increase monotonically each time.)"
   ]
  },
  {
   "cell_type": "code",
   "execution_count": 33,
   "metadata": {
    "execution": {
     "iopub.execute_input": "2022-05-07T11:12:44.217240Z",
     "iopub.status.busy": "2022-05-07T11:12:44.216847Z",
     "iopub.status.idle": "2022-05-07T11:12:44.405941Z",
     "shell.execute_reply": "2022-05-07T11:12:44.405222Z"
    },
    "id": "NxtL1mbOYCVO"
   },
   "outputs": [
    {
     "data": {
      "text/plain": [
       "(21.814999198913576, 250.0)"
      ]
     },
     "execution_count": 33,
     "metadata": {},
     "output_type": "execute_result"
    },
    {
     "data": {
      "image/png": "[encoded data removed]",
      "text/plain": [
       "<Figure size 432x288 with 1 Axes>"
      ]
     },
     "metadata": {
      "needs_background": "light"
     },
     "output_type": "display_data"
    }
   ],
   "source": [
    "#@test {\"skip\": true}\n",
    "\n",
    "iterations = range(0, num_iterations + 1, eval_interval)\n",
    "plt.plot(iterations, returns)\n",
    "plt.ylabel('Average Return')\n",
    "plt.xlabel('Iterations')\n",
    "plt.ylim(top=250)"
   ]
  },
  {
   "cell_type": "markdown",
   "metadata": {
    "id": "M7-XpPP99Cy7"
   },
   "source": [
    "### Videos"
   ]
  },
  {
   "cell_type": "markdown",
   "metadata": {
    "id": "9pGfGxSH32gn"
   },
   "source": [
    "Charts are nice. But more exciting is seeing an agent actually performing a task in an environment. \n",
    "\n",
    "First, create a function to embed videos in the notebook."
   ]
  },
  {
   "cell_type": "code",
   "execution_count": 34,
   "metadata": {
    "execution": {
     "iopub.execute_input": "2022-05-07T11:12:44.409305Z",
     "iopub.status.busy": "2022-05-07T11:12:44.408824Z",
     "iopub.status.idle": "2022-05-07T11:12:44.413281Z",
     "shell.execute_reply": "2022-05-07T11:12:44.412669Z"
    },
    "id": "ULaGr8pvOKbl"
   },
   "outputs": [],
   "source": [
    "def embed_mp4(filename):\n",
    "  \"\"\"Embeds an mp4 file in the notebook.\"\"\"\n",
    "  video = open(filename,'rb').read()\n",
    "  b64 = base64.b64encode(video)\n",
    "  tag = '''\n",
    "  <video width=\"640\" height=\"480\" controls>\n",
    "    <source src=\"data:video/mp4;base64,{0}\" type=\"video/mp4\">\n",
    "  Your browser does not support the video tag.\n",
    "  </video>'''.format(b64.decode())\n",
    "\n",
    "  return IPython.display.HTML(tag)"
   ]
  },
  {
   "cell_type": "markdown",
   "metadata": {
    "id": "9c_PH-pX4Pr5"
   },
   "source": [
    "Now iterate through a few episodes of the Cartpole game with the agent. The underlying Python environment (the one \"inside\" the TensorFlow environment wrapper) provides a `render()` method, which outputs an image of the environment state. These can be collected into a video."
   ]
  },
  {
   "cell_type": "code",
   "execution_count": 35,
   "metadata": {
    "execution": {
     "iopub.execute_input": "2022-05-07T11:12:44.416196Z",
     "iopub.status.busy": "2022-05-07T11:12:44.415693Z",
     "iopub.status.idle": "2022-05-07T11:12:54.363650Z",
     "shell.execute_reply": "2022-05-07T11:12:54.363024Z"
    },
    "id": "owOVWB158NlF"
   },
   "outputs": [
    {
     "name": "stderr",
     "output_type": "stream",
     "text": [
      "WARNING:root:IMAGEIO FFMPEG_WRITER WARNING: input image is not divisible by macro_block_size=16, resizing from (400, 600) to (400, 608) to ensure video compatibility with most codecs and players. To prevent resizing, make your input image divisible by the macro_block_size or set the macro_block_size to None (risking incompatibility). You may also see a FFMPEG warning concerning speedloss due to data not being aligned.\n"
     ]
    },
    {
     "name": "stderr",
     "output_type": "stream",
     "text": [
      "/tmpfs/src/tf_docs_env/lib/python3.7/site-packages/imageio/plugins/ffmpeg.py:727: DeprecationWarning: tostring() is deprecated. Use tobytes() instead.\n",
      "  self._proc.stdin.write(im.tostring())\n",
      "[swscaler @ 0x561c2ab733c0] Warning: data is not aligned! This can lead to a speed loss\n"
     ]
    },
    {
     "data": {
      "text/html": [
       "\n",
       "  <video width=\"640\" height=\"480\" controls>\n",
       "    <source src=\"data:video/mp4;base64,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\" type=\"video/mp4\">\n",
       "  Your browser does not support the video tag.\n",
       "  </video>"
      ],
      "text/plain": [
       "<IPython.core.display.HTML object>"
      ]
     },
     "execution_count": 35,
     "metadata": {},
     "output_type": "execute_result"
    }
   ],
   "source": [
    "def create_policy_eval_video(policy, filename, num_episodes=5, fps=30):\n",
    "  filename = filename + \".mp4\"\n",
    "  with imageio.get_writer(filename, fps=fps) as video:\n",
    "    for _ in range(num_episodes):\n",
    "      time_step = eval_env.reset()\n",
    "      video.append_data(eval_py_env.render())\n",
    "      while not time_step.is_last():\n",
    "        action_step = policy.action(time_step)\n",
    "        time_step = eval_env.step(action_step.action)\n",
    "        video.append_data(eval_py_env.render())\n",
    "  return embed_mp4(filename)\n",
    "\n",
    "create_policy_eval_video(agent.policy, \"trained-agent\")"
   ]
  },
  {
   "cell_type": "markdown",
   "metadata": {
    "id": "povaAOcZygLw"
   },
   "source": [
    "For fun, compare the trained agent (above) to an agent moving randomly. (It does not do as well.)"
   ]
  },
  {
   "cell_type": "code",
   "execution_count": 36,
   "metadata": {
    "execution": {
     "iopub.execute_input": "2022-05-07T11:12:54.367515Z",
     "iopub.status.busy": "2022-05-07T11:12:54.367038Z",
     "iopub.status.idle": "2022-05-07T11:12:55.138657Z",
     "shell.execute_reply": "2022-05-07T11:12:55.137858Z"
    },
    "id": "pJZIdC37yNH4"
   },
   "outputs": [
    {
     "name": "stderr",
     "output_type": "stream",
     "text": [
      "WARNING:root:IMAGEIO FFMPEG_WRITER WARNING: input image is not divisible by macro_block_size=16, resizing from (400, 600) to (400, 608) to ensure video compatibility with most codecs and players. To prevent resizing, make your input image divisible by the macro_block_size or set the macro_block_size to None (risking incompatibility). You may also see a FFMPEG warning concerning speedloss due to data not being aligned.\n"
     ]
    },
    {
     "name": "stderr",
     "output_type": "stream",
     "text": [
      "/tmpfs/src/tf_docs_env/lib/python3.7/site-packages/imageio/plugins/ffmpeg.py:727: DeprecationWarning: tostring() is deprecated. Use tobytes() instead.\n",
      "  self._proc.stdin.write(im.tostring())\n",
      "[swscaler @ 0x5558c4e7f3c0] Warning: data is not aligned! This can lead to a speed loss\n"
     ]
    },
    {
     "data": {
      "text/html": [
       "\n",
       "  <video width=\"640\" height=\"480\" controls>\n",
       "    <source src=\"data:video/mp4;base64,AAAAIGZ0eXBpc29tAAACAGlzb21pc28yYXZjMW1wNDEAAAAIZnJlZQAAKUZtZGF0AAACrwYF//+r3EXpvebZSLeWLNgg2SPu73gyNjQgLSBjb3JlIDE1MiByMjg1NCBlOWE1OTAzIC0gSC4yNjQvTVBFRy00IEFWQyBjb2RlYyAtIENvcHlsZWZ0IDIwMDMtMjAxNyAtIGh0dHA6Ly93d3cudmlkZW9sYW4ub3JnL3gyNjQuaHRtbCAtIG9wdGlvbnM6IGNhYmFjPTEgcmVmPTMgZGVibG9jaz0xOjA6MCBhbmFseXNlPTB4MzoweDExMyBtZT1oZXggc3VibWU9NyBwc3k9MSBwc3lfcmQ9MS4wMDowLjAwIG1peGVkX3JlZj0xIG1lX3JhbmdlPTE2IGNocm9tYV9tZT0xIHRyZWxsaXM9MSA4eDhkY3Q9MSBjcW09MCBkZWFkem9uZT0yMSwxMSBmYXN0X3Bza2lwPTEgY2hyb21hX3FwX29mZnNldD0tMiB0aHJlYWRzPTEyIGxvb2thaGVhZF90aHJlYWRzPTIgc2xpY2VkX3RocmVhZHM9MCBucj0wIGRlY2ltYXRlPTEgaW50ZXJsYWNlZD0wIGJsdXJheV9jb21wYXQ9MCBjb25zdHJhaW5lZF9pbnRyYT0wIGJmcmFtZXM9MyBiX3B5cmFtaWQ9MiBiX2FkYXB0PTEgYl9iaWFzPTAgZGlyZWN0PTEgd2VpZ2h0Yj0xIG9wZW5fZ29wPTAgd2VpZ2h0cD0yIGtleWludD0yNTAga2V5aW50X21pbj0yNSBzY2VuZWN1dD00MCBpbnRyYV9yZWZyZXNoPTAgcmNfbG9va2FoZWFkPTQwIHJjPWNyZiBtYnRyZWU9MSBjcmY9MjUuMCBxY29tcD0wLjYwIHFwbWluPTAgcXBtYXg9NjkgcXBzdGVwPTQgaXBfcmF0aW89MS40MCBhcT0xOjEuMDAAgAAAAgtliIQAL//+9bF8CmrJ84oM6DIu4Zckya62IuJtAMAAJUAAAAMAAEsmUJbMgHJl3QAAAwBMgA4ofQZQeYiYqxUCVEg4trLSgAfhgXkePR1aMI361JEp4g12PQIhj/JBpNTSoDzDpa/+s9aTYd+sotuaRmNpdNQQxHoezYfFtn4qifGPYgH+HIafMrq9sJ2Qx9PjpF6EhWsshKJ1e6w4NGKdi/YIqtqqYtp3QDG+T/rz/zZTk/aXQ8/xqq8EUYGSP3lDXXNNLIdknIZZGxaKgMP8ggGtfwiF95JBFvy6fro77aWr/a6ifqcYALljXLyzj8eD6rOipmLDlQGLZ3VTo9WwSelZBUANgnPnj/MvkvdJ4VIE9lUQWlt+8y30inD/8ciffqyUKcFL5D7i6wfIjGRSWaUC+zYHcWpQeyc6k5/DSpHM6s4lws8osPsrLqOqYd9HELhMLpYqhduxG2WEcS+8cv9R3F3HQmFHuUuDzX8NinuRpEUtY50vkB4gNAJE66m7DEUjYzZ3J+9UOtjD44hnCEe7xtIt2piVf/QF25G/xUGUYjV/pfo7G6ju4+FW9pd5G6g69TJ55WI8TN1LyJmYAApDu0n/S85xNhDxLsIQEp53lLfh32QjOYOBafN+BqPqJWsLnTDdWW31JuZ2YcGJHv90+Ua654ABrQAAldcgAAADAAADAAADAAGJAAAAlkGaJGxC//3xAAADAqO6uBHjgy9vnqhIop1+97Z6atZ7WrZHFwdiZr00TQBOYZYo+OSz0UVoJzTJB5Z8H/8q3I1EM9OJJtfuTMVnEd1ho8BmRKag8T4RT6rP8duUdvQPC/slAcSWVyxQQGfhl/bZKPPr5PsNwxmj1mzlFlyUxS06mWETHb9e0rabFKA1hmg4CRiZIybV4AAAAChBnkJ4hX8AABa+S7A5FM/yzIqGwdR/HEBkv3roAxXKvXVtDjPJr5LxAAAAFAGeYXRCfwAAAwCxC28yWw5t2cNgAAAAMQGeY2pCfwAAI7HMAAcSHKZ0tWgXXobrZtiv3hQwncWgnhxfXS2BtbtdLFfXnq3hIK0AAADvQZpoSahBaJlMCF///fEAAAMCnvbYdWGZunIwBzDAHkrBYvUmJN8n4AfID4lblqLk2JeJzu4KZY/9Rj8GWF0lHC261XRl77M4E2LjxRl8ur8xsTiV71jbCEigt8Ng87qW3JY/HGIx/8VwrkKxt8aWRn80NMENx7J0fdeVLtHpjvad0bcRm20UngSYzcvxyoQYUGF2GYsFNIIjWEvzSr+2tQ3qZNJgojV2MMv0/F/UZ54gSJ3fMM7ft1CARHq4HP6BVBhjodTTaZCa3Om9lv7xqmIW8lAB7Qma0oZFLlU3WX4gABlltTGth3hIlB3FZUUAAABOQZ6GRREsK/8AABbAnB1rQol1ypYK6pBe5ACenLjszLSOY3/36/h4CJvSsssSuvCtc5geG4lrhET15pWAIrBfZ7Yo8idbUYopjk/REjKBAAAANgGepXRCfwAABRtV3dt2UgAUGw2SEhVPGRq3oSNr09h1sc+sBWv5P0RmQX+pZ1GE3/tIR6nBWQAAAEUBnqdqQn8AACO9gy7PTR2j6fROuneZW7bJfp3Fa9ACNmpQQsGvQNas0DpLb3Xc4s0gEWKmxxTuz7rIjsmrobuFZka9BvQAAAEEQZqsSahBbJlMCE///IQAAA/Thm41IFR00aDMn9yjJSMHLTEMPyiVSM1Lj6uZ1skWzi7tJxP387+4NY5vGuZJk1tqAOWQuj92dv7NSRO/yyjOQATWua3ZzlQ/iwRs1ASMmPEtA95SOKnsnMUWBMb2jgCxSnC6PX37rEil6Rq5KljMtxWYWJMD8F6aOFz12q3swx37G8VoJjww0677qxKoIlxQ6q8MTKCB9kB+Wbz1DKXfZ30OQkugPs/RPyaD4A9JQTlbKZxc19y1nwcPNJG39GeYduYalZMS20jFuwcvLHHZn0igmDdUHB0iNIvKsc53KP03PNJtq8eXSNd6Kmc+WIVkWfAAAABYQZ7KRRUsK/8AABazXo2OW/0MOKvN1+3++Q/+SDyntvQpSLoQtVf2iyP207FgDpAi5PlMsXRyZ2GkAqs1wtbx7IARDCyRQCFibgeXGmT4SDjppoyUECGFQQAAADcBnul0Qn8AACOp55j9cSuFt2EODoX5pCuqUNujn5px2B0QqkYCoZmvm7VAJMIS4Z47QdcwkldwAAAAOwGe62pCfwAAI652K5R0Zov/5IOdvgaYC7eq5dDUVbNv4j3FqfEBvalAuDkRBNGrFoqdm2Y1ip8sGjjgAAAA8UGa8EmoQWyZTAhn//44QAABDU7NRuyWcA1dd+FI/hyuS19QwCoEuQOt0RftGn4Qys81EHAUiPD0VGp42IBJarrV8OCq/eJp1EsJ3FLaXHpGs7UC3Q2cxtLRK6J8Msvf73xLFVy1MdIqAs5gq2ZXB68gwO2R4nzZw4AUep2M3N0XdcA6l1bzsgYNpwNcJJXy6oUbPC6NTqfG7O2LkLxLiIssmlmnTpKlU4CpQ/BxeUtpE78guKCYVX75+dFe7GDemkGbjq71/9At9bqR4HLaC+Hqd+g++97Xn5z6ajNaJwTDbgwDK0FMSYPCF1kzxXop2WUAAACUQZ8ORRUsK/8AABa7YqjH6L/2w23p3/sIASTZPSJq0yq8C2mqRCoM5WqxhP1zh2zM6sbelt/OiOqNd+QwBamrVEchd7uu8uVObpx/qfyQNSQ1UxdUs7Zy0HXRIkdbuw1o5u3L47Gzz3dfTsWLloD4EEKOAyMknQXhoQ7OAlI7sN0vaGWAK4YxIGxFud+msfExyeF5UQAAAF0Bny10Qn8AACOwlLHQYNzQHvVDoeIACw1lwWyWCYCA/G1Zj1c2g0Cjfg7Z/Q0PN/6rnK4E+IKGK+LRLCwIjHNQXJC1yaTwRVDKqB4OHwQAJn8L7vFeVAzgOKvNqkEAAAAiAZ8vakJ/AAAjscwJbY389i1kl9WWJkg7ffxFDowCx7+ggAAAAD5BmzRJqEFsmUwIV//94QAAAwF/3/bAg4Z90z+W6KIq6NAEWZTdlFNA4yHI9+qejK+jO+E39kFH32fwrtsLMAAAABxBn1JFFSwr/wAAB/AHs5n0A9BCZUQDOriNuqLbAAAAGgGfcXRCfwAADN4Uo3b/DuYl4tAMy10IgsWAAAAAEAGfc2pCfwAAAwHxf+KAZUAAAAB9QZt3SahBbJlMCFf//eEAAAQTc32ZB7Lwj0ZxsiyeD9UK6oqxUC40WX6qhSnb0ShzTdNkhodqiz5Z8etN6g14FwHfJIPeF2Do27QOWOZJGUYkqGbzGG5yqcVpcVHkmEe1Qv2OVHe63WLUIfseOzPLCVqI9hZb+BiIysDTPrsAAAAwQZ+VRRUsK/8AABa8Q80ikDKgQci9GrjVMVpuIO4s2Z+iLV2TOJ2uTp8HOSRldrtgAAAAMgGftmpCfwAAI78EJxLKzrg0AK30++UUYsdQ5NkxafekhpkHoXPHWdiK10/wOMknBtsxAAAAtkGbu0moQWyZTAhf//3xAAADAqCscotnkeAKDCPUGy9TTn9JaJvVRsAO6Y1nTOSy68e6i5yNFW3/DUtPA5PKLUPUnxXdcnIRghN24GmX+qE9abL4pkcPjsu8CXVUXQzteQN0CkSjI2H78+YZIuGQWunwFiqh8wrTgewdT7igsV6ZuxeSS0IvAjJcsiZbabjWC16CgLqwl/jCZ6ZAmC759Xu4fwGJU7d85yEUVTC8xpUxpeZnGE0LAAAAQEGf2UUVLCv/AAAWu4qUZI4QcALbuJf1HM7562xHySxSUii+0KY86lkSfaC7+rCpcLzUwj4XnSO8sREVF9monBYAAAAxAZ/4dEJ/AAAjwxdosjqcYAC26vOTiANvwv8LIryxmaWaSjD2wlty6k28gPZEh6EPPwAAAC4Bn/pqQn8AACO/BCdfJmyaL3eS7WHtkuhyVMw9DDZBxrcqmq4iUxA9ERtAXv58AAABAkGb/0moQWyZTAhX//3hAAAEFkerLq8AmkJs4OeF90l34+bXHH4BGy1NQVm084rVsw0T2iEKfTAcXPUTkS2kOcaSLRZOq0Uv8G5AuC82BvULg9n/FA9ma5kdbkGkEIcZUdjU9QaUG2jT9+bK6kCX+71PBmHoWXWYp36q/mdeeyEuCaBYd66B2AeuEtdBnnD3DnlP70bdppHLatvS6F0PkwS4mg5/PLzAfWtCnLYT6nIXRiHaHqp4ztdTGhBhj4SEtRuSl8oBP7r65VIpysx5Qx18OlWlSmx4Q4BElBecxd0LfiJgAQAAtVSyNW7TOUsd397EounCZml6Vn/yaJUz5YMCMQAAAFhBnh1FFSwr/wAAFruKZi14gHI731Js8sUjHkQcwkvhtFE/FTTtq412qPF0+3DFKpDsLRLXVI3Rt/g+SwAEj8nRd+PypmjVntDWf1dzMhf8xSKkqF6aRfM/AAAAPAGePHRCfwAAI6v4W3pE5FUW/oyGKtCDn1FofAqXS10yWri0JSrOuS6wdhtDT2ewvahAiqgemkoOyiMFgAAAAEABnj5qQn8AACPHCBTHpEp4U5AWh54wJTJB1WhbDUxCPgqJxylg9iaKQWac1b6AUC6yVqgA2gu5nEuVfi6htpE4AAAAyUGaI0moQWyZTAhX//3hAAAEO6JrjRmrwh87gdH6qqIMaCtV31snahEtEW6xCCaxotAwHignJIJ69MZTXA3LJdiwdNP01uXR2oG0XGL/auLRV46ita8dzGVEUOXjmwgK7EGmISszTaD2YpA4M++xISQRhp80S1Tj+4S4yvJh6E3IeoerjSZrPPfMUWsGqBdR7RBE+sNse66Bbt0at85ktRWA/Fa11qG1qKlWq5/kk7ldLjnWL+GouFYxwG7bIg6Os2nMIxOarZudQQAAAGBBnkFFFSwr/wAAFrIIw8MhfIzS1nvf+ePXFE0HNVLWBvDE1TDWJBb+BqBlKAqf4XnjVnrx9dHbG55OAAWy8iacZ82AkMBaO+4JDAQuv2nDP4cPjluSg4uAgpoUMHH+ifAAAAA9AZ5gdEJ/AAAjO4qDFapgWDrb7wrkYtCmBWviDKWQfxpk9uhZ464ySs+kY1eVZSxbp6Xha5IsQPFpz21Q2QAAAEsBnmJqQn8AACOeFHHGL/Gzv3yqjAWmYpTc7IiWmWBIJnMCtDP0Lw3Sd9PgYVv3bcbv8s/Fkp/FS2xshW3d/SxAeMl4fmqBJZq2zYAAAADnQZpmSahBbJlMCF///fEAAAMCtewy+wxzvwIlt9E1xHjJuOAIiFZJhrVjoBfi/ucO76fLB2HLkYifWqzcLN7MR31xJHjgCtF0AC2hjxDors6NABC0YLygOFtPZO5heJniL6Pxjj9BtikYfYkwZkNcwjpCiW+hV2/kGchlSRGY9P9So4jQEZvFNJ3yM1RwoQyYjlsJinLh5x7+Z1phKqu58H2a0cMKIygckmk/8WoJP7mFyn20mmwYBV1jME2fjMKeejoT3CJJyOrBmh2CQAoTB2LBKFfDBOTA8JAE1K+pTtvWxNa8I0h5AAAAK0GehEUVLCv/AAAXRSrHmZjBtp/eTYMoAf+O3fmoc7B7PdaomtHWBWKOX8sAAAASAZ6lakJ/AAADALFmqjeGsHrBAAAAb0GaqkmoQWyZTAhn//44QAAAZPFQ+BDU8D9Q0Nv+3eTI/TIyz7T3+dBCfUWsiHHf3czXU+jTaJjRnOkMc10dS5lSI/HVeXv/h4cEah0o4NsjNFbbnZPXxBS3Ql5mpdRzjs7EZ7Homrqk75XxqHl6AwAAAD5BnshFFSwr/wAAFrtJQV/FTkb3ajTJoBqAOYFyRRJQpzFLBuRis5+tKGXjbFyk7FMFJ4+CuZ8q6GL4jDMN6AAAACEBnud0Qn8AACPDF2ikOrcdqUJ1QeppQ/HtoKkQCSUG/KAAAAAqAZ7pakJ/AAAjvwQkxpyLSVZduDoyxlBy/9BXWhKACC4ZwdTAMyHztKlRAAAAmkGa7kmoQWyZTAhf//3xAAADAp+6ddsQppBRAE0LBg09juNzm27eofg095jf5Wu5liPUPDB8/jLiHC4IgmpjQ5OkWjMgjgfiDldI/rB9PYlS3MnCe6jIwG13SP0lkxgVTRp0q2sRl94LBWvvNgK1zinJzbd1ZE8uaZ0TogM9dyVubQzerQMq/pkjcEHUgMRrggsi1OIQrMH8WkAAAABJQZ8MRRUsK/8AABa8E6uK3P8t0i1ADdaxellm2jZiiz7OdNkp+hhIzooewCr3Qo2t8V6bey6uyrMXfQnGwK/b+Ox8/Ofj4ZOmgAAAACwBnyt0Qn8AAAUfto+iHPedCrcWd2nxFvci7wBOCkwXlAstcYh6G4wsqlLpoQAAAD0Bny1qQn8AACOxhZ/aRiyOSdmjz3Ml6AB/VMRzVx8ze50SXY/ygWzlUK4RXmx2pM0v4fbIU+PEbdP/xmhtAAAA7UGbMkmoQWyZTAhX//3hAAAEFzOEJB7wH+YHbueU+/4h01yxEH6kNuh7nMpj1/8XKQY8QUgUKCpjTJGzDU0/uEv9hCsSA4Otpn7yP27IGQ5I8F0prE3VcIv4k1a5CONUctkyiEN53FLvh/OWypGZA/sr2G9J+E4cQVHiJ7PnychESYVTvySfhW7ESLn9oMFCBwGk+Z/Dets/aGHwk82qyebAEqGR99goBXzJa5zjraUlcY8RoFvwHMf4wFN4mefwHhiktxGSKeArOrwORdehyEz7qwcNmQ1XFniH3uqnfRGmotsReXeXtS7IywYpQQAAAF9Bn1BFFSwr/wAAFruSkNqGZf/yEiAn7FLOKyAEYOBg5GzqCVHPJaeaX9svvd2MDStZ1kJKi0ch3z1IYFlDluId1YuWzkfU6Vamdjf2eN3iKYHnOzWOvM3HHsqWw1z3AgAAADYBn290Qn8AACPAmd3oSAqn3dS5gG+0wU8tH/9JrbEVgGgNB1a/TD1v4qAFfoqPtd4XmeNHKVsAAAA+AZ9xakJ/AAAjxwqVl9qV+FznsRjDFWSjdty7npA1b1+qJVqqJGBXSXCqZQau5S042BmVmP6mhHKed+ZZE+EAAAC8QZt2SahBbJlMCF///fEAAAMCn+74Kc2ASkwEdtURrnawVIAgrXOccCPZyJWc2kgSKBJnrKtUsf5FhjdRvgB+S+497hzBh2Ef2qpe1f5S7rsSBSyg2pUed0HawkHKWt+o6VXa7QyI7R7hs6hzZZpt3TslFoMESqwW8/sKVjtA/CwoRgH13Tq5lMYs56Ao8+cErc5Z+8ptZp+sY08HhUzx1Eblms35LdxQrenJv8ZtbYUMQJmB2pzTx70HNIAAAACuQZ+URRUsK/8AABa7JOxVgrOuB4PQS4wT0cjShHwuJQWloAFs6isF7S6ldEi/hLjeaJyXkDlkdujd4loZ8WsOoR72V+es5RJMsZmporStbDYpp4YLzIOx0XsRWjOGgC3hjBOaHHAMv6p2WJfgDQfGGF252ZTDiEWH+ZZ8nPt9OWRXIFK7aIJ2Ly4iOGEk7btHM02DCoU8zqetXoMQQBkPfG/QIDPOMj0NxlcSlMowAAAASQGfs3RCfwAAI7/5TCDLsp61dlde/UuRBT2/CpqgXhjaJT0T0mhL+o8jgLBfSv++OZvTC+fyubs6jT0kz12s+pJj0laR9wTiG0EAAAB0AZ+1akJ/AAAjvNHtJw2tE2N6PmUALO4lK+c82J9ft5Fx/GCoC3za+1QFhoayu7MS0vHPpCcjtuQZ7FDK1GjMp/n2zdsJCnt/USGRa4WY5VLMluMkmvM98zYUFJGgRVNKX+Zf8J+dCMeTu9Nxb+i5YC4vDMAAAACTQZu6SahBbJlMCFf//eEAAAQTc0Tnlo0a5427RE8SpRoRk8rO3F5fXPFiSeAWPgqztXnOxRd06UJqay/axj9VkU5THVVohW2YMXGah3vB4C30n8bCZ8XteluphKburmCu744y5wd3nVSj/tbUR5fgt+/vSooghC3QINxFenY/6B14oTylw/SQQy4nMQuebPfAv85BAAAALkGf2EUVLCv/AAAWvEPNz+BlYehBe9XQZhOUlbCe7QQ6HHnr4MzH81eEF9JrgsEAAAAZAZ/3dEJ/AAADAAo4ygXsKFjKwjFLjeumUAAAADYBn/lqQn8AACOxzA1n/rcV2ZdntiuTNQQKb3doUTf7/1oDEv8JP8V+2DBEtyqipBBmBzjqQ2EAAABeQZv+SahBbJlMCF///fEAAAMCn8mTlDyQNaLII2me5K+zpXhfu0D4kx+OJx12Uw0cDsU8lNoAUUNuXgRz/PuRo5WgLxFkB/8ECsyzsyFXr3jZpHjA4+LjFjbcBwaT2gAAADRBnhxFFSwr/wAAFrUrOLCjBatPo3z1XJ6msC4p+UGuQfQ4mPNLugN1cUu0bqRO9USS00VhAAAAIgGeO3RCfwAAI8MXaKmlU9T8h5vF1SRqyGtvVyJqBjpC29EAAAAoAZ49akJ/AAAix8iXyVplkTC5q/gz6rxM+TuPtkoIBoJFjbRrYoCtgAAAAB1BmiBJqEFsmUwUTCv//eEAAAMAAG73/buS0r5sqAAAABwBnl9qQn8AAA2HjcLtFPLJHaW+dZUTLYXot9q/AAAAukGaREnhClJlMCFf/eEAAAQTeCU0mTbvAEgSNH8mXoAH5Wh4DCLZhXYl00fFrqDRoQj5WWr4oMcsdRGOPgdHMlhypnJEQLwUYZYGEogTqUTksyK4H62C8hZ8YijWiMcfrihpVx1/zuHSUGt73iPLTQEvbxVoCkProCPgc8AfZURIbRsy9Kgc3DcubRDs42ux+uOAVj1Yh7+3U8D392rNGDfkZ/B9QsRBdgLakIP/ruRAuWjUt9MbFe//gAAAAD5BnmJFNEwr/wAAFrxDyo6GEH33l8gFzmF0qdLXteh40efgCOwnONV+IP6vLWXwliNdmXz9EFNMLNmRktQSCwAAADoBnoF0Qn8AAA0vRRbM9PCG5NwARkAeLqpy1NrOvguqJjc2FWvCHBBHTnNzwRdjzyg4tc7VACXVqwTYAAAALAGeg2pCfwAAI7HMCW8/tsXso5ICu7osO2et1QfdjTwQPD69+tmgtiPU7cYLAAAA0UGah0moQWiZTAhX//3hAAAEE14Rl0sdVKgfyEd4cptCFhJpach3aV3fJKXqwrTdMu+YL5/5BuKHmCcYflNgWw0im5Jgv0+Ayu9bcL/2B53G+9mXPKWukKx5QqXsQbiTudDq8RpjNVkJGX64zOBGTGE7LA2Uefco0zIDOpGBeWQKpHc3IUZIB++Y6qnNC7z/nnGCepDHNnp3NQcUtcruYMTXq63dhLV+9EIznEZKAOPJET1bHkhQQvRXb9nkS12b+qwRs/85UbOgId3ZCjgoHvGJAAAAPEGepUURLCv/AAAWu5RUsYQsw9HRSD/je2ERgQG2kFN+CfZlGp46es2/Lqi49rm/Q9tTmcKMd54HfsQUEQAAAD8BnsZqQn8AACO/BCdhwIBcIF1igSQrjDHiLKf5eP9EhNL/uS1aVNz5u2VkandVm7glnxAUQAlIgd4c/WpKo2cAAAECQZrLSahBbJlMCFf//eEAAAQbomoI4Jgmw0TjoDN7kuudg9rJCnnfivQscyKr79+ZHhmSSxqxHRaBkEgaGJUno9f6ZnncDeJ94kPqfuo8GdBSn7HcfhdtKNg72vl17pOec90rxQIpD4oGJPVgJMiFzId8/mqaP4NI4coFZvnuyaREGd398GUoKEVOuUYn9RTTSn5R5sbFky3M0qZB7pVjANt1iQsQ8TYie+qCSkFm4HtATHoaJxrrvkVy8SDlyUtXdJKrX7PDGExP3Ps1l2dpUtu5MM40gX0itn3A0iYTAGYlDn/1OMvG0p07RpiB0jk3W0qQd+2JX0PtBus6EDV3WAdYAAAAhkGe6UUVLCv/AAAWtTbOKTZPR8B9IfBZPo924gBCR14/JhnRY3eMhD7vY6r7b+nbOhdE6KDYHiKHIIZqJ2sZsqnoFy0jQw86NE/5kp2yWYQAl22gMyWPwQi/Zx3UlsMLvalYMwxIC4/cxiqZjEoxIwx/pYvNpp/zVYR6fCPuYk92ehkEiBZgAAAATAGfCHRCfwAAI6wUQJ0wfTg9DJCFjq4Z5NC24GXMG0Wj79XJF1HJw2QNVvGIo9BsFSEkK/Yi12hjyGb9xi188sWWb5nTXMu5lqwQJwMAAABRAZ8KakJ/AAAikiw4IhYBrTlIwjjtPQB6ddHwarOA6oihdGOeiyxwVKkcLx1KWLFee7pSV1GRsVUgPEUAHyUaw3OIsg2RFMSfmfwVL5V3UjZgAAAAtkGbD0moQWyZTAhX//3hAAAEFRPUpGBk4N/OPJp8QWr5QU8nwhmPaZp32U++TKlLhgTALobnAn7HH9FPYTSxEzFnPwF+XYjHO+etaghnwgG8gFVMKX9qwQ8RqZEtb8ufdMKIBn0dnATHwoG4PN9U0w7OF4o1DIQfXKL6NgbErnlv1qcRmsBINL0af7/EV2WJRcU8bF8vV8dRIYMEob5vbxqazMWxb5KboySbCT3WaG+HA1cz8KAcAAAAQEGfLUUVLCv/AAAWsyu0+lqBLdXp6JwA3LRiFqeOrBC/1tD4x0kS08xormju1f3cP3AApcKlAzZZWIny/3XiMoEAAAAfAZ9MdEJ/AAAjq/f5UQUQYGFZUcFLAAOQBnEyMbEITQAAAB0Bn05qQn8AACOxzAlvqW+yFZDvjNOyYpNurU+EjQAAAFxBm1NJqEFsmUwIZ//+OEAAAP7v/S1lrIDMG9evc3ePOU5g50jP+e9uUcE1m952leY7Ou4QpFbiZGXZyRO5itoFtNpntm/ULDd0bb9hGoqhWeXGHfYSt4iKQK1u4AAAAChBn3FFFSwr/wAAFsCbP2H9hjwCn4pYqbbQ3b9pJPV6r4HnCiThH3TKAAAAGwGfkHRCfwAAI6v4W3gSnWgpb9TYS+mLDVN5QQAAACMBn5JqQn8AACOxzAlvqKc2IR7z5tCePyJKG71TLSdQUNA7gAAAAB5Bm5dJqEFsmUwIX//98QAAAwAAU96VMcAH/yAPrjgAAAAkQZ+1RRUsK/8AAAMDN3DtVFZ2C2Ph+LD5AOla5Fh6GGrcNO3BAAAAHQGf1HRCfwAABRxbeYsh1HotFPVMB3q1vAkg0QtuAAAAGQGf1mpCfwAABR0+YOJlrdmyFXdaTXUvbMEAAACXQZvbSahBbJlMCF///fEAAAMCoNXg8KXCd7DPGQBU4g+TPk6B2t/hNc8O5jhtH8rvi0vA5DABnCDx9TAFZ1pihT5jZsqOYSmRrbuMEkjeGuwVUlxBPEmkGHFtfk30mlxcvAYzKnxXrfuwo9thtQSMZgrmWfNsF9H8+V2crD3jYiG/PXNOx2yRU5HVQ3i2/MtrFHTgCfLmNwAAAClBn/lFFSwr/wAAFrxDzbcVy/ynL3mRC6xg21zJzljsU4SaJu+NwaqVGAAAABoBnhh0Qn8AAAT70MIYbXEem569eS0eZpYSAwAAACIBnhpqQn8AACOxzAlvqmhN5NKN5Z9qk3ZqPeFJGSmW/ytmAAAAPUGaHEmoQWyZTAhX//3hAAADAJMYy/yy4vDQsRkGtrNHwQqLP5P28CXyJnegVUiaAFHFK6zLmbrFiPdwhIcAAADnQZogSeEKUmUwIV/94QAABBUT4jteAauPdXECh15CF+jtXBWq8sGmDNY3Ee2Tk7V95nmLtyaKyl0tWMRZmqb/budabUbkmVXFivGPrQ/Z1FAnHq4Pj06c+iT5+C2u1AF0l34Hvs5v2FWJ0TQemROG3Ul/73+ph7H507bAty2RX+d8637NNQugUp2m3GwU1+qq0WtdYIN4egVSdyeJjp/QGWezsKMrK4eqs1V6cbstJrZH3hl3yfu0Y8yjiO7u678ru5mEt8KvAwiVFJNDNJMtziSWkzlnPCvJfnWLdDUBs/zln5IxcOqpAAAAWkGeXkU0TCv/AAAWu4qUZHL7L0Gj5MfcQI5iFYtpDi6GadWoUZHLVYgCNsTH4DwB1bARUmfJp7uLnsoOKf1gKLkKBGlbPXZ5uLyu4lQsdtfUIwgOy/T/xNoMEAAAADkBnn10Qn8AACPDF2iuy/1ElVMJ1g0+8fFrb15sHgeclohifzJNGngvwaMMjRMi+c680pP08zDG/PgAAABFAZ5/akJ/AAAjrlyFbP413zmt8MYVhfm1CEAfFUaLK1EwiHFaoRitjl8KZOGHTcA/hZ8Uut9Eij4j19zNwfQuQf25kMFhAAAAkkGaYkmoQWiZTBTwr/3hAAAEE3NeN//hHmTesdGp9QcZ5WZ5UPpf5Js1AHMHTeUucew69tDlUq0jhV7/wcM0O23gc714NwM0LUEXfwrtE4L6YBHTqBLNcmOovIzzylH/5bwl3wXF8g99ofm2Obb4dXxxWY3RgotTLNFD+uKECvWceyoLNzm9AjGZhd8k8B14S0QIAAAAPwGegWpCfwAAI78EJ0ko2wjTLeXTaT1gnRAZqCCWbG0LP10yQ+aE/5pUc4gJtZI4kb4OY+0AAh9N4Ql/t2KyoQAAAJJBmoZJ4QpSZTAhP/yEAAAP3Zlm/cnkiklhKxHzTujQWX4SAOSeb+9n1/dhLPg/CVyy5FKiNBBNLc3xD9R4lEbAgRVrSOG6qhyk0dhs5Ai4Xht6chdhUqdy6v3+SxLXEPvcHcAztRb/7iOLK/MCpMLlEjJrrcWTgsORpWLKObHRyhQflmhsnnUcwTHHFem3poXAQAAAAFBBnqRFNEwr/wAAFruSkRBvIA4hmBupyJIIN2nr5kAfdqcVSV+zv7WUN/I6C8qRTHDzlepaj4AQls7S1zFPEkgJV0r0fU0pw4eenzjIq/53oQAAADUBnsN0Qn8AACOTL7kypLkSBOF7VWmDAr+RaMUUorbWwmG9e/OH0RqiBNR6GPOjDTRbi4z8HQAAAEIBnsVqQn8AACOuXmjyU71Nwcx4abr3Y0MafZePwE43rOzxgpr+R1zoErtjJxwt2NiWrLa0U6si64XKFWdQc0j/PKEAAABDQZrHSahBaJlMCE///IQAAA/c+QKvejXdIkD2JdKYucBsHAprDdDkWGP7wsxVpV81Js1OkhsKMByrxUTrKmcNtKHEeQAAB9ltb292AAAAbG12aGQAAAAAAAAAAAAAAAAAAAPoAAANiwABAAABAAAAAAAAAAAAAAAAAQAAAAAAAAAAAAAAAAAAAAEAAAAAAAAAAAAAAAAAAEAAAAAAAAAAAAAAAAAAAAAAAAAAAAAAAAAAAAAAAAACAAAHA3RyYWsAAABcdGtoZAAAAAMAAAAAAAAAAAAAAAEAAAAAAAANiwAAAAAAAAAAAAAAAAAAAAAAAQAAAAAAAAAAAAAAAAAAAAEAAAAAAAAAAAAAAAAAAEAAAAACYAAAAZAAAAAAACRlZHRzAAAAHGVsc3QAAAAAAAAAAQAADYsAAAQAAAEAAAAABnttZGlhAAAAIG1kaGQAAAAAAAAAAAAAAAAAADwAAADQAFXEAAAAAAAtaGRscgAAAAAAAAAAdmlkZQAAAAAAAAAAAAAAAFZpZGVvSGFuZGxlcgAAAAYmbWluZgAAABR2bWhkAAAAAQAAAAAAAAAAAAAAJGRpbmYAAAAcZHJlZgAAAAAAAAABAAAADHVybCAAAAABAAAF5nN0YmwAAACWc3RzZAAAAAAAAAABAAAAhmF2YzEAAAAAAAAAAQAAAAAAAAAAAAAAAAAAAAACYAGQAEgAAABIAAAAAAAAAAEAAAAAAAAAAAAAAAAAAAAAAAAAAAAAAAAAAAAAAAAAAAAY//8AAAAwYXZjQwFkAB7/4QAYZ2QAHqzZQJgzoQAAAwABAAADADwPFi2WAQAFaOvnLIsAAAAYc3R0cwAAAAAAAAABAAAAaAAAAgAAAAAUc3RzcwAAAAAAAAABAAAAAQAAAzhjdHRzAAAAAAAAAGUAAAABAAAEAAAAAAEAAAoAAAAAAQAABAAAAAABAAAAAAAAAAEAAAIAAAAAAQAACgAAAAABAAAEAAAAAAEAAAAAAAAAAQAAAgAAAAABAAAKAAAAAAEAAAQAAAAAAQAAAAAAAAABAAACAAAAAAEAAAoAAAAAAQAABAAAAAABAAAAAAAAAAEAAAIAAAAAAQAACgAAAAABAAAEAAAAAAEAAAAAAAAAAQAAAgAAAAABAAAIAAAAAAIAAAIAAAAAAQAACgAAAAABAAAEAAAAAAEAAAAAAAAAAQAAAgAAAAABAAAKAAAAAAEAAAQAAAAAAQAAAAAAAAABAAACAAAAAAEAAAoAAAAAAQAABAAAAAABAAAAAAAAAAEAAAIAAAAAAQAACAAAAAACAAACAAAAAAEAAAoAAAAAAQAABAAAAAABAAAAAAAAAAEAAAIAAAAAAQAACgAAAAABAAAEAAAAAAEAAAAAAAAAAQAAAgAAAAABAAAKAAAAAAEAAAQAAAAAAQAAAAAAAAABAAACAAAAAAEAAAoAAAAAAQAABAAAAAABAAAAAAAAAAEAAAIAAAAAAQAACgAAAAABAAAEAAAAAAEAAAAAAAAAAQAAAgAAAAABAAAKAAAAAAEAAAQAAAAAAQAAAAAAAAABAAACAAAAAAEAAAYAAAAAAQAAAgAAAAABAAAKAAAAAAEAAAQAAAAAAQAAAAAAAAABAAACAAAAAAEAAAgAAAAAAgAAAgAAAAABAAAKAAAAAAEAAAQAAAAAAQAAAAAAAAABAAACAAAAAAEAAAoAAAAAAQAABAAAAAABAAAAAAAAAAEAAAIAAAAAAQAACgAAAAABAAAEAAAAAAEAAAAAAAAAAQAAAgAAAAABAAAKAAAAAAEAAAQAAAAAAQAAAAAAAAABAAACAAAAAAEAAAoAAAAAAQAABAAAAAABAAAAAAAAAAEAAAIAAAAAAQAABAAAAAABAAAKAAAAAAEAAAQAAAAAAQAAAAAAAAABAAACAAAAAAEAAAYAAAAAAQAAAgAAAAABAAAKAAAAAAEAAAQAAAAAAQAAAAAAAAABAAACAAAAAAEAAAQAAAAAHHN0c2MAAAAAAAAAAQAAAAEAAABoAAAAAQAAAbRzdHN6AAAAAAAAAAAAAABoAAAEwgAAAJoAAAAsAAAAGAAAADUAAADzAAAAUgAAADoAAABJAAABCAAAAFwAAAA7AAAAPwAAAPUAAACYAAAAYQAAACYAAABCAAAAIAAAAB4AAAAUAAAAgQAAADQAAAA2AAAAugAAAEQAAAA1AAAAMgAAAQYAAABcAAAAQAAAAEQAAADNAAAAZAAAAEEAAABPAAAA6wAAAC8AAAAWAAAAcwAAAEIAAAAlAAAALgAAAJ4AAABNAAAAMAAAAEEAAADxAAAAYwAAADoAAABCAAAAwAAAALIAAABNAAAAeAAAAJcAAAAyAAAAHQAAADoAAABiAAAAOAAAACYAAAAsAAAAIQAAACAAAAC+AAAAQgAAAD4AAAAwAAAA1QAAAEAAAABDAAABBgAAAIoAAABQAAAAVQAAALoAAABEAAAAIwAAACEAAABgAAAALAAAAB8AAAAnAAAAIgAAACgAAAAhAAAAHQAAAJsAAAAtAAAAHgAAACYAAABBAAAA6wAAAF4AAAA9AAAASQAAAJYAAABDAAAAlgAAAFQAAAA5AAAARgAAAEcAAAAUc3RjbwAAAAAAAAABAAAAMAAAAGJ1ZHRhAAAAWm1ldGEAAAAAAAAAIWhkbHIAAAAAAAAAAG1kaXJhcHBsAAAAAAAAAAAAAAAALWlsc3QAAAAlqXRvbwAAAB1kYXRhAAAAAQAAAABMYXZmNTcuODMuMTAw\" type=\"video/mp4\">\n",
       "  Your browser does not support the video tag.\n",
       "  </video>"
      ],
      "text/plain": [
       "<IPython.core.display.HTML object>"
      ]
     },
     "execution_count": 36,
     "metadata": {},
     "output_type": "execute_result"
    }
   ],
   "source": [
    "create_policy_eval_video(random_policy, \"random-agent\")"
   ]
  }
 ],
 "metadata": {
  "colab": {
   "collapsed_sections": [],
   "name": "DQN Tutorial.ipynb",
   "private_outputs": true,
   "provenance": [],
   "toc_visible": true
  },
  "kernelspec": {
   "display_name": "Python 3",
   "language": "python",
   "name": "python3"
  },
  "language_info": {
   "codemirror_mode": {
    "name": "ipython",
    "version": 3
   },
   "file_extension": ".py",
   "mimetype": "text/x-python",
   "name": "python",
   "nbconvert_exporter": "python",
   "pygments_lexer": "ipython3",
   "version": "3.7.5"
  },
  "pycharm": {
   "stem_cell": {
    "cell_type": "raw",
    "metadata": {
     "collapsed": false
    },
    "source": []
   }
  }
 },
 "nbformat": 4,
 "nbformat_minor": 0
}
