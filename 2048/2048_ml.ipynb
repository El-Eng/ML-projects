{
 "cells": [
  {
   "cell_type": "code",
   "execution_count": 1,
   "metadata": {},
   "outputs": [],
   "source": [
    "import numpy as np\n",
    "import gym\n",
    "from gym import Env, spaces, utils\n",
    "import pygame\n",
    "from typing import Optional\n",
    "from io import StringIO\n",
    "from contextlib import closing"
   ]
  },
  {
   "cell_type": "code",
   "execution_count": 2,
   "metadata": {},
   "outputs": [],
   "source": [
    "from env_2048 import *"
   ]
  },
  {
   "cell_type": "code",
   "execution_count": 5,
   "metadata": {
    "id": "lc9cwp03pQVn"
   },
   "outputs": [
    {
     "name": "stdout",
     "output_type": "stream",
     "text": [
      "[0.0, 0.0, 0.0, 0.0]\n",
      "[0.0, 0.0, 0.0, 0.0]\n",
      "[2.0, 0.0, 0.0, 0.0]\n",
      "[0.0, 0.0, 0.0, 0.0]\n",
      "\n"
     ]
    }
   ],
   "source": [
    "env = BlockDoubleEnv()\n",
    "env.reset()  # reset enviornment to default state\n",
    "action = env.action_space.sample()  # get a random action \n",
    "new_state, reward, done, info = env.step(action)  # take action, notice it returns information about the action\n",
    "print(env.render())   # render the GUI for the enviornment "
   ]
  },
  {
   "cell_type": "code",
   "execution_count": 7,
   "metadata": {},
   "outputs": [
    {
     "ename": "AttributeError",
     "evalue": "'Box' object has no attribute 'n'",
     "output_type": "error",
     "traceback": [
      "\u001b[1;31m---------------------------------------------------------------------------\u001b[0m",
      "\u001b[1;31mAttributeError\u001b[0m                            Traceback (most recent call last)",
      "\u001b[1;32mc:\\work\\2048\\2048_ml.ipynb Cell 4'\u001b[0m in \u001b[0;36m<cell line: 1>\u001b[1;34m()\u001b[0m\n\u001b[1;32m----> <a href='vscode-notebook-cell:/c%3A/work/2048/2048_ml.ipynb#ch0000008?line=0'>1</a>\u001b[0m STATES \u001b[39m=\u001b[39m env\u001b[39m.\u001b[39;49mobservation_space\u001b[39m.\u001b[39;49mn\n\u001b[0;32m      <a href='vscode-notebook-cell:/c%3A/work/2048/2048_ml.ipynb#ch0000008?line=1'>2</a>\u001b[0m ACTIONS \u001b[39m=\u001b[39m env\u001b[39m.\u001b[39maction_space\u001b[39m.\u001b[39mn\n\u001b[0;32m      <a href='vscode-notebook-cell:/c%3A/work/2048/2048_ml.ipynb#ch0000008?line=2'>3</a>\u001b[0m Q \u001b[39m=\u001b[39m np\u001b[39m.\u001b[39mzeros((STATES, ACTIONS))  \u001b[39m# create a matrix with all 0 values \u001b[39;00m\n",
      "\u001b[1;31mAttributeError\u001b[0m: 'Box' object has no attribute 'n'"
     ]
    }
   ],
   "source": [
    "STATES = env.observation_space.n\n",
    "ACTIONS = env.action_space.n\n",
    "Q = np.zeros((STATES, ACTIONS))  # create a matrix with all 0 values \n",
    "Q\n",
    "https://stackoverflow.com/questions/66892382/q-table-with-gym-using-box-observation-space"
   ]
  },
  {
   "cell_type": "code",
   "execution_count": null,
   "metadata": {},
   "outputs": [],
   "source": [
    "EPISODES = 2000 # how many times to run the enviornment from the beginning\n",
    "MAX_STEPS = 100  # max number of steps allowed for each run of enviornment\n",
    "\n",
    "LEARNING_RATE = 0.81  # learning rate\n",
    "GAMMA = 0.96"
   ]
  }
 ],
 "metadata": {
  "interpreter": {
   "hash": "f0ec4b0e89c119eb2bf145a02ed567940ed0efbda2b6b4ad1ff613fadcc3a6d7"
  },
  "kernelspec": {
   "display_name": "Python 3.10.4 64-bit",
   "language": "python",
   "name": "python3"
  },
  "language_info": {
   "codemirror_mode": {
    "name": "ipython",
    "version": 3
   },
   "file_extension": ".py",
   "mimetype": "text/x-python",
   "name": "python",
   "nbconvert_exporter": "python",
   "pygments_lexer": "ipython3",
   "version": "3.10.4"
  },
  "orig_nbformat": 4
 },
 "nbformat": 4,
 "nbformat_minor": 2
}
