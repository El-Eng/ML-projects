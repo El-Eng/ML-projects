{
 "cells": [
  {
   "cell_type": "code",
   "execution_count": 1,
   "metadata": {},
   "outputs": [],
   "source": [
    "import numpy as np\n",
    "import gym\n",
    "from gym import Env, spaces, utils\n",
    "import pygame\n",
    "from typing import Optional\n",
    "from io import StringIO\n",
    "from contextlib import closing\n",
    "from gym.spaces import Discrete\n",
    "from gym.wrappers import FlattenObservation\n",
    "import os"
   ]
  },
  {
   "cell_type": "code",
   "execution_count": 2,
   "metadata": {},
   "outputs": [],
   "source": [
    "from env_2048 import *"
   ]
  },
  {
   "cell_type": "code",
   "execution_count": 4,
   "metadata": {},
   "outputs": [
    {
     "name": "stdout",
     "output_type": "stream",
     "text": [
      "[8.0, 8.0, 8.0, 2.0]\n",
      "[4.0, 2.0, 16.0, 8.0]\n",
      "[0.0, 8.0, 0.0, 4.0]\n",
      "[0.0, 2.0, 0.0, 2.0]\n",
      "\n"
     ]
    }
   ],
   "source": [
    "env = BlockDoubleEnv()\n",
    "env.reset()\n",
    "env._boardstate = [[4, 8, 4, 2],\n",
    "  [4, 2, 4, 8],\n",
    "  [2, 4, 8, 4],\n",
    "  [2, 4, 8, 2]]\n",
    "new_state, reward, done, info = env.step(3)\n",
    "print(env.render())"
   ]
  },
  {
   "cell_type": "code",
   "execution_count": 6,
   "metadata": {},
   "outputs": [
    {
     "name": "stdout",
     "output_type": "stream",
     "text": [
      "[0.0, 0.0, 0.0, 2.0]\n",
      "[8.0, 8.0, 2.0, 8.0]\n",
      "[4.0, 2.0, 8.0, 4.0]\n",
      "[2.0, 8.0, 16.0, 2.0]\n",
      "\n"
     ]
    }
   ],
   "source": [
    "from IPython.display import clear_output\n",
    "env = BlockDoubleEnv()\n",
    "env.reset()  # reset enviornment to default state\n",
    "env._boardstate = np.array([[4, 8, 4, 2],\n",
    "  [4, 2, 4, 8],\n",
    "  [2, 4, 8, 4],\n",
    "  [2, 4, 8, 2]])\n",
    "score = 0\n",
    "while True:\n",
    "    check = 0\n",
    "    print(env.render())\n",
    "    key = input(\"w,a,s,d\\n\").lower()\n",
    "    if key == \"w\":\n",
    "        action = 3\n",
    "    elif key == \"d\":\n",
    "        action = 0\n",
    "    elif key == \"s\":\n",
    "        action = 1\n",
    "    elif key == \"a\":\n",
    "        action = 2\n",
    "    else:\n",
    "        break\n",
    "    clear_output()\n",
    "    new_state, reward, done, info = env.step(action)"
   ]
  },
  {
   "cell_type": "code",
   "execution_count": 8,
   "metadata": {},
   "outputs": [
    {
     "name": "stdout",
     "output_type": "stream",
     "text": [
      "[8.0, 8.0, 8.0, 2.0]\n",
      "[4.0, 2.0, 16.0, 8.0]\n",
      "[0.0, 8.0, 0.0, 4.0]\n",
      "[0.0, 0.0, 2.0, 2.0]\n",
      "\n",
      "[8.0, 8.0, 8.0, 2.0]\n",
      "[4.0, 2.0, 16.0, 8.0]\n",
      "[0.0, 8.0, 2.0, 4.0]\n",
      "[0.0, 0.0, 2.0, 2.0]\n",
      "\n",
      "[8.0, 8.0, 8.0, 2.0]\n",
      "[4.0, 2.0, 16.0, 8.0]\n",
      "[4.0, 8.0, 4.0, 4.0]\n",
      "[0.0, 0.0, 0.0, 2.0]\n",
      "\n"
     ]
    }
   ],
   "source": [
    "env = BlockDoubleEnv()\n",
    "env.reset()  # reset enviornment to default state\n",
    "env._boardstate = np.array([[4, 8, 4, 2],\n",
    "  [4, 2, 4, 8],\n",
    "  [2, 4, 8, 4],\n",
    "  [2, 4, 8, 2]])\n",
    "new_state, reward, done, info = env.step(3)\n",
    "print(env.render())\n",
    "new_state, reward, done, info = env.step(3)\n",
    "print(env.render())\n",
    "new_state, reward, done, info = env.step(3)\n",
    "print(env.render())"
   ]
  },
  {
   "cell_type": "code",
   "execution_count": null,
   "metadata": {},
   "outputs": [],
   "source": [
    "import time\n",
    "turns = 2\n",
    "env = BlockDoubleEnv()\n",
    "for turn in range(1,turns+1):\n",
    "    state = env.reset()\n",
    "#     env._boardstate = np.array([[4.0, 16.0, 2.0, 8.0],\n",
    "# [8.0, 4.0, 16.0, 2.0],\n",
    "# [2.0, 4.0, 4.0, 8.0],\n",
    "# [0.0, 0.0, 8.0, 2.0]])\n",
    "    \n",
    "    done = False\n",
    "    score = 0\n",
    "\n",
    "    while not done:\n",
    "        #clear_output()\n",
    "        print(env.render())\n",
    "        action = env.action_space.sample()\n",
    "        new_state, reward, done, info = env.step(action)\n",
    "        score += reward\n",
    "        print(reward)\n",
    "    print(f\"Episode:{turn}, Score:{score}\")\n"
   ]
  },
  {
   "cell_type": "code",
   "execution_count": 3,
   "metadata": {},
   "outputs": [],
   "source": [
    "from env_2048 import *\n",
    "\n",
    "env = BlockDoubleEnv()"
   ]
  },
  {
   "cell_type": "code",
   "execution_count": 14,
   "metadata": {},
   "outputs": [],
   "source": [
    "from keras.models import Sequential"
   ]
  },
  {
   "cell_type": "code",
   "execution_count": 20,
   "metadata": {},
   "outputs": [],
   "source": [
    "import numpy as np\n",
    "from keras.models import Sequential\n",
    "from keras.layers import Dense, Flatten, Rescaling, InputLayer\n",
    "from keras.optimizers import Adam\n",
    "\n",
    "states = gym.spaces.utils.flatdim(env.observation_space)\n",
    "#states = env.observation_space.shape\n",
    "actions = env.action_space.n\n",
    "\n",
    "def build_model(states, actions):\n",
    "    model = Sequential()\n",
    "    model.add(InputLayer(input_shape=states))\n",
    "    model.add(Rescaling(scale=1./2048))\n",
    "    model.add(Flatten())\n",
    "    model.add(Dense(24, activation='relu'))\n",
    "    model.add(Dense(24, activation='relu'))\n",
    "    model.add(Dense(actions, activation='linear'))\n",
    "    return model"
   ]
  },
  {
   "cell_type": "code",
   "execution_count": 21,
   "metadata": {},
   "outputs": [],
   "source": [
    "model = build_model(states, actions)"
   ]
  },
  {
   "cell_type": "code",
   "execution_count": 22,
   "metadata": {},
   "outputs": [
    {
     "name": "stdout",
     "output_type": "stream",
     "text": [
      "Model: \"sequential_3\"\n",
      "_________________________________________________________________\n",
      " Layer (type)                Output Shape              Param #   \n",
      "=================================================================\n",
      " rescaling_3 (Rescaling)     (None, 16)                0         \n",
      "                                                                 \n",
      " flatten_3 (Flatten)         (None, 16)                0         \n",
      "                                                                 \n",
      " dense_9 (Dense)             (None, 24)                408       \n",
      "                                                                 \n",
      " dense_10 (Dense)            (None, 24)                600       \n",
      "                                                                 \n",
      " dense_11 (Dense)            (None, 4)                 100       \n",
      "                                                                 \n",
      "=================================================================\n",
      "Total params: 1,108\n",
      "Trainable params: 1,108\n",
      "Non-trainable params: 0\n",
      "_________________________________________________________________\n"
     ]
    }
   ],
   "source": [
    "model.summary()"
   ]
  },
  {
   "cell_type": "code",
   "execution_count": 23,
   "metadata": {},
   "outputs": [],
   "source": [
    "from rl.agents import DQNAgent\n",
    "from rl.policy import BoltzmannQPolicy\n",
    "from rl.memory import SequentialMemory\n",
    "def build_agent(model, actions):\n",
    "    policy = BoltzmannQPolicy()\n",
    "    memory = SequentialMemory(limit=50000, window_length=1)\n",
    "    dqn = DQNAgent(model=model, memory=memory, policy=policy, \n",
    "                  nb_actions=actions, nb_steps_warmup=10, target_model_update=1e-2)\n",
    "    return dqn\n"
   ]
  },
  {
   "cell_type": "code",
   "execution_count": 24,
   "metadata": {},
   "outputs": [
    {
     "name": "stdout",
     "output_type": "stream",
     "text": [
      "Training for 50000 steps ...\n",
      "Interval 1 (0 steps performed)\n"
     ]
    },
    {
     "ename": "ValueError",
     "evalue": "Error when checking input: expected input_3 to have 2 dimensions, but got array with shape (1, 1, 4, 4)",
     "output_type": "error",
     "traceback": [
      "\u001b[1;31m---------------------------------------------------------------------------\u001b[0m",
      "\u001b[1;31mValueError\u001b[0m                                Traceback (most recent call last)",
      "\u001b[1;32mc:\\work\\2048\\2048_ml.ipynb Cell 12'\u001b[0m in \u001b[0;36m<cell line: 3>\u001b[1;34m()\u001b[0m\n\u001b[0;32m      <a href='vscode-notebook-cell:/c%3A/work/2048/2048_ml.ipynb#ch0000032?line=0'>1</a>\u001b[0m dqn \u001b[39m=\u001b[39m build_agent(model, actions)\n\u001b[0;32m      <a href='vscode-notebook-cell:/c%3A/work/2048/2048_ml.ipynb#ch0000032?line=1'>2</a>\u001b[0m dqn\u001b[39m.\u001b[39mcompile(Adam(lr\u001b[39m=\u001b[39m\u001b[39m1e-3\u001b[39m), metrics\u001b[39m=\u001b[39m[\u001b[39m'\u001b[39m\u001b[39mmae\u001b[39m\u001b[39m'\u001b[39m])\n\u001b[1;32m----> <a href='vscode-notebook-cell:/c%3A/work/2048/2048_ml.ipynb#ch0000032?line=2'>3</a>\u001b[0m dqn\u001b[39m.\u001b[39;49mfit(env, nb_steps\u001b[39m=\u001b[39;49m\u001b[39m50000\u001b[39;49m, visualize\u001b[39m=\u001b[39;49m\u001b[39mFalse\u001b[39;49;00m, verbose\u001b[39m=\u001b[39;49m\u001b[39m1\u001b[39;49m)\n",
      "File \u001b[1;32mc:\\Users\\ellio\\AppData\\Local\\Programs\\Python\\Python310\\lib\\site-packages\\rl\\core.py:168\u001b[0m, in \u001b[0;36mAgent.fit\u001b[1;34m(self, env, nb_steps, action_repetition, callbacks, verbose, visualize, nb_max_start_steps, start_step_policy, log_interval, nb_max_episode_steps)\u001b[0m\n\u001b[0;32m    <a href='file:///c%3A/Users/ellio/AppData/Local/Programs/Python/Python310/lib/site-packages/rl/core.py?line=164'>165</a>\u001b[0m callbacks\u001b[39m.\u001b[39mon_step_begin(episode_step)\n\u001b[0;32m    <a href='file:///c%3A/Users/ellio/AppData/Local/Programs/Python/Python310/lib/site-packages/rl/core.py?line=165'>166</a>\u001b[0m \u001b[39m# This is were all of the work happens. We first perceive and compute the action\u001b[39;00m\n\u001b[0;32m    <a href='file:///c%3A/Users/ellio/AppData/Local/Programs/Python/Python310/lib/site-packages/rl/core.py?line=166'>167</a>\u001b[0m \u001b[39m# (forward step) and then use the reward to improve (backward step).\u001b[39;00m\n\u001b[1;32m--> <a href='file:///c%3A/Users/ellio/AppData/Local/Programs/Python/Python310/lib/site-packages/rl/core.py?line=167'>168</a>\u001b[0m action \u001b[39m=\u001b[39m \u001b[39mself\u001b[39;49m\u001b[39m.\u001b[39;49mforward(observation)\n\u001b[0;32m    <a href='file:///c%3A/Users/ellio/AppData/Local/Programs/Python/Python310/lib/site-packages/rl/core.py?line=168'>169</a>\u001b[0m \u001b[39mif\u001b[39;00m \u001b[39mself\u001b[39m\u001b[39m.\u001b[39mprocessor \u001b[39mis\u001b[39;00m \u001b[39mnot\u001b[39;00m \u001b[39mNone\u001b[39;00m:\n\u001b[0;32m    <a href='file:///c%3A/Users/ellio/AppData/Local/Programs/Python/Python310/lib/site-packages/rl/core.py?line=169'>170</a>\u001b[0m     action \u001b[39m=\u001b[39m \u001b[39mself\u001b[39m\u001b[39m.\u001b[39mprocessor\u001b[39m.\u001b[39mprocess_action(action)\n",
      "File \u001b[1;32mc:\\Users\\ellio\\AppData\\Local\\Programs\\Python\\Python310\\lib\\site-packages\\rl\\agents\\dqn.py:224\u001b[0m, in \u001b[0;36mDQNAgent.forward\u001b[1;34m(self, observation)\u001b[0m\n\u001b[0;32m    <a href='file:///c%3A/Users/ellio/AppData/Local/Programs/Python/Python310/lib/site-packages/rl/agents/dqn.py?line=220'>221</a>\u001b[0m \u001b[39mdef\u001b[39;00m \u001b[39mforward\u001b[39m(\u001b[39mself\u001b[39m, observation):\n\u001b[0;32m    <a href='file:///c%3A/Users/ellio/AppData/Local/Programs/Python/Python310/lib/site-packages/rl/agents/dqn.py?line=221'>222</a>\u001b[0m     \u001b[39m# Select an action.\u001b[39;00m\n\u001b[0;32m    <a href='file:///c%3A/Users/ellio/AppData/Local/Programs/Python/Python310/lib/site-packages/rl/agents/dqn.py?line=222'>223</a>\u001b[0m     state \u001b[39m=\u001b[39m \u001b[39mself\u001b[39m\u001b[39m.\u001b[39mmemory\u001b[39m.\u001b[39mget_recent_state(observation)\n\u001b[1;32m--> <a href='file:///c%3A/Users/ellio/AppData/Local/Programs/Python/Python310/lib/site-packages/rl/agents/dqn.py?line=223'>224</a>\u001b[0m     q_values \u001b[39m=\u001b[39m \u001b[39mself\u001b[39;49m\u001b[39m.\u001b[39;49mcompute_q_values(state)\n\u001b[0;32m    <a href='file:///c%3A/Users/ellio/AppData/Local/Programs/Python/Python310/lib/site-packages/rl/agents/dqn.py?line=224'>225</a>\u001b[0m     \u001b[39mif\u001b[39;00m \u001b[39mself\u001b[39m\u001b[39m.\u001b[39mtraining:\n\u001b[0;32m    <a href='file:///c%3A/Users/ellio/AppData/Local/Programs/Python/Python310/lib/site-packages/rl/agents/dqn.py?line=225'>226</a>\u001b[0m         action \u001b[39m=\u001b[39m \u001b[39mself\u001b[39m\u001b[39m.\u001b[39mpolicy\u001b[39m.\u001b[39mselect_action(q_values\u001b[39m=\u001b[39mq_values)\n",
      "File \u001b[1;32mc:\\Users\\ellio\\AppData\\Local\\Programs\\Python\\Python310\\lib\\site-packages\\rl\\agents\\dqn.py:68\u001b[0m, in \u001b[0;36mAbstractDQNAgent.compute_q_values\u001b[1;34m(self, state)\u001b[0m\n\u001b[0;32m     <a href='file:///c%3A/Users/ellio/AppData/Local/Programs/Python/Python310/lib/site-packages/rl/agents/dqn.py?line=66'>67</a>\u001b[0m \u001b[39mdef\u001b[39;00m \u001b[39mcompute_q_values\u001b[39m(\u001b[39mself\u001b[39m, state):\n\u001b[1;32m---> <a href='file:///c%3A/Users/ellio/AppData/Local/Programs/Python/Python310/lib/site-packages/rl/agents/dqn.py?line=67'>68</a>\u001b[0m     q_values \u001b[39m=\u001b[39m \u001b[39mself\u001b[39;49m\u001b[39m.\u001b[39;49mcompute_batch_q_values([state])\u001b[39m.\u001b[39mflatten()\n\u001b[0;32m     <a href='file:///c%3A/Users/ellio/AppData/Local/Programs/Python/Python310/lib/site-packages/rl/agents/dqn.py?line=68'>69</a>\u001b[0m     \u001b[39massert\u001b[39;00m q_values\u001b[39m.\u001b[39mshape \u001b[39m==\u001b[39m (\u001b[39mself\u001b[39m\u001b[39m.\u001b[39mnb_actions,)\n\u001b[0;32m     <a href='file:///c%3A/Users/ellio/AppData/Local/Programs/Python/Python310/lib/site-packages/rl/agents/dqn.py?line=69'>70</a>\u001b[0m     \u001b[39mreturn\u001b[39;00m q_values\n",
      "File \u001b[1;32mc:\\Users\\ellio\\AppData\\Local\\Programs\\Python\\Python310\\lib\\site-packages\\rl\\agents\\dqn.py:63\u001b[0m, in \u001b[0;36mAbstractDQNAgent.compute_batch_q_values\u001b[1;34m(self, state_batch)\u001b[0m\n\u001b[0;32m     <a href='file:///c%3A/Users/ellio/AppData/Local/Programs/Python/Python310/lib/site-packages/rl/agents/dqn.py?line=60'>61</a>\u001b[0m \u001b[39mdef\u001b[39;00m \u001b[39mcompute_batch_q_values\u001b[39m(\u001b[39mself\u001b[39m, state_batch):\n\u001b[0;32m     <a href='file:///c%3A/Users/ellio/AppData/Local/Programs/Python/Python310/lib/site-packages/rl/agents/dqn.py?line=61'>62</a>\u001b[0m     batch \u001b[39m=\u001b[39m \u001b[39mself\u001b[39m\u001b[39m.\u001b[39mprocess_state_batch(state_batch)\n\u001b[1;32m---> <a href='file:///c%3A/Users/ellio/AppData/Local/Programs/Python/Python310/lib/site-packages/rl/agents/dqn.py?line=62'>63</a>\u001b[0m     q_values \u001b[39m=\u001b[39m \u001b[39mself\u001b[39;49m\u001b[39m.\u001b[39;49mmodel\u001b[39m.\u001b[39;49mpredict_on_batch(batch)\n\u001b[0;32m     <a href='file:///c%3A/Users/ellio/AppData/Local/Programs/Python/Python310/lib/site-packages/rl/agents/dqn.py?line=63'>64</a>\u001b[0m     \u001b[39massert\u001b[39;00m q_values\u001b[39m.\u001b[39mshape \u001b[39m==\u001b[39m (\u001b[39mlen\u001b[39m(state_batch), \u001b[39mself\u001b[39m\u001b[39m.\u001b[39mnb_actions)\n\u001b[0;32m     <a href='file:///c%3A/Users/ellio/AppData/Local/Programs/Python/Python310/lib/site-packages/rl/agents/dqn.py?line=64'>65</a>\u001b[0m     \u001b[39mreturn\u001b[39;00m q_values\n",
      "File \u001b[1;32mc:\\Users\\ellio\\AppData\\Local\\Programs\\Python\\Python310\\lib\\site-packages\\keras\\engine\\training_v1.py:1186\u001b[0m, in \u001b[0;36mModel.predict_on_batch\u001b[1;34m(self, x)\u001b[0m\n\u001b[0;32m   <a href='file:///c%3A/Users/ellio/AppData/Local/Programs/Python/Python310/lib/site-packages/keras/engine/training_v1.py?line=1181'>1182</a>\u001b[0m   \u001b[39mraise\u001b[39;00m \u001b[39mNotImplementedError\u001b[39;00m(\n\u001b[0;32m   <a href='file:///c%3A/Users/ellio/AppData/Local/Programs/Python/Python310/lib/site-packages/keras/engine/training_v1.py?line=1182'>1183</a>\u001b[0m       \u001b[39m'\u001b[39m\u001b[39m`predict_on_batch` is not supported for models distributed with\u001b[39m\u001b[39m'\u001b[39m\n\u001b[0;32m   <a href='file:///c%3A/Users/ellio/AppData/Local/Programs/Python/Python310/lib/site-packages/keras/engine/training_v1.py?line=1183'>1184</a>\u001b[0m       \u001b[39m'\u001b[39m\u001b[39m tf.distribute.Strategy.\u001b[39m\u001b[39m'\u001b[39m)\n\u001b[0;32m   <a href='file:///c%3A/Users/ellio/AppData/Local/Programs/Python/Python310/lib/site-packages/keras/engine/training_v1.py?line=1184'>1185</a>\u001b[0m \u001b[39m# Validate and standardize user data.\u001b[39;00m\n\u001b[1;32m-> <a href='file:///c%3A/Users/ellio/AppData/Local/Programs/Python/Python310/lib/site-packages/keras/engine/training_v1.py?line=1185'>1186</a>\u001b[0m inputs, _, _ \u001b[39m=\u001b[39m \u001b[39mself\u001b[39;49m\u001b[39m.\u001b[39;49m_standardize_user_data(\n\u001b[0;32m   <a href='file:///c%3A/Users/ellio/AppData/Local/Programs/Python/Python310/lib/site-packages/keras/engine/training_v1.py?line=1186'>1187</a>\u001b[0m     x, extract_tensors_from_dataset\u001b[39m=\u001b[39;49m\u001b[39mTrue\u001b[39;49;00m)\n\u001b[0;32m   <a href='file:///c%3A/Users/ellio/AppData/Local/Programs/Python/Python310/lib/site-packages/keras/engine/training_v1.py?line=1187'>1188</a>\u001b[0m \u001b[39m# If `self._distribution_strategy` is True, then we are in a replica context\u001b[39;00m\n\u001b[0;32m   <a href='file:///c%3A/Users/ellio/AppData/Local/Programs/Python/Python310/lib/site-packages/keras/engine/training_v1.py?line=1188'>1189</a>\u001b[0m \u001b[39m# at this point.\u001b[39;00m\n\u001b[0;32m   <a href='file:///c%3A/Users/ellio/AppData/Local/Programs/Python/Python310/lib/site-packages/keras/engine/training_v1.py?line=1189'>1190</a>\u001b[0m \u001b[39mif\u001b[39;00m \u001b[39mself\u001b[39m\u001b[39m.\u001b[39mrun_eagerly \u001b[39mor\u001b[39;00m \u001b[39mself\u001b[39m\u001b[39m.\u001b[39m_distribution_strategy:\n",
      "File \u001b[1;32mc:\\Users\\ellio\\AppData\\Local\\Programs\\Python\\Python310\\lib\\site-packages\\keras\\engine\\training_v1.py:2323\u001b[0m, in \u001b[0;36mModel._standardize_user_data\u001b[1;34m(self, x, y, sample_weight, class_weight, batch_size, check_steps, steps_name, steps, validation_split, shuffle, extract_tensors_from_dataset)\u001b[0m\n\u001b[0;32m   <a href='file:///c%3A/Users/ellio/AppData/Local/Programs/Python/Python310/lib/site-packages/keras/engine/training_v1.py?line=2318'>2319</a>\u001b[0m \u001b[39mif\u001b[39;00m (\u001b[39mnot\u001b[39;00m run_eagerly \u001b[39mand\u001b[39;00m is_build_called \u001b[39mand\u001b[39;00m is_compile_called \u001b[39mand\u001b[39;00m\n\u001b[0;32m   <a href='file:///c%3A/Users/ellio/AppData/Local/Programs/Python/Python310/lib/site-packages/keras/engine/training_v1.py?line=2319'>2320</a>\u001b[0m     \u001b[39mnot\u001b[39;00m is_dataset  \u001b[39mand\u001b[39;00m \u001b[39many\u001b[39m(_is_symbolic_tensor(v) \u001b[39mfor\u001b[39;00m v \u001b[39min\u001b[39;00m all_inputs)):\n\u001b[0;32m   <a href='file:///c%3A/Users/ellio/AppData/Local/Programs/Python/Python310/lib/site-packages/keras/engine/training_v1.py?line=2320'>2321</a>\u001b[0m   \u001b[39mreturn\u001b[39;00m [], [], \u001b[39mNone\u001b[39;00m\n\u001b[1;32m-> <a href='file:///c%3A/Users/ellio/AppData/Local/Programs/Python/Python310/lib/site-packages/keras/engine/training_v1.py?line=2322'>2323</a>\u001b[0m \u001b[39mreturn\u001b[39;00m \u001b[39mself\u001b[39;49m\u001b[39m.\u001b[39;49m_standardize_tensors(\n\u001b[0;32m   <a href='file:///c%3A/Users/ellio/AppData/Local/Programs/Python/Python310/lib/site-packages/keras/engine/training_v1.py?line=2323'>2324</a>\u001b[0m     x, y, sample_weight,\n\u001b[0;32m   <a href='file:///c%3A/Users/ellio/AppData/Local/Programs/Python/Python310/lib/site-packages/keras/engine/training_v1.py?line=2324'>2325</a>\u001b[0m     run_eagerly\u001b[39m=\u001b[39;49mrun_eagerly,\n\u001b[0;32m   <a href='file:///c%3A/Users/ellio/AppData/Local/Programs/Python/Python310/lib/site-packages/keras/engine/training_v1.py?line=2325'>2326</a>\u001b[0m     dict_inputs\u001b[39m=\u001b[39;49mdict_inputs,\n\u001b[0;32m   <a href='file:///c%3A/Users/ellio/AppData/Local/Programs/Python/Python310/lib/site-packages/keras/engine/training_v1.py?line=2326'>2327</a>\u001b[0m     is_dataset\u001b[39m=\u001b[39;49mis_dataset,\n\u001b[0;32m   <a href='file:///c%3A/Users/ellio/AppData/Local/Programs/Python/Python310/lib/site-packages/keras/engine/training_v1.py?line=2327'>2328</a>\u001b[0m     class_weight\u001b[39m=\u001b[39;49mclass_weight,\n\u001b[0;32m   <a href='file:///c%3A/Users/ellio/AppData/Local/Programs/Python/Python310/lib/site-packages/keras/engine/training_v1.py?line=2328'>2329</a>\u001b[0m     batch_size\u001b[39m=\u001b[39;49mbatch_size)\n",
      "File \u001b[1;32mc:\\Users\\ellio\\AppData\\Local\\Programs\\Python\\Python310\\lib\\site-packages\\keras\\engine\\training_v1.py:2351\u001b[0m, in \u001b[0;36mModel._standardize_tensors\u001b[1;34m(self, x, y, sample_weight, run_eagerly, dict_inputs, is_dataset, class_weight, batch_size)\u001b[0m\n\u001b[0;32m   <a href='file:///c%3A/Users/ellio/AppData/Local/Programs/Python/Python310/lib/site-packages/keras/engine/training_v1.py?line=2347'>2348</a>\u001b[0m \u001b[39m# Standardize the inputs.\u001b[39;00m\n\u001b[0;32m   <a href='file:///c%3A/Users/ellio/AppData/Local/Programs/Python/Python310/lib/site-packages/keras/engine/training_v1.py?line=2348'>2349</a>\u001b[0m \u001b[39mif\u001b[39;00m \u001b[39mnot\u001b[39;00m \u001b[39misinstance\u001b[39m(x, (tf\u001b[39m.\u001b[39mcompat\u001b[39m.\u001b[39mv1\u001b[39m.\u001b[39mdata\u001b[39m.\u001b[39mDataset, tf\u001b[39m.\u001b[39mdata\u001b[39m.\u001b[39mDataset)):\n\u001b[0;32m   <a href='file:///c%3A/Users/ellio/AppData/Local/Programs/Python/Python310/lib/site-packages/keras/engine/training_v1.py?line=2349'>2350</a>\u001b[0m   \u001b[39m# TODO(fchollet): run static checks with dataset output shape(s).\u001b[39;00m\n\u001b[1;32m-> <a href='file:///c%3A/Users/ellio/AppData/Local/Programs/Python/Python310/lib/site-packages/keras/engine/training_v1.py?line=2350'>2351</a>\u001b[0m   x \u001b[39m=\u001b[39m training_utils_v1\u001b[39m.\u001b[39;49mstandardize_input_data(\n\u001b[0;32m   <a href='file:///c%3A/Users/ellio/AppData/Local/Programs/Python/Python310/lib/site-packages/keras/engine/training_v1.py?line=2351'>2352</a>\u001b[0m       x,\n\u001b[0;32m   <a href='file:///c%3A/Users/ellio/AppData/Local/Programs/Python/Python310/lib/site-packages/keras/engine/training_v1.py?line=2352'>2353</a>\u001b[0m       feed_input_names,\n\u001b[0;32m   <a href='file:///c%3A/Users/ellio/AppData/Local/Programs/Python/Python310/lib/site-packages/keras/engine/training_v1.py?line=2353'>2354</a>\u001b[0m       feed_input_shapes,\n\u001b[0;32m   <a href='file:///c%3A/Users/ellio/AppData/Local/Programs/Python/Python310/lib/site-packages/keras/engine/training_v1.py?line=2354'>2355</a>\u001b[0m       check_batch_axis\u001b[39m=\u001b[39;49m\u001b[39mFalse\u001b[39;49;00m,  \u001b[39m# Don't enforce the batch size.\u001b[39;49;00m\n\u001b[0;32m   <a href='file:///c%3A/Users/ellio/AppData/Local/Programs/Python/Python310/lib/site-packages/keras/engine/training_v1.py?line=2355'>2356</a>\u001b[0m       exception_prefix\u001b[39m=\u001b[39;49m\u001b[39m'\u001b[39;49m\u001b[39minput\u001b[39;49m\u001b[39m'\u001b[39;49m)\n\u001b[0;32m   <a href='file:///c%3A/Users/ellio/AppData/Local/Programs/Python/Python310/lib/site-packages/keras/engine/training_v1.py?line=2357'>2358</a>\u001b[0m \u001b[39m# Get typespecs for the input data and sanitize it if necessary.\u001b[39;00m\n\u001b[0;32m   <a href='file:///c%3A/Users/ellio/AppData/Local/Programs/Python/Python310/lib/site-packages/keras/engine/training_v1.py?line=2358'>2359</a>\u001b[0m \u001b[39m# TODO(momernick): This should be capable of doing full input validation\u001b[39;00m\n\u001b[0;32m   <a href='file:///c%3A/Users/ellio/AppData/Local/Programs/Python/Python310/lib/site-packages/keras/engine/training_v1.py?line=2359'>2360</a>\u001b[0m \u001b[39m# at all times - validate that this is so and refactor the standardization\u001b[39;00m\n\u001b[0;32m   <a href='file:///c%3A/Users/ellio/AppData/Local/Programs/Python/Python310/lib/site-packages/keras/engine/training_v1.py?line=2360'>2361</a>\u001b[0m \u001b[39m# code.\u001b[39;00m\n\u001b[0;32m   <a href='file:///c%3A/Users/ellio/AppData/Local/Programs/Python/Python310/lib/site-packages/keras/engine/training_v1.py?line=2361'>2362</a>\u001b[0m \u001b[39mif\u001b[39;00m \u001b[39misinstance\u001b[39m(x, tf\u001b[39m.\u001b[39mdata\u001b[39m.\u001b[39mDataset):\n",
      "File \u001b[1;32mc:\\Users\\ellio\\AppData\\Local\\Programs\\Python\\Python310\\lib\\site-packages\\keras\\engine\\training_utils_v1.py:633\u001b[0m, in \u001b[0;36mstandardize_input_data\u001b[1;34m(data, names, shapes, check_batch_axis, exception_prefix)\u001b[0m\n\u001b[0;32m    <a href='file:///c%3A/Users/ellio/AppData/Local/Programs/Python/Python310/lib/site-packages/keras/engine/training_utils_v1.py?line=630'>631</a>\u001b[0m shape \u001b[39m=\u001b[39m shapes[i]\n\u001b[0;32m    <a href='file:///c%3A/Users/ellio/AppData/Local/Programs/Python/Python310/lib/site-packages/keras/engine/training_utils_v1.py?line=631'>632</a>\u001b[0m \u001b[39mif\u001b[39;00m \u001b[39mlen\u001b[39m(data_shape) \u001b[39m!=\u001b[39m \u001b[39mlen\u001b[39m(shape):\n\u001b[1;32m--> <a href='file:///c%3A/Users/ellio/AppData/Local/Programs/Python/Python310/lib/site-packages/keras/engine/training_utils_v1.py?line=632'>633</a>\u001b[0m   \u001b[39mraise\u001b[39;00m \u001b[39mValueError\u001b[39;00m(\u001b[39m'\u001b[39m\u001b[39mError when checking \u001b[39m\u001b[39m'\u001b[39m \u001b[39m+\u001b[39m exception_prefix \u001b[39m+\u001b[39m\n\u001b[0;32m    <a href='file:///c%3A/Users/ellio/AppData/Local/Programs/Python/Python310/lib/site-packages/keras/engine/training_utils_v1.py?line=633'>634</a>\u001b[0m                    \u001b[39m'\u001b[39m\u001b[39m: expected \u001b[39m\u001b[39m'\u001b[39m \u001b[39m+\u001b[39m names[i] \u001b[39m+\u001b[39m \u001b[39m'\u001b[39m\u001b[39m to have \u001b[39m\u001b[39m'\u001b[39m \u001b[39m+\u001b[39m\n\u001b[0;32m    <a href='file:///c%3A/Users/ellio/AppData/Local/Programs/Python/Python310/lib/site-packages/keras/engine/training_utils_v1.py?line=634'>635</a>\u001b[0m                    \u001b[39mstr\u001b[39m(\u001b[39mlen\u001b[39m(shape)) \u001b[39m+\u001b[39m \u001b[39m'\u001b[39m\u001b[39m dimensions, but got array \u001b[39m\u001b[39m'\u001b[39m\n\u001b[0;32m    <a href='file:///c%3A/Users/ellio/AppData/Local/Programs/Python/Python310/lib/site-packages/keras/engine/training_utils_v1.py?line=635'>636</a>\u001b[0m                    \u001b[39m'\u001b[39m\u001b[39mwith shape \u001b[39m\u001b[39m'\u001b[39m \u001b[39m+\u001b[39m \u001b[39mstr\u001b[39m(data_shape))\n\u001b[0;32m    <a href='file:///c%3A/Users/ellio/AppData/Local/Programs/Python/Python310/lib/site-packages/keras/engine/training_utils_v1.py?line=636'>637</a>\u001b[0m \u001b[39mif\u001b[39;00m \u001b[39mnot\u001b[39;00m check_batch_axis:\n\u001b[0;32m    <a href='file:///c%3A/Users/ellio/AppData/Local/Programs/Python/Python310/lib/site-packages/keras/engine/training_utils_v1.py?line=637'>638</a>\u001b[0m   data_shape \u001b[39m=\u001b[39m data_shape[\u001b[39m1\u001b[39m:]\n",
      "\u001b[1;31mValueError\u001b[0m: Error when checking input: expected input_3 to have 2 dimensions, but got array with shape (1, 1, 4, 4)"
     ]
    }
   ],
   "source": [
    "dqn = build_agent(model, actions)\n",
    "dqn.compile(Adam(lr=1e-3), metrics=['mae'])\n",
    "dqn.fit(env, nb_steps=50000, visualize=False, verbose=1)"
   ]
  },
  {
   "cell_type": "code",
   "execution_count": null,
   "metadata": {},
   "outputs": [],
   "source": [
    "scores = dqn.test(env, nb_episodes=100, visualize=False)\n",
    "print(np.mean(scores.history['episode_reward']))\n",
    "_ = dqn.test(env, nb_episodes=15, visualize=True)"
   ]
  }
 ],
 "metadata": {
  "interpreter": {
   "hash": "af8704e19de21468eae1093621a2c8b6a787155c45e4386acc9bc35f30ec814d"
  },
  "kernelspec": {
   "display_name": "Python 3.8.12 ('base')",
   "language": "python",
   "name": "python3"
  },
  "language_info": {
   "codemirror_mode": {
    "name": "ipython",
    "version": 3
   },
   "file_extension": ".py",
   "mimetype": "text/x-python",
   "name": "python",
   "nbconvert_exporter": "python",
   "pygments_lexer": "ipython3",
   "version": "3.8.12"
  },
  "orig_nbformat": 4
 },
 "nbformat": 4,
 "nbformat_minor": 2
}
