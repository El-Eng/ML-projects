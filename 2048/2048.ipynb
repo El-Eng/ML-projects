{
 "cells": [
  {
   "cell_type": "code",
   "execution_count": null,
   "metadata": {},
   "outputs": [],
   "source": [
    "from gym import Env\n",
    "from gym.space import Discrete, Box\n",
    "import numpy as np\n",
    "import random"
   ]
  },
  {
   "cell_type": "code",
   "execution_count": null,
   "metadata": {},
   "outputs": [],
   "source": [
    "class 2048Env(Env):\n",
    "    def __init__(self):\n",
    "        #Actions you can take\n",
    "        self.action_space = Discrete(4)\n",
    "        #Grid board\n",
    "        nrow = 4\n",
    "        ncol = 4\n",
    "        self.nrow, self.ncol = nrow, ncol\n",
    "        self.observation_space = Discrete(nrow * ncol)\n",
    "        # Set start board\n",
    "        start = np.zeros((3, 3))\n",
    "        start[random.randint(0,9)] = random.choices([2,4], weights=(90, 10) )\n",
    "        self.state = start\n",
    "    \n",
    "    def (self, action):\n",
    "        # up = 0, right = 1, down = 2, left = 3\n",
    "        if action == 1:\n",
    "            temp = self.state\n",
    "            for row in temp:\n",
    "                for index, column_val in enumerate(reversed(row)):\n",
    "                    if column_val == row[index-1]:\n",
    "                        column_val = column_val * 2\n",
    "                        row[index-1] = 0\n",
    "            for row in temp:\n",
    "                for index, column_val in enumerate(reversed(row)):\n",
    "                    if any(row[:index]):\n",
    "                        while column_val == 0:\n",
    "                            row = [0] + row[:index-1] + row[index+1:]\n",
    "            \n",
    "\n",
    "\n",
    "\n",
    "            \n",
    "            self.state = \n",
    "\n",
    "        "
   ]
  }
 ],
 "metadata": {
  "language_info": {
   "name": "python"
  },
  "orig_nbformat": 4
 },
 "nbformat": 4,
 "nbformat_minor": 2
}
