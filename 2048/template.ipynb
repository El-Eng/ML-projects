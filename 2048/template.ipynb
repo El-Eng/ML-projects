{
 "cells": [
  {
   "cell_type": "code",
   "execution_count": 1,
   "metadata": {},
   "outputs": [],
   "source": [
    "import numpy as np\n",
    "import gym\n",
    "from gym import Env, spaces, utils\n",
    "import pygame\n",
    "from typing import Optional\n",
    "from io import StringIO\n",
    "from contextlib import closing"
   ]
  },
  {
   "cell_type": "code",
   "execution_count": 10,
   "metadata": {},
   "outputs": [
    {
     "name": "stderr",
     "output_type": "stream",
     "text": [
      "c:\\Users\\ellio\\AppData\\Local\\Programs\\Python\\Python310\\lib\\site-packages\\gym\\spaces\\box.py:112: UserWarning: \u001b[33mWARN: Box bound precision lowered by casting to float32\u001b[0m\n",
      "  logger.warn(f\"Box bound precision lowered by casting to {self.dtype}\")\n"
     ]
    },
    {
     "data": {
      "text/plain": [
       "'[0.0, 0.0, 0.0, 0.0]\\n[0.0, 0.0, 0.0, 0.0]\\n[0.0, 0.0, 0.0, 0.0]\\n[2.0, 0.0, 0.0, 0.0]\\n'"
      ]
     },
     "execution_count": 10,
     "metadata": {},
     "output_type": "execute_result"
    }
   ],
   "source": [
    "env = BlockDoubleEnv()\n",
    "env.reset()\n",
    "action = env.action_space.sample()\n",
    "observation, reward, done, info = env.step(action)\n",
    "env.render(mode = \"ansi\")"
   ]
  },
  {
   "cell_type": "code",
   "execution_count": 9,
   "metadata": {},
   "outputs": [],
   "source": [
    "class BlockDoubleEnv(gym.Env):\n",
    "    metadata = {\"render_modes\": [\"human\", \"ansi\"], \"render_fps\": 4}\n",
    "\n",
    "    def __init__(self, render_mode: Optional[str] = None, size: int = 4):\n",
    "        assert render_mode is None or render_mode in self.metadata[\"render_modes\"]\n",
    "        render_mode = 'ansi'\n",
    "        self.size = size  # The size of the square grid\n",
    "        self.window_size = 512  # The size of the PyGame window\n",
    "\n",
    "        # Observations are dictionaries with the agent's and the target's location.\n",
    "        # box\n",
    "        self.observation_space = spaces.Box(np.array((0, 2)), np.array((self.size-1, 2048)))\n",
    "\n",
    "        # We have 4 actions, corresponding to \"right\", \"up\", \"left\", \"down\", \"right\"\n",
    "        self.action_space = spaces.Discrete(4)\n",
    "\n",
    "        \"\"\"\n",
    "        If human-rendering is used, `self.window` will be a reference\n",
    "        to the window that we draw to. `self.clock` will be a clock that is used\n",
    "        to ensure that the environment is rendered at the correct framerate in\n",
    "        human-mode. They will remain `None` until human-mode is used for the\n",
    "        first time.\n",
    "        \"\"\"\n",
    "        # if render_mode == \"human\":\n",
    "        #     import pygame  # import here to avoid pygame dependency with no render\n",
    "\n",
    "        #     pygame.init()\n",
    "        #     pygame.display.init()\n",
    "        #     self.window = pygame.display.set_mode((self.window_size, self.window_size))\n",
    "        #     self.clock = pygame.time.Clock()\n",
    "\n",
    "        self.window = None\n",
    "        self.clock = None\n",
    "        #self.renderer = Renderer(render_mode, self._render_frame)\n",
    "    def _get_obs(self):\n",
    "        return  self._boardstate\n",
    "\n",
    "    def _get_info(self):\n",
    "        return {\"score\": np.amax(self._boardstate)}\n",
    "\n",
    "    def reset(self, seed=None, return_info=False, options=None):\n",
    "        # We need the following line to seed self.np_random\n",
    "        super().reset(seed=seed)\n",
    "\n",
    "        # Set board to reset with random tile a 2\n",
    "        boardstart = np.zeros((self.size,self.size))\n",
    "        boardstart[self.np_random.integers(0, self.size-1)][self.np_random.integers(0, self.size-1)] = 2\n",
    "        self._boardstate = boardstart\n",
    "        \n",
    "        # self.renderer.reset()\n",
    "        # self.renderer.render_step()\n",
    "\n",
    "        observation = self._get_obs()\n",
    "        info = self._get_info()\n",
    "        return (observation, info) if return_info else observation\n",
    "\n",
    "    def step(self, action, done=False):\n",
    "        info = self._get_info()\n",
    "        # 0,1,2,3 => up,right,down,left (left right odd)\n",
    "        direction = action + 1\n",
    "        # Logic for shiftng board left and right\n",
    "        flip = np.rot90(self._boardstate, direction)\n",
    "        shift = np.zeros((self.size,self.size))\n",
    "        # Shifts left to right\n",
    "        for key, row in enumerate(flip):\n",
    "            row = row[row != 0]\n",
    "            x = len(row)-1\n",
    "            while 0 < x:\n",
    "                print(x)\n",
    "                while row[x] == row[x-1]:\n",
    "                    row[x] = row[x]^2\n",
    "                else:\n",
    "                    x -= 1\n",
    "            shift[key] = np.pad(row,(0, self.size - len(row)), 'constant')\n",
    "\n",
    "        result = np.rot90(shift, 4-direction)\n",
    "        self._boardstate = result\n",
    "\n",
    "        point = 0\n",
    "        # if larger tile number than before grant a point\n",
    "        if self._boardstate.max() > info['score']:\n",
    "            point = 0.1\n",
    "\n",
    "        # An episode is done if the max tile is 2048\n",
    "        \n",
    "        if self._boardstate.max() >= 2048:\n",
    "            done=True \n",
    "\n",
    "        reward = 1 if done else point  # Binary sparse rewards\n",
    "\n",
    "        observation = self._get_obs()\n",
    "        info = self._get_info()\n",
    "\n",
    "        return observation, reward, done, info\n",
    "\n",
    "    def render(self, mode=\"human\"):\n",
    "        desc = self._boardstate.tolist()\n",
    "        if mode == \"ansi\":\n",
    "            return self._render_text(desc)\n",
    "        else:\n",
    "            return self._render_gui(desc, mode)\n",
    "\n",
    "    def _render_text(self, desc):\n",
    "        outfile = StringIO()\n",
    "        # desc=[\"SFFF\", \"FHFH\", \"FFFH\", \"HFFG\"].\n",
    "        #desc = [[c for c in line] for line in desc]\n",
    "        #outfile.write(\"\\n\".join(\"\".join(str(line)) for line in ) + \"\\n\")\n",
    "        outfile.write(\"\\n\".join(\"\".join(str(line)) for line in desc) + \"\\n\")\n",
    "\n",
    "        with closing(outfile):\n",
    "            return outfile.getvalue()\n",
    "\n",
    "    def close(self):\n",
    "        if self.window is not None:\n",
    "            pygame.display.quit()\n",
    "            pygame.quit()"
   ]
  },
  {
   "cell_type": "code",
   "execution_count": null,
   "metadata": {},
   "outputs": [],
   "source": [
    "from gym.envs.registration import register\n",
    "import gym_examples\n",
    "\n",
    "register(\n",
    "    id='gym_examples/BlockDouble-v1',\n",
    "    entry_point='gym_examples.envs:GridWorldEnv',\n",
    "    max_episode_steps=300,\n",
    ")"
   ]
  },
  {
   "cell_type": "code",
   "execution_count": null,
   "metadata": {},
   "outputs": [],
   "source": [
    "env = gym.make('gym_examples/BlockDouble-v1')\n"
   ]
  },
  {
   "cell_type": "code",
   "execution_count": null,
   "metadata": {},
   "outputs": [],
   "source": []
  },
  {
   "cell_type": "code",
   "execution_count": null,
   "metadata": {},
   "outputs": [
    {
     "name": "stdout",
     "output_type": "stream",
     "text": [
      "[[0. 0. 0. 0.]\n",
      " [0. 0. 0. 0.]\n",
      " [0. 0. 0. 0.]\n",
      " [0. 0. 0. 0.]]\n"
     ]
    },
    {
     "ename": "TypeError",
     "evalue": "'int' object is not subscriptable",
     "output_type": "error",
     "traceback": [
      "\u001b[1;31m---------------------------------------------------------------------------\u001b[0m",
      "\u001b[1;31mTypeError\u001b[0m                                 Traceback (most recent call last)",
      "\u001b[1;32mC:\\Users\\ELLIOT~1.SMY\\AppData\\Local\\Temp/ipykernel_18104/1294169045.py\u001b[0m in \u001b[0;36m<module>\u001b[1;34m\u001b[0m\n\u001b[0;32m      1\u001b[0m \u001b[0menv\u001b[0m\u001b[1;33m.\u001b[0m\u001b[0mreset\u001b[0m\u001b[1;33m(\u001b[0m\u001b[1;33m)\u001b[0m\u001b[1;33m\u001b[0m\u001b[1;33m\u001b[0m\u001b[0m\n\u001b[0;32m      2\u001b[0m \u001b[0maction\u001b[0m \u001b[1;33m=\u001b[0m \u001b[0menv\u001b[0m\u001b[1;33m.\u001b[0m\u001b[0maction_space\u001b[0m\u001b[1;33m.\u001b[0m\u001b[0msample\u001b[0m\u001b[1;33m(\u001b[0m\u001b[1;33m)\u001b[0m\u001b[1;33m\u001b[0m\u001b[1;33m\u001b[0m\u001b[0m\n\u001b[1;32m----> 3\u001b[1;33m \u001b[0mobservation\u001b[0m\u001b[1;33m,\u001b[0m \u001b[0mreward\u001b[0m\u001b[1;33m,\u001b[0m \u001b[0mdone\u001b[0m\u001b[1;33m,\u001b[0m \u001b[0minfo\u001b[0m \u001b[1;33m=\u001b[0m \u001b[0menv\u001b[0m\u001b[1;33m.\u001b[0m\u001b[0mstep\u001b[0m\u001b[1;33m(\u001b[0m\u001b[0maction\u001b[0m\u001b[1;33m)\u001b[0m\u001b[1;33m\u001b[0m\u001b[1;33m\u001b[0m\u001b[0m\n\u001b[0m\u001b[0;32m      4\u001b[0m \u001b[0menv\u001b[0m\u001b[1;33m.\u001b[0m\u001b[0mrender\u001b[0m\u001b[1;33m(\u001b[0m\u001b[0mmode\u001b[0m \u001b[1;33m=\u001b[0m \u001b[1;34m\"ansi\"\u001b[0m\u001b[1;33m)\u001b[0m\u001b[1;33m\u001b[0m\u001b[1;33m\u001b[0m\u001b[0m\n",
      "\u001b[1;32mC:\\Users\\ELLIOT~1.SMY\\AppData\\Local\\Temp/ipykernel_18104/4216840239.py\u001b[0m in \u001b[0;36mstep\u001b[1;34m(self, action)\u001b[0m\n\u001b[0;32m     65\u001b[0m         \u001b[1;31m# Shifts left to right\u001b[0m\u001b[1;33m\u001b[0m\u001b[1;33m\u001b[0m\u001b[0m\n\u001b[0;32m     66\u001b[0m         \u001b[1;32mfor\u001b[0m \u001b[0mrow\u001b[0m\u001b[1;33m,\u001b[0m \u001b[0mkey\u001b[0m \u001b[1;32min\u001b[0m \u001b[0menumerate\u001b[0m\u001b[1;33m(\u001b[0m\u001b[0mflip\u001b[0m\u001b[1;33m)\u001b[0m\u001b[1;33m:\u001b[0m\u001b[1;33m\u001b[0m\u001b[1;33m\u001b[0m\u001b[0m\n\u001b[1;32m---> 67\u001b[1;33m             \u001b[0mrow\u001b[0m \u001b[1;33m=\u001b[0m \u001b[0mrow\u001b[0m\u001b[1;33m[\u001b[0m\u001b[0mrow\u001b[0m \u001b[1;33m!=\u001b[0m \u001b[1;36m0\u001b[0m\u001b[1;33m]\u001b[0m\u001b[1;33m\u001b[0m\u001b[1;33m\u001b[0m\u001b[0m\n\u001b[0m\u001b[0;32m     68\u001b[0m             \u001b[0mx\u001b[0m \u001b[1;33m=\u001b[0m \u001b[0mlen\u001b[0m\u001b[1;33m(\u001b[0m\u001b[0mrow\u001b[0m\u001b[1;33m)\u001b[0m\u001b[1;33m\u001b[0m\u001b[1;33m\u001b[0m\u001b[0m\n\u001b[0;32m     69\u001b[0m             \u001b[1;32mwhile\u001b[0m \u001b[1;36m0\u001b[0m \u001b[1;33m<\u001b[0m \u001b[0mx\u001b[0m\u001b[1;33m:\u001b[0m\u001b[1;33m\u001b[0m\u001b[1;33m\u001b[0m\u001b[0m\n",
      "\u001b[1;31mTypeError\u001b[0m: 'int' object is not subscriptable"
     ]
    }
   ],
   "source": [
    "env.reset()\n",
    "action = env.action_space.sample()\n",
    "observation, reward, done, info = env.step(action)\n",
    "env.render(mode = \"ansi\")"
   ]
  },
  {
   "cell_type": "code",
   "execution_count": null,
   "metadata": {},
   "outputs": [],
   "source": [
    "\n",
    "for _ in range(1000):\n",
    "    action = env.action_space.sample()\n",
    "    observation, reward, done, info = env.step(action)\n",
    "    env.render(mode = \"ansi\")\n",
    "    if done:\n",
    "        observation, info = env.reset(return_info=True)\n",
    "env.close()\n"
   ]
  }
 ],
 "metadata": {
  "interpreter": {
   "hash": "f0ec4b0e89c119eb2bf145a02ed567940ed0efbda2b6b4ad1ff613fadcc3a6d7"
  },
  "kernelspec": {
   "display_name": "Python 3.10.4 64-bit",
   "language": "python",
   "name": "python3"
  },
  "language_info": {
   "codemirror_mode": {
    "name": "ipython",
    "version": 3
   },
   "file_extension": ".py",
   "mimetype": "text/x-python",
   "name": "python",
   "nbconvert_exporter": "python",
   "pygments_lexer": "ipython3",
   "version": "3.10.4"
  },
  "orig_nbformat": 4
 },
 "nbformat": 4,
 "nbformat_minor": 2
}
